{
 "cells": [
  {
   "cell_type": "markdown",
   "id": "ba0da8c8-341a-438c-b4f5-6652c5fbcf4f",
   "metadata": {},
   "source": [
    "## Import the required libraries"
   ]
  },
  {
   "cell_type": "code",
   "execution_count": 1,
   "id": "6e7bdb14-5e73-4f6f-95ec-92640512e28e",
   "metadata": {},
   "outputs": [],
   "source": [
    "import numpy as np\n",
    "import pandas as pd\n",
    "import seaborn as sns\n",
    "import matplotlib.pyplot as plt\n",
    "%matplotlib inline\n",
    "import warnings\n",
    "warnings.filterwarnings(\"ignore\")"
   ]
  },
  {
   "cell_type": "markdown",
   "id": "7371b1a0-d964-4b1a-914b-52c1579c067b",
   "metadata": {},
   "source": [
    "## Importing the Dataset"
   ]
  },
  {
   "cell_type": "code",
   "execution_count": 2,
   "id": "fc5643bd-a1f8-4858-b171-6daeabfa532f",
   "metadata": {},
   "outputs": [],
   "source": [
    "# reading the data\n",
    "df=pd.read_csv('car_price_prediction.csv')"
   ]
  },
  {
   "cell_type": "code",
   "execution_count": 3,
   "id": "299be68a-d8b1-4fc7-b0f6-a31d2733663f",
   "metadata": {},
   "outputs": [
    {
     "data": {
      "text/html": [
       "<div>\n",
       "<style scoped>\n",
       "    .dataframe tbody tr th:only-of-type {\n",
       "        vertical-align: middle;\n",
       "    }\n",
       "\n",
       "    .dataframe tbody tr th {\n",
       "        vertical-align: top;\n",
       "    }\n",
       "\n",
       "    .dataframe thead th {\n",
       "        text-align: right;\n",
       "    }\n",
       "</style>\n",
       "<table border=\"1\" class=\"dataframe\">\n",
       "  <thead>\n",
       "    <tr style=\"text-align: right;\">\n",
       "      <th></th>\n",
       "      <th>ID</th>\n",
       "      <th>Price</th>\n",
       "      <th>Levy</th>\n",
       "      <th>Manufacturer</th>\n",
       "      <th>Model</th>\n",
       "      <th>Prod. year</th>\n",
       "      <th>Category</th>\n",
       "      <th>Leather interior</th>\n",
       "      <th>Fuel type</th>\n",
       "      <th>Engine volume</th>\n",
       "      <th>Mileage</th>\n",
       "      <th>Cylinders</th>\n",
       "      <th>Gear box type</th>\n",
       "      <th>Drive wheels</th>\n",
       "      <th>Doors</th>\n",
       "      <th>Wheel</th>\n",
       "      <th>Color</th>\n",
       "      <th>Airbags</th>\n",
       "    </tr>\n",
       "  </thead>\n",
       "  <tbody>\n",
       "    <tr>\n",
       "      <th>0</th>\n",
       "      <td>45654403</td>\n",
       "      <td>13328</td>\n",
       "      <td>1399</td>\n",
       "      <td>LEXUS</td>\n",
       "      <td>RX 450</td>\n",
       "      <td>2010</td>\n",
       "      <td>Jeep</td>\n",
       "      <td>Yes</td>\n",
       "      <td>Hybrid</td>\n",
       "      <td>3.5</td>\n",
       "      <td>186005 km</td>\n",
       "      <td>6.0</td>\n",
       "      <td>Automatic</td>\n",
       "      <td>4x4</td>\n",
       "      <td>04-May</td>\n",
       "      <td>Left wheel</td>\n",
       "      <td>Silver</td>\n",
       "      <td>12</td>\n",
       "    </tr>\n",
       "    <tr>\n",
       "      <th>1</th>\n",
       "      <td>44731507</td>\n",
       "      <td>16621</td>\n",
       "      <td>1018</td>\n",
       "      <td>CHEVROLET</td>\n",
       "      <td>Equinox</td>\n",
       "      <td>2011</td>\n",
       "      <td>Jeep</td>\n",
       "      <td>No</td>\n",
       "      <td>Petrol</td>\n",
       "      <td>3</td>\n",
       "      <td>192000 km</td>\n",
       "      <td>6.0</td>\n",
       "      <td>Tiptronic</td>\n",
       "      <td>4x4</td>\n",
       "      <td>04-May</td>\n",
       "      <td>Left wheel</td>\n",
       "      <td>Black</td>\n",
       "      <td>8</td>\n",
       "    </tr>\n",
       "    <tr>\n",
       "      <th>2</th>\n",
       "      <td>45774419</td>\n",
       "      <td>8467</td>\n",
       "      <td>-</td>\n",
       "      <td>HONDA</td>\n",
       "      <td>FIT</td>\n",
       "      <td>2006</td>\n",
       "      <td>Hatchback</td>\n",
       "      <td>No</td>\n",
       "      <td>Petrol</td>\n",
       "      <td>1.3</td>\n",
       "      <td>200000 km</td>\n",
       "      <td>4.0</td>\n",
       "      <td>Variator</td>\n",
       "      <td>Front</td>\n",
       "      <td>04-May</td>\n",
       "      <td>Right-hand drive</td>\n",
       "      <td>Black</td>\n",
       "      <td>2</td>\n",
       "    </tr>\n",
       "    <tr>\n",
       "      <th>3</th>\n",
       "      <td>45769185</td>\n",
       "      <td>3607</td>\n",
       "      <td>862</td>\n",
       "      <td>FORD</td>\n",
       "      <td>Escape</td>\n",
       "      <td>2011</td>\n",
       "      <td>Jeep</td>\n",
       "      <td>Yes</td>\n",
       "      <td>Hybrid</td>\n",
       "      <td>2.5</td>\n",
       "      <td>168966 km</td>\n",
       "      <td>4.0</td>\n",
       "      <td>Automatic</td>\n",
       "      <td>4x4</td>\n",
       "      <td>04-May</td>\n",
       "      <td>Left wheel</td>\n",
       "      <td>White</td>\n",
       "      <td>0</td>\n",
       "    </tr>\n",
       "    <tr>\n",
       "      <th>4</th>\n",
       "      <td>45809263</td>\n",
       "      <td>11726</td>\n",
       "      <td>446</td>\n",
       "      <td>HONDA</td>\n",
       "      <td>FIT</td>\n",
       "      <td>2014</td>\n",
       "      <td>Hatchback</td>\n",
       "      <td>Yes</td>\n",
       "      <td>Petrol</td>\n",
       "      <td>1.3</td>\n",
       "      <td>91901 km</td>\n",
       "      <td>4.0</td>\n",
       "      <td>Automatic</td>\n",
       "      <td>Front</td>\n",
       "      <td>04-May</td>\n",
       "      <td>Left wheel</td>\n",
       "      <td>Silver</td>\n",
       "      <td>4</td>\n",
       "    </tr>\n",
       "  </tbody>\n",
       "</table>\n",
       "</div>"
      ],
      "text/plain": [
       "         ID  Price  Levy Manufacturer    Model  Prod. year   Category  \\\n",
       "0  45654403  13328  1399        LEXUS   RX 450        2010       Jeep   \n",
       "1  44731507  16621  1018    CHEVROLET  Equinox        2011       Jeep   \n",
       "2  45774419   8467     -        HONDA      FIT        2006  Hatchback   \n",
       "3  45769185   3607   862         FORD   Escape        2011       Jeep   \n",
       "4  45809263  11726   446        HONDA      FIT        2014  Hatchback   \n",
       "\n",
       "  Leather interior Fuel type Engine volume    Mileage  Cylinders  \\\n",
       "0              Yes    Hybrid           3.5  186005 km        6.0   \n",
       "1               No    Petrol             3  192000 km        6.0   \n",
       "2               No    Petrol           1.3  200000 km        4.0   \n",
       "3              Yes    Hybrid           2.5  168966 km        4.0   \n",
       "4              Yes    Petrol           1.3   91901 km        4.0   \n",
       "\n",
       "  Gear box type Drive wheels   Doors             Wheel   Color  Airbags  \n",
       "0     Automatic          4x4  04-May        Left wheel  Silver       12  \n",
       "1     Tiptronic          4x4  04-May        Left wheel   Black        8  \n",
       "2      Variator        Front  04-May  Right-hand drive   Black        2  \n",
       "3     Automatic          4x4  04-May        Left wheel   White        0  \n",
       "4     Automatic        Front  04-May        Left wheel  Silver        4  "
      ]
     },
     "execution_count": 3,
     "metadata": {},
     "output_type": "execute_result"
    }
   ],
   "source": [
    "# Visualizing the table\n",
    "df.head()"
   ]
  },
  {
   "cell_type": "markdown",
   "id": "f7d6f22b-c085-4b23-99b2-ed2887d987bb",
   "metadata": {},
   "source": [
    "# 1. About the Data"
   ]
  },
  {
   "cell_type": "markdown",
   "id": "a8978631-18f8-4b23-9283-abbc16a6a1e8",
   "metadata": {},
   "source": [
    "This dataset is taken from Kaggle.com. This dataset is taken because of it's versatile nature of attributes along with size.Below the name of attributes along with the datatype is shown."
   ]
  },
  {
   "cell_type": "code",
   "execution_count": 4,
   "id": "4dedfdab-7fcb-4c73-86bb-72fa149be9f0",
   "metadata": {},
   "outputs": [
    {
     "name": "stdout",
     "output_type": "stream",
     "text": [
      "<class 'pandas.core.frame.DataFrame'>\n",
      "RangeIndex: 19237 entries, 0 to 19236\n",
      "Data columns (total 18 columns):\n",
      " #   Column            Non-Null Count  Dtype  \n",
      "---  ------            --------------  -----  \n",
      " 0   ID                19237 non-null  int64  \n",
      " 1   Price             19237 non-null  int64  \n",
      " 2   Levy              19237 non-null  object \n",
      " 3   Manufacturer      19237 non-null  object \n",
      " 4   Model             19237 non-null  object \n",
      " 5   Prod. year        19237 non-null  int64  \n",
      " 6   Category          19237 non-null  object \n",
      " 7   Leather interior  19237 non-null  object \n",
      " 8   Fuel type         19237 non-null  object \n",
      " 9   Engine volume     19237 non-null  object \n",
      " 10  Mileage           19237 non-null  object \n",
      " 11  Cylinders         19237 non-null  float64\n",
      " 12  Gear box type     19237 non-null  object \n",
      " 13  Drive wheels      19237 non-null  object \n",
      " 14  Doors             19237 non-null  object \n",
      " 15  Wheel             19237 non-null  object \n",
      " 16  Color             19237 non-null  object \n",
      " 17  Airbags           19237 non-null  int64  \n",
      "dtypes: float64(1), int64(4), object(13)\n",
      "memory usage: 2.6+ MB\n"
     ]
    }
   ],
   "source": [
    "# Information of the dataset\n",
    "df.info()"
   ]
  },
  {
   "cell_type": "markdown",
   "id": "af393bfb-cf72-4c7f-80af-1f1bfbdeab23",
   "metadata": {},
   "source": [
    "From the above table it can be realized that the datatype of some of the variable may not be right like Engine Volume, Mileage. We will deal with it it the later section."
   ]
  },
  {
   "cell_type": "markdown",
   "id": "664d99fc-1f89-429c-99e2-ac5cc67c2b34",
   "metadata": {},
   "source": [
    "# 2. Objectives"
   ]
  },
  {
   "cell_type": "markdown",
   "id": "32925735-7925-413f-ba17-91d0243341bb",
   "metadata": {},
   "source": [
    "The main objective of this study will be to give good prediction. Because of the size of the dataset the interpretibility of the dataset can be quite complex.\n",
    "\n",
    "1. At first, we will do Data cleaning and Feature Engineering.\n",
    "2. Then we will fit a Linear regression model.\n",
    "3. Atter evaluating the results we will try to fit polynominal features.\n",
    "4. Then will we apply regularization techniques along with hyperparameter tuning to improve the predictive power of our model."
   ]
  },
  {
   "cell_type": "markdown",
   "id": "44580477-3edf-4778-bf1a-1a3ea14ebb1a",
   "metadata": {},
   "source": [
    "# 3.Data cleaning and Feature Engineering"
   ]
  },
  {
   "cell_type": "markdown",
   "id": "2023e49f-a3a8-4b7c-b35a-57326761940b",
   "metadata": {},
   "source": [
    "The first step of this process to find out the duplicates and removing them from the dataset. From this operation ID attribute is used to find out the duplicates."
   ]
  },
  {
   "cell_type": "code",
   "execution_count": 5,
   "id": "70f8e465-247f-4e2d-a1fb-0c66d2cf0b15",
   "metadata": {},
   "outputs": [
    {
     "data": {
      "text/html": [
       "<div>\n",
       "<style scoped>\n",
       "    .dataframe tbody tr th:only-of-type {\n",
       "        vertical-align: middle;\n",
       "    }\n",
       "\n",
       "    .dataframe tbody tr th {\n",
       "        vertical-align: top;\n",
       "    }\n",
       "\n",
       "    .dataframe thead th {\n",
       "        text-align: right;\n",
       "    }\n",
       "</style>\n",
       "<table border=\"1\" class=\"dataframe\">\n",
       "  <thead>\n",
       "    <tr style=\"text-align: right;\">\n",
       "      <th></th>\n",
       "      <th>ID</th>\n",
       "      <th>Price</th>\n",
       "      <th>Levy</th>\n",
       "      <th>Manufacturer</th>\n",
       "      <th>Model</th>\n",
       "      <th>Prod. year</th>\n",
       "      <th>Category</th>\n",
       "      <th>Leather interior</th>\n",
       "      <th>Fuel type</th>\n",
       "      <th>Engine volume</th>\n",
       "      <th>Mileage</th>\n",
       "      <th>Cylinders</th>\n",
       "      <th>Gear box type</th>\n",
       "      <th>Drive wheels</th>\n",
       "      <th>Doors</th>\n",
       "      <th>Wheel</th>\n",
       "      <th>Color</th>\n",
       "      <th>Airbags</th>\n",
       "    </tr>\n",
       "  </thead>\n",
       "  <tbody>\n",
       "    <tr>\n",
       "      <th>425</th>\n",
       "      <td>45815372</td>\n",
       "      <td>7840</td>\n",
       "      <td>-</td>\n",
       "      <td>MERCEDES-BENZ</td>\n",
       "      <td>E 200</td>\n",
       "      <td>1998</td>\n",
       "      <td>Sedan</td>\n",
       "      <td>No</td>\n",
       "      <td>CNG</td>\n",
       "      <td>2</td>\n",
       "      <td>180003 km</td>\n",
       "      <td>4.0</td>\n",
       "      <td>Manual</td>\n",
       "      <td>Rear</td>\n",
       "      <td>04-May</td>\n",
       "      <td>Left wheel</td>\n",
       "      <td>Black</td>\n",
       "      <td>4</td>\n",
       "    </tr>\n",
       "    <tr>\n",
       "      <th>1581</th>\n",
       "      <td>45815363</td>\n",
       "      <td>8781</td>\n",
       "      <td>-</td>\n",
       "      <td>TOYOTA</td>\n",
       "      <td>Ist</td>\n",
       "      <td>2002</td>\n",
       "      <td>Hatchback</td>\n",
       "      <td>No</td>\n",
       "      <td>Petrol</td>\n",
       "      <td>1.5</td>\n",
       "      <td>117000 km</td>\n",
       "      <td>4.0</td>\n",
       "      <td>Automatic</td>\n",
       "      <td>4x4</td>\n",
       "      <td>04-May</td>\n",
       "      <td>Right-hand drive</td>\n",
       "      <td>Red</td>\n",
       "      <td>4</td>\n",
       "    </tr>\n",
       "    <tr>\n",
       "      <th>1697</th>\n",
       "      <td>45732125</td>\n",
       "      <td>18503</td>\n",
       "      <td>-</td>\n",
       "      <td>TOYOTA</td>\n",
       "      <td>Prius</td>\n",
       "      <td>2010</td>\n",
       "      <td>Sedan</td>\n",
       "      <td>No</td>\n",
       "      <td>Petrol</td>\n",
       "      <td>1.8</td>\n",
       "      <td>162000 km</td>\n",
       "      <td>4.0</td>\n",
       "      <td>Automatic</td>\n",
       "      <td>Front</td>\n",
       "      <td>04-May</td>\n",
       "      <td>Left wheel</td>\n",
       "      <td>Grey</td>\n",
       "      <td>12</td>\n",
       "    </tr>\n",
       "    <tr>\n",
       "      <th>1972</th>\n",
       "      <td>45507765</td>\n",
       "      <td>20385</td>\n",
       "      <td>-</td>\n",
       "      <td>MERCEDES-BENZ</td>\n",
       "      <td>CLS 500</td>\n",
       "      <td>2005</td>\n",
       "      <td>Sedan</td>\n",
       "      <td>Yes</td>\n",
       "      <td>Petrol</td>\n",
       "      <td>5</td>\n",
       "      <td>230000 km</td>\n",
       "      <td>8.0</td>\n",
       "      <td>Tiptronic</td>\n",
       "      <td>Rear</td>\n",
       "      <td>04-May</td>\n",
       "      <td>Left wheel</td>\n",
       "      <td>Silver</td>\n",
       "      <td>10</td>\n",
       "    </tr>\n",
       "    <tr>\n",
       "      <th>2131</th>\n",
       "      <td>45815363</td>\n",
       "      <td>8781</td>\n",
       "      <td>-</td>\n",
       "      <td>TOYOTA</td>\n",
       "      <td>Ist</td>\n",
       "      <td>2002</td>\n",
       "      <td>Hatchback</td>\n",
       "      <td>No</td>\n",
       "      <td>Petrol</td>\n",
       "      <td>1.5</td>\n",
       "      <td>117000 km</td>\n",
       "      <td>4.0</td>\n",
       "      <td>Automatic</td>\n",
       "      <td>4x4</td>\n",
       "      <td>04-May</td>\n",
       "      <td>Right-hand drive</td>\n",
       "      <td>Red</td>\n",
       "      <td>4</td>\n",
       "    </tr>\n",
       "    <tr>\n",
       "      <th>...</th>\n",
       "      <td>...</td>\n",
       "      <td>...</td>\n",
       "      <td>...</td>\n",
       "      <td>...</td>\n",
       "      <td>...</td>\n",
       "      <td>...</td>\n",
       "      <td>...</td>\n",
       "      <td>...</td>\n",
       "      <td>...</td>\n",
       "      <td>...</td>\n",
       "      <td>...</td>\n",
       "      <td>...</td>\n",
       "      <td>...</td>\n",
       "      <td>...</td>\n",
       "      <td>...</td>\n",
       "      <td>...</td>\n",
       "      <td>...</td>\n",
       "      <td>...</td>\n",
       "    </tr>\n",
       "    <tr>\n",
       "      <th>18974</th>\n",
       "      <td>45815465</td>\n",
       "      <td>2352</td>\n",
       "      <td>1273</td>\n",
       "      <td>LEXUS</td>\n",
       "      <td>IS 350</td>\n",
       "      <td>2015</td>\n",
       "      <td>Sedan</td>\n",
       "      <td>Yes</td>\n",
       "      <td>Petrol</td>\n",
       "      <td>3.5</td>\n",
       "      <td>80856 km</td>\n",
       "      <td>6.0</td>\n",
       "      <td>Automatic</td>\n",
       "      <td>4x4</td>\n",
       "      <td>04-May</td>\n",
       "      <td>Left wheel</td>\n",
       "      <td>Black</td>\n",
       "      <td>12</td>\n",
       "    </tr>\n",
       "    <tr>\n",
       "      <th>19137</th>\n",
       "      <td>45810466</td>\n",
       "      <td>15125</td>\n",
       "      <td>642</td>\n",
       "      <td>CHEVROLET</td>\n",
       "      <td>Orlando</td>\n",
       "      <td>2012</td>\n",
       "      <td>Jeep</td>\n",
       "      <td>Yes</td>\n",
       "      <td>Diesel</td>\n",
       "      <td>2</td>\n",
       "      <td>156834 km</td>\n",
       "      <td>4.0</td>\n",
       "      <td>Automatic</td>\n",
       "      <td>Front</td>\n",
       "      <td>04-May</td>\n",
       "      <td>Left wheel</td>\n",
       "      <td>Golden</td>\n",
       "      <td>4</td>\n",
       "    </tr>\n",
       "    <tr>\n",
       "      <th>19200</th>\n",
       "      <td>45725908</td>\n",
       "      <td>36065</td>\n",
       "      <td>640</td>\n",
       "      <td>MERCEDES-BENZ</td>\n",
       "      <td>CLA 250 AMG</td>\n",
       "      <td>2013</td>\n",
       "      <td>Sedan</td>\n",
       "      <td>Yes</td>\n",
       "      <td>Petrol</td>\n",
       "      <td>2.0 Turbo</td>\n",
       "      <td>68000 km</td>\n",
       "      <td>4.0</td>\n",
       "      <td>Tiptronic</td>\n",
       "      <td>Front</td>\n",
       "      <td>04-May</td>\n",
       "      <td>Left wheel</td>\n",
       "      <td>Red</td>\n",
       "      <td>12</td>\n",
       "    </tr>\n",
       "    <tr>\n",
       "      <th>19203</th>\n",
       "      <td>45761487</td>\n",
       "      <td>13485</td>\n",
       "      <td>645</td>\n",
       "      <td>TOYOTA</td>\n",
       "      <td>Prius</td>\n",
       "      <td>2011</td>\n",
       "      <td>Sedan</td>\n",
       "      <td>No</td>\n",
       "      <td>Hybrid</td>\n",
       "      <td>1.8</td>\n",
       "      <td>281600 km</td>\n",
       "      <td>6.0</td>\n",
       "      <td>Automatic</td>\n",
       "      <td>Front</td>\n",
       "      <td>04-May</td>\n",
       "      <td>Left wheel</td>\n",
       "      <td>Grey</td>\n",
       "      <td>8</td>\n",
       "    </tr>\n",
       "    <tr>\n",
       "      <th>19210</th>\n",
       "      <td>45732939</td>\n",
       "      <td>8311</td>\n",
       "      <td>642</td>\n",
       "      <td>HYUNDAI</td>\n",
       "      <td>Sonata</td>\n",
       "      <td>2012</td>\n",
       "      <td>Sedan</td>\n",
       "      <td>Yes</td>\n",
       "      <td>LPG</td>\n",
       "      <td>2</td>\n",
       "      <td>36545 km</td>\n",
       "      <td>4.0</td>\n",
       "      <td>Automatic</td>\n",
       "      <td>Front</td>\n",
       "      <td>04-May</td>\n",
       "      <td>Left wheel</td>\n",
       "      <td>White</td>\n",
       "      <td>4</td>\n",
       "    </tr>\n",
       "  </tbody>\n",
       "</table>\n",
       "<p>313 rows × 18 columns</p>\n",
       "</div>"
      ],
      "text/plain": [
       "             ID  Price  Levy   Manufacturer        Model  Prod. year  \\\n",
       "425    45815372   7840     -  MERCEDES-BENZ        E 200        1998   \n",
       "1581   45815363   8781     -         TOYOTA          Ist        2002   \n",
       "1697   45732125  18503     -         TOYOTA        Prius        2010   \n",
       "1972   45507765  20385     -  MERCEDES-BENZ      CLS 500        2005   \n",
       "2131   45815363   8781     -         TOYOTA          Ist        2002   \n",
       "...         ...    ...   ...            ...          ...         ...   \n",
       "18974  45815465   2352  1273          LEXUS       IS 350        2015   \n",
       "19137  45810466  15125   642      CHEVROLET      Orlando        2012   \n",
       "19200  45725908  36065   640  MERCEDES-BENZ  CLA 250 AMG        2013   \n",
       "19203  45761487  13485   645         TOYOTA        Prius        2011   \n",
       "19210  45732939   8311   642        HYUNDAI       Sonata        2012   \n",
       "\n",
       "        Category Leather interior Fuel type Engine volume    Mileage  \\\n",
       "425        Sedan               No       CNG             2  180003 km   \n",
       "1581   Hatchback               No    Petrol           1.5  117000 km   \n",
       "1697       Sedan               No    Petrol           1.8  162000 km   \n",
       "1972       Sedan              Yes    Petrol             5  230000 km   \n",
       "2131   Hatchback               No    Petrol           1.5  117000 km   \n",
       "...          ...              ...       ...           ...        ...   \n",
       "18974      Sedan              Yes    Petrol           3.5   80856 km   \n",
       "19137       Jeep              Yes    Diesel             2  156834 km   \n",
       "19200      Sedan              Yes    Petrol     2.0 Turbo   68000 km   \n",
       "19203      Sedan               No    Hybrid           1.8  281600 km   \n",
       "19210      Sedan              Yes       LPG             2   36545 km   \n",
       "\n",
       "       Cylinders Gear box type Drive wheels   Doors             Wheel   Color  \\\n",
       "425          4.0        Manual         Rear  04-May        Left wheel   Black   \n",
       "1581         4.0     Automatic          4x4  04-May  Right-hand drive     Red   \n",
       "1697         4.0     Automatic        Front  04-May        Left wheel    Grey   \n",
       "1972         8.0     Tiptronic         Rear  04-May        Left wheel  Silver   \n",
       "2131         4.0     Automatic          4x4  04-May  Right-hand drive     Red   \n",
       "...          ...           ...          ...     ...               ...     ...   \n",
       "18974        6.0     Automatic          4x4  04-May        Left wheel   Black   \n",
       "19137        4.0     Automatic        Front  04-May        Left wheel  Golden   \n",
       "19200        4.0     Tiptronic        Front  04-May        Left wheel     Red   \n",
       "19203        6.0     Automatic        Front  04-May        Left wheel    Grey   \n",
       "19210        4.0     Automatic        Front  04-May        Left wheel   White   \n",
       "\n",
       "       Airbags  \n",
       "425          4  \n",
       "1581         4  \n",
       "1697        12  \n",
       "1972        10  \n",
       "2131         4  \n",
       "...        ...  \n",
       "18974       12  \n",
       "19137        4  \n",
       "19200       12  \n",
       "19203        8  \n",
       "19210        4  \n",
       "\n",
       "[313 rows x 18 columns]"
      ]
     },
     "execution_count": 5,
     "metadata": {},
     "output_type": "execute_result"
    }
   ],
   "source": [
    "# Check for duplicate data\n",
    "duplicate = df[df.duplicated(['ID'])]\n",
    "duplicate"
   ]
  },
  {
   "cell_type": "markdown",
   "id": "fc362622-71aa-497d-aaf4-63bb852ee0dc",
   "metadata": {},
   "source": [
    "We can see from the above table that there are 313 duplicate rows. We need to remove them as they will act as a real datapoint in the model so model will give levearage towards datapoints of this specifications."
   ]
  },
  {
   "cell_type": "code",
   "execution_count": 6,
   "id": "ad28e666-b1f7-49ec-9ddb-955ca1c59cf4",
   "metadata": {},
   "outputs": [],
   "source": [
    "# drop duplicate datapoints\n",
    "df.drop_duplicates(subset=\"ID\", keep=\"first\", inplace=True)"
   ]
  },
  {
   "cell_type": "code",
   "execution_count": 7,
   "id": "47a38398-8168-4e1c-a367-29cf6a978514",
   "metadata": {},
   "outputs": [
    {
     "data": {
      "text/html": [
       "<div>\n",
       "<style scoped>\n",
       "    .dataframe tbody tr th:only-of-type {\n",
       "        vertical-align: middle;\n",
       "    }\n",
       "\n",
       "    .dataframe tbody tr th {\n",
       "        vertical-align: top;\n",
       "    }\n",
       "\n",
       "    .dataframe thead th {\n",
       "        text-align: right;\n",
       "    }\n",
       "</style>\n",
       "<table border=\"1\" class=\"dataframe\">\n",
       "  <thead>\n",
       "    <tr style=\"text-align: right;\">\n",
       "      <th></th>\n",
       "      <th>ID</th>\n",
       "      <th>Price</th>\n",
       "      <th>Levy</th>\n",
       "      <th>Manufacturer</th>\n",
       "      <th>Model</th>\n",
       "      <th>Prod. year</th>\n",
       "      <th>Category</th>\n",
       "      <th>Leather interior</th>\n",
       "      <th>Fuel type</th>\n",
       "      <th>Engine volume</th>\n",
       "      <th>Mileage</th>\n",
       "      <th>Cylinders</th>\n",
       "      <th>Gear box type</th>\n",
       "      <th>Drive wheels</th>\n",
       "      <th>Doors</th>\n",
       "      <th>Wheel</th>\n",
       "      <th>Color</th>\n",
       "      <th>Airbags</th>\n",
       "    </tr>\n",
       "  </thead>\n",
       "  <tbody>\n",
       "  </tbody>\n",
       "</table>\n",
       "</div>"
      ],
      "text/plain": [
       "Empty DataFrame\n",
       "Columns: [ID, Price, Levy, Manufacturer, Model, Prod. year, Category, Leather interior, Fuel type, Engine volume, Mileage, Cylinders, Gear box type, Drive wheels, Doors, Wheel, Color, Airbags]\n",
       "Index: []"
      ]
     },
     "execution_count": 7,
     "metadata": {},
     "output_type": "execute_result"
    }
   ],
   "source": [
    "# Check for duplicate again\n",
    "duplicate = df[df.duplicated(['ID'])]\n",
    "duplicate"
   ]
  },
  {
   "cell_type": "markdown",
   "id": "7f7e8047-6f19-4ee3-96be-94601b6aa717",
   "metadata": {},
   "source": [
    "So,we have dropped all the duplicate datapoints"
   ]
  },
  {
   "cell_type": "markdown",
   "id": "1e70a318-b050-448c-9345-c7bbce300739",
   "metadata": {},
   "source": [
    "Now.Lets check whether there is any columns with null value.\n",
    "From the below table it can be seen that there is no null in any of the columns."
   ]
  },
  {
   "cell_type": "code",
   "execution_count": 8,
   "id": "07c71f96-754e-420f-9b92-01b835c103ec",
   "metadata": {},
   "outputs": [
    {
     "data": {
      "text/plain": [
       "ID                  0\n",
       "Price               0\n",
       "Levy                0\n",
       "Manufacturer        0\n",
       "Model               0\n",
       "Prod. year          0\n",
       "Category            0\n",
       "Leather interior    0\n",
       "Fuel type           0\n",
       "Engine volume       0\n",
       "Mileage             0\n",
       "Cylinders           0\n",
       "Gear box type       0\n",
       "Drive wheels        0\n",
       "Doors               0\n",
       "Wheel               0\n",
       "Color               0\n",
       "Airbags             0\n",
       "dtype: int64"
      ]
     },
     "execution_count": 8,
     "metadata": {},
     "output_type": "execute_result"
    }
   ],
   "source": [
    "df.isnull().sum()"
   ]
  },
  {
   "cell_type": "code",
   "execution_count": 9,
   "id": "22b3e496-1355-40f1-ad99-c3e37d4e4e55",
   "metadata": {},
   "outputs": [],
   "source": [
    "X=df.copy()"
   ]
  },
  {
   "cell_type": "markdown",
   "id": "a9dc8449-8e2d-4b39-95a3-dbd3f10a58e1",
   "metadata": {},
   "source": [
    "We make a copy of the Dataset. Let's look into the 'Levy' column."
   ]
  },
  {
   "cell_type": "code",
   "execution_count": 10,
   "id": "6a560424-dd4e-416f-9602-42948de4af1e",
   "metadata": {},
   "outputs": [
    {
     "data": {
      "text/plain": [
       "-       5709\n",
       "765      482\n",
       "891      453\n",
       "639      403\n",
       "640      398\n",
       "        ... \n",
       "3156       1\n",
       "2908       1\n",
       "1279       1\n",
       "1719       1\n",
       "1901       1\n",
       "Name: Levy, Length: 559, dtype: int64"
      ]
     },
     "execution_count": 10,
     "metadata": {},
     "output_type": "execute_result"
    }
   ],
   "source": [
    "X['Levy'].value_counts()"
   ]
  },
  {
   "cell_type": "markdown",
   "id": "25079689-7d7d-4358-b039-f0538f0eabca",
   "metadata": {},
   "source": [
    "From the above table it can be seen that there is 5706 columns with '-'. With these much unknown data for this variable it is wise to drop this column from the dataset which is done in the below column."
   ]
  },
  {
   "cell_type": "code",
   "execution_count": 11,
   "id": "918fa220-844e-4d05-a9b2-46cbc9c3b962",
   "metadata": {},
   "outputs": [],
   "source": [
    "X.drop('Levy',axis=1,inplace=True)"
   ]
  },
  {
   "cell_type": "markdown",
   "id": "cc52b511-217f-4ea1-b9fc-e285db474aba",
   "metadata": {},
   "source": [
    "Let's look in to the 'Manufacturer' column."
   ]
  },
  {
   "cell_type": "code",
   "execution_count": 12,
   "id": "caa5a87a-7225-4ebd-886e-eb0f99e3a6a6",
   "metadata": {},
   "outputs": [
    {
     "data": {
      "text/plain": [
       "array(['LEXUS', 'CHEVROLET', 'HONDA', 'FORD', 'HYUNDAI', 'TOYOTA',\n",
       "       'MERCEDES-BENZ', 'OPEL', 'PORSCHE', 'BMW', 'JEEP', 'VOLKSWAGEN',\n",
       "       'AUDI', 'RENAULT', 'NISSAN', 'SUBARU', 'DAEWOO', 'KIA',\n",
       "       'MITSUBISHI', 'SSANGYONG', 'MAZDA', 'GMC', 'FIAT', 'INFINITI',\n",
       "       'ALFA ROMEO', 'SUZUKI', 'ACURA', 'LINCOLN', 'VAZ', 'GAZ',\n",
       "       'CITROEN', 'LAND ROVER', 'MINI', 'DODGE', 'CHRYSLER', 'JAGUAR',\n",
       "       'ISUZU', 'SKODA', 'DAIHATSU', 'BUICK', 'TESLA', 'CADILLAC',\n",
       "       'PEUGEOT', 'BENTLEY', 'VOLVO', 'სხვა', 'HAVAL', 'HUMMER', 'SCION',\n",
       "       'UAZ', 'MERCURY', 'ZAZ', 'ROVER', 'SEAT', 'LANCIA', 'MOSKVICH',\n",
       "       'MASERATI', 'FERRARI', 'SAAB', 'LAMBORGHINI', 'ROLLS-ROYCE',\n",
       "       'PONTIAC', 'SATURN', 'ASTON MARTIN', 'GREATWALL'], dtype=object)"
      ]
     },
     "execution_count": 12,
     "metadata": {},
     "output_type": "execute_result"
    }
   ],
   "source": [
    "X[\"Manufacturer\"].unique()"
   ]
  },
  {
   "cell_type": "markdown",
   "id": "11e354ee-9008-45ec-bbea-0aa3a2681e4c",
   "metadata": {},
   "source": [
    "By inspecting the above array it can be said that there is no error in the names or no repeatation of names in the 'Manufacturer' column."
   ]
  },
  {
   "cell_type": "markdown",
   "id": "af1bdb4d-6476-4fef-8a1c-27ad4e7f6920",
   "metadata": {},
   "source": [
    "But by looking into the the 'Model' column it can be said that there is repeatation in the name with different extension."
   ]
  },
  {
   "cell_type": "code",
   "execution_count": 13,
   "id": "c2fd2ce5-6c7f-4dc8-afec-0f0e2d0e0f2e",
   "metadata": {},
   "outputs": [
    {
     "data": {
      "text/plain": [
       "array(['RX 450', 'Equinox', 'FIT', ..., 'E 230 124', 'RX 450 F SPORT',\n",
       "       'Prius C aqua'], dtype=object)"
      ]
     },
     "execution_count": 13,
     "metadata": {},
     "output_type": "execute_result"
    }
   ],
   "source": [
    "# categories = X['Model'].value_counts().index.tolist()\n",
    "# print(categories)\n",
    "X['Model'].unique()"
   ]
  },
  {
   "cell_type": "markdown",
   "id": "66fd4936-76dc-4702-8569-a624222dfdf6",
   "metadata": {},
   "source": [
    "The total number of unique class for the variable 'Model' is 1590. There may be repeatation of the names. But fixing this issue can be quite time consuming. So, its  better to drop this column."
   ]
  },
  {
   "cell_type": "code",
   "execution_count": 14,
   "id": "f1e41e5f-8ad9-44e9-9ba1-103ffe578ff3",
   "metadata": {},
   "outputs": [
    {
     "data": {
      "text/plain": [
       "1590"
      ]
     },
     "execution_count": 14,
     "metadata": {},
     "output_type": "execute_result"
    }
   ],
   "source": [
    "X['Model'].nunique()"
   ]
  },
  {
   "cell_type": "code",
   "execution_count": 15,
   "id": "490da966-72a5-4ef8-a306-28181af952e0",
   "metadata": {},
   "outputs": [],
   "source": [
    "X.drop('Model',axis=1,inplace=True)"
   ]
  },
  {
   "cell_type": "markdown",
   "id": "8693b9c2-787d-4f1f-ac7c-4d428a3902a1",
   "metadata": {},
   "source": [
    "Now, Let's analyze the categorical variables. The name of the categorical variable is shown below."
   ]
  },
  {
   "cell_type": "code",
   "execution_count": 16,
   "id": "09cf921d-7062-476b-800a-b5d811f2400a",
   "metadata": {},
   "outputs": [
    {
     "name": "stdout",
     "output_type": "stream",
     "text": [
      "Index(['Manufacturer', 'Category', 'Leather interior', 'Fuel type',\n",
      "       'Engine volume', 'Mileage', 'Gear box type', 'Drive wheels', 'Doors',\n",
      "       'Wheel', 'Color'],\n",
      "      dtype='object')\n"
     ]
    }
   ],
   "source": [
    "mask = X.dtypes == np.object\n",
    "categorical_cols = X.columns[mask]\n",
    "print(categorical_cols)"
   ]
  },
  {
   "cell_type": "markdown",
   "id": "b365c892-6969-46e5-9e00-5e36e98755ae",
   "metadata": {},
   "source": [
    "In the below cell all the unique class for every categorical variable is shown."
   ]
  },
  {
   "cell_type": "code",
   "execution_count": 17,
   "id": "55a48aae-07e1-40ff-bbd2-f410db4ebf99",
   "metadata": {},
   "outputs": [
    {
     "name": "stdout",
     "output_type": "stream",
     "text": [
      "Manufacturer : ['LEXUS' 'CHEVROLET' 'HONDA' 'FORD' 'HYUNDAI' 'TOYOTA' 'MERCEDES-BENZ'\n",
      " 'OPEL' 'PORSCHE' 'BMW' 'JEEP' 'VOLKSWAGEN' 'AUDI' 'RENAULT' 'NISSAN'\n",
      " 'SUBARU' 'DAEWOO' 'KIA' 'MITSUBISHI' 'SSANGYONG' 'MAZDA' 'GMC' 'FIAT'\n",
      " 'INFINITI' 'ALFA ROMEO' 'SUZUKI' 'ACURA' 'LINCOLN' 'VAZ' 'GAZ' 'CITROEN'\n",
      " 'LAND ROVER' 'MINI' 'DODGE' 'CHRYSLER' 'JAGUAR' 'ISUZU' 'SKODA'\n",
      " 'DAIHATSU' 'BUICK' 'TESLA' 'CADILLAC' 'PEUGEOT' 'BENTLEY' 'VOLVO' 'სხვა'\n",
      " 'HAVAL' 'HUMMER' 'SCION' 'UAZ' 'MERCURY' 'ZAZ' 'ROVER' 'SEAT' 'LANCIA'\n",
      " 'MOSKVICH' 'MASERATI' 'FERRARI' 'SAAB' 'LAMBORGHINI' 'ROLLS-ROYCE'\n",
      " 'PONTIAC' 'SATURN' 'ASTON MARTIN' 'GREATWALL']\n",
      "Category : ['Jeep' 'Hatchback' 'Sedan' 'Microbus' 'Goods wagon' 'Universal' 'Coupe'\n",
      " 'Minivan' 'Cabriolet' 'Limousine' 'Pickup']\n",
      "Leather interior : ['Yes' 'No']\n",
      "Fuel type : ['Hybrid' 'Petrol' 'Diesel' 'CNG' 'Plug-in Hybrid' 'LPG' 'Hydrogen']\n",
      "Engine volume : ['3.5' '3' '1.3' '2.5' '2' '1.8' '2.4' '4' '1.6' '3.3' '2.0 Turbo'\n",
      " '2.2 Turbo' '4.7' '1.5' '4.4' '3.0 Turbo' '1.4 Turbo' '3.6' '2.3'\n",
      " '1.5 Turbo' '1.6 Turbo' '2.2' '2.3 Turbo' '1.4' '5.5' '2.8 Turbo' '3.2'\n",
      " '3.8' '4.6' '1.2' '5' '1.7' '2.9' '0.5' '1.8 Turbo' '2.4 Turbo'\n",
      " '3.5 Turbo' '1.9' '2.7' '4.8' '5.3' '0.4' '2.8' '3.2 Turbo' '1.1' '2.1'\n",
      " '0.7' '5.4' '1.3 Turbo' '3.7' '1' '2.5 Turbo' '2.6' '1.9 Turbo'\n",
      " '4.4 Turbo' '4.7 Turbo' '0.8' '0.2 Turbo' '5.7' '4.8 Turbo' '4.6 Turbo'\n",
      " '6.7' '6.2' '1.2 Turbo' '3.4' '1.7 Turbo' '6.3 Turbo' '2.7 Turbo' '4.3'\n",
      " '4.2' '2.9 Turbo' '0' '4.0 Turbo' '20' '3.6 Turbo' '0.3' '3.7 Turbo'\n",
      " '5.9' '5.5 Turbo' '0.2' '2.1 Turbo' '5.6' '6' '0.7 Turbo' '0.6 Turbo'\n",
      " '6.8' '4.5' '0.6' '7.3' '0.1' '1.0 Turbo' '6.3' '4.5 Turbo' '0.8 Turbo'\n",
      " '4.2 Turbo' '3.1' '5.0 Turbo' '6.4' '3.9' '5.7 Turbo' '0.9' '0.4 Turbo'\n",
      " '5.4 Turbo' '0.3 Turbo' '5.2' '5.8' '1.1 Turbo']\n",
      "Mileage : ['186005 km' '192000 km' '200000 km' ... '140607 km' '307325 km'\n",
      " '186923 km']\n",
      "Gear box type : ['Automatic' 'Tiptronic' 'Variator' 'Manual']\n",
      "Drive wheels : ['4x4' 'Front' 'Rear']\n",
      "Doors : ['04-May' '02-Mar' '>5']\n",
      "Wheel : ['Left wheel' 'Right-hand drive']\n",
      "Color : ['Silver' 'Black' 'White' 'Grey' 'Blue' 'Green' 'Red' 'Sky blue' 'Orange'\n",
      " 'Yellow' 'Brown' 'Golden' 'Beige' 'Carnelian red' 'Purple' 'Pink']\n"
     ]
    }
   ],
   "source": [
    "for i in categorical_cols:\n",
    "    print(i,':',X[i].unique())"
   ]
  },
  {
   "cell_type": "markdown",
   "id": "fdc36fde-d0bc-486c-a2cc-fc0674d5dcbe",
   "metadata": {},
   "source": [
    "By analyzing the above data it can be said that 'mileage' and 'Engine Volume' column should be of numeric type. So, we will convert this two variable to numeric type."
   ]
  },
  {
   "cell_type": "code",
   "execution_count": 18,
   "id": "8268261a-ef47-4986-80b4-0be7048c0ad8",
   "metadata": {},
   "outputs": [],
   "source": [
    "X['Engine volume'] = X['Engine volume'].str.split(' ').str[0]\n",
    "X['Engine volume']=X['Engine volume'].astype(float)"
   ]
  },
  {
   "cell_type": "code",
   "execution_count": 19,
   "id": "e9ab5bb0-8509-48b1-aee9-3f2cd2a64320",
   "metadata": {},
   "outputs": [],
   "source": [
    "X['Mileage'] = X['Mileage'].str.split(' ').str[0]\n",
    "X['Mileage']=X['Mileage'].astype(float)"
   ]
  },
  {
   "cell_type": "markdown",
   "id": "3e96e556-82af-44b0-921e-99211e029c7d",
   "metadata": {},
   "source": [
    "Let's check the datatype of the variables after the above operations."
   ]
  },
  {
   "cell_type": "code",
   "execution_count": 20,
   "id": "f30b9101-ee88-4517-9f13-b06aacf6aec4",
   "metadata": {},
   "outputs": [
    {
     "name": "stdout",
     "output_type": "stream",
     "text": [
      "<class 'pandas.core.frame.DataFrame'>\n",
      "Int64Index: 18924 entries, 0 to 19236\n",
      "Data columns (total 16 columns):\n",
      " #   Column            Non-Null Count  Dtype  \n",
      "---  ------            --------------  -----  \n",
      " 0   ID                18924 non-null  int64  \n",
      " 1   Price             18924 non-null  int64  \n",
      " 2   Manufacturer      18924 non-null  object \n",
      " 3   Prod. year        18924 non-null  int64  \n",
      " 4   Category          18924 non-null  object \n",
      " 5   Leather interior  18924 non-null  object \n",
      " 6   Fuel type         18924 non-null  object \n",
      " 7   Engine volume     18924 non-null  float64\n",
      " 8   Mileage           18924 non-null  float64\n",
      " 9   Cylinders         18924 non-null  float64\n",
      " 10  Gear box type     18924 non-null  object \n",
      " 11  Drive wheels      18924 non-null  object \n",
      " 12  Doors             18924 non-null  object \n",
      " 13  Wheel             18924 non-null  object \n",
      " 14  Color             18924 non-null  object \n",
      " 15  Airbags           18924 non-null  int64  \n",
      "dtypes: float64(3), int64(4), object(9)\n",
      "memory usage: 2.5+ MB\n"
     ]
    }
   ],
   "source": [
    "X.info()"
   ]
  },
  {
   "cell_type": "markdown",
   "id": "8aea0316-e855-4bea-97f8-7b2ef71e4b50",
   "metadata": {},
   "source": [
    "We can seen that 'Engine volume' and 'Mileage' columns are sucessfully converted to numeric datatype.\n",
    "\n",
    "Now, lets check the distribution of categorical varibles."
   ]
  },
  {
   "cell_type": "code",
   "execution_count": 21,
   "id": "cede907e-d8c8-4494-b0f1-61a589026e1a",
   "metadata": {},
   "outputs": [
    {
     "name": "stdout",
     "output_type": "stream",
     "text": [
      "column name: Manufacturer\n",
      "value_count:\n",
      "HYUNDAI          3729\n",
      "TOYOTA           3606\n",
      "MERCEDES-BENZ    2043\n",
      "FORD             1088\n",
      "CHEVROLET        1047\n",
      "                 ... \n",
      "TESLA               1\n",
      "PONTIAC             1\n",
      "SATURN              1\n",
      "ASTON MARTIN        1\n",
      "GREATWALL           1\n",
      "Name: Manufacturer, Length: 65, dtype: int64\n",
      "column name: Category\n",
      "value_count:\n",
      "Sedan          8600\n",
      "Jeep           5378\n",
      "Hatchback      2799\n",
      "Minivan         633\n",
      "Coupe           528\n",
      "Universal       361\n",
      "Microbus        299\n",
      "Goods wagon     229\n",
      "Pickup           51\n",
      "Cabriolet        35\n",
      "Limousine        11\n",
      "Name: Category, dtype: int64\n",
      "column name: Leather interior\n",
      "value_count:\n",
      "Yes    13731\n",
      "No      5193\n",
      "Name: Leather interior, dtype: int64\n",
      "column name: Fuel type\n",
      "value_count:\n",
      "Petrol            9944\n",
      "Diesel            4001\n",
      "Hybrid            3539\n",
      "LPG                885\n",
      "CNG                469\n",
      "Plug-in Hybrid      85\n",
      "Hydrogen             1\n",
      "Name: Fuel type, dtype: int64\n",
      "column name: Gear box type\n",
      "value_count:\n",
      "Automatic    13282\n",
      "Tiptronic     3065\n",
      "Manual        1844\n",
      "Variator       733\n",
      "Name: Gear box type, dtype: int64\n",
      "column name: Drive wheels\n",
      "value_count:\n",
      "Front    12695\n",
      "4x4       3969\n",
      "Rear      2260\n",
      "Name: Drive wheels, dtype: int64\n",
      "column name: Doors\n",
      "value_count:\n",
      "04-May    18032\n",
      "02-Mar      768\n",
      ">5          124\n",
      "Name: Doors, dtype: int64\n",
      "column name: Wheel\n",
      "value_count:\n",
      "Left wheel          17471\n",
      "Right-hand drive     1453\n",
      "Name: Wheel, dtype: int64\n",
      "column name: Color\n",
      "value_count:\n",
      "Black            4944\n",
      "White            4407\n",
      "Silver           3729\n",
      "Grey             2343\n",
      "Blue             1376\n",
      "Red               622\n",
      "Green             321\n",
      "Orange            252\n",
      "Brown             185\n",
      "Carnelian red     177\n",
      "Golden            143\n",
      "Beige             134\n",
      "Sky blue          122\n",
      "Yellow            105\n",
      "Purple             39\n",
      "Pink               25\n",
      "Name: Color, dtype: int64\n"
     ]
    }
   ],
   "source": [
    "# distribution of categorical variables\n",
    "mask_categorical = X.dtypes == np.object\n",
    "category_cols = X.columns[mask_categorical]\n",
    "category_cols=category_cols.tolist()\n",
    "for col in category_cols:\n",
    "    print(\"column name:\", col)\n",
    "    print(\"value_count:\")\n",
    "    print( X[col].value_counts())\n",
    "    "
   ]
  },
  {
   "cell_type": "markdown",
   "id": "390cc4c6-cf23-4b33-af22-e11069a99bff",
   "metadata": {},
   "source": [
    "Let's check the distribution of the categorical variable visaully."
   ]
  },
  {
   "cell_type": "code",
   "execution_count": 22,
   "id": "7f80be7d-966e-49f0-80bc-88e1400f76d0",
   "metadata": {},
   "outputs": [
    {
     "data": {
      "image/png": "[encoded data removed]",
      "text/plain": [
       "<Figure size 1080x360 with 1 Axes>"
      ]
     },
     "metadata": {
      "needs_background": "light"
     },
     "output_type": "display_data"
    },
    {
     "data": {
      "text/plain": [
       "<Figure size 432x288 with 0 Axes>"
      ]
     },
     "metadata": {},
     "output_type": "display_data"
    },
    {
     "data": {
      "image/png": "[encoded data removed]",
      "text/plain": [
       "<Figure size 1080x360 with 1 Axes>"
      ]
     },
     "metadata": {
      "needs_background": "light"
     },
     "output_type": "display_data"
    },
    {
     "data": {
      "text/plain": [
       "<Figure size 432x288 with 0 Axes>"
      ]
     },
     "metadata": {},
     "output_type": "display_data"
    },
    {
     "data": {
      "image/png": "[encoded data removed]",
      "text/plain": [
       "<Figure size 1080x360 with 1 Axes>"
      ]
     },
     "metadata": {
      "needs_background": "light"
     },
     "output_type": "display_data"
    },
    {
     "data": {
      "text/plain": [
       "<Figure size 432x288 with 0 Axes>"
      ]
     },
     "metadata": {},
     "output_type": "display_data"
    },
    {
     "data": {
      "image/png": "[encoded data removed]",
      "text/plain": [
       "<Figure size 1080x360 with 1 Axes>"
      ]
     },
     "metadata": {
      "needs_background": "light"
     },
     "output_type": "display_data"
    },
    {
     "data": {
      "text/plain": [
       "<Figure size 432x288 with 0 Axes>"
      ]
     },
     "metadata": {},
     "output_type": "display_data"
    },
    {
     "data": {
      "image/png": "[encoded data removed]",
      "text/plain": [
       "<Figure size 1080x360 with 1 Axes>"
      ]
     },
     "metadata": {
      "needs_background": "light"
     },
     "output_type": "display_data"
    },
    {
     "data": {
      "text/plain": [
       "<Figure size 432x288 with 0 Axes>"
      ]
     },
     "metadata": {},
     "output_type": "display_data"
    },
    {
     "data": {
      "image/png": "[encoded data removed]",
      "text/plain": [
       "<Figure size 1080x360 with 1 Axes>"
      ]
     },
     "metadata": {
      "needs_background": "light"
     },
     "output_type": "display_data"
    },
    {
     "data": {
      "text/plain": [
       "<Figure size 432x288 with 0 Axes>"
      ]
     },
     "metadata": {},
     "output_type": "display_data"
    },
    {
     "data": {
      "image/png": "[encoded data removed]",
      "text/plain": [
       "<Figure size 1080x360 with 1 Axes>"
      ]
     },
     "metadata": {
      "needs_background": "light"
     },
     "output_type": "display_data"
    },
    {
     "data": {
      "text/plain": [
       "<Figure size 432x288 with 0 Axes>"
      ]
     },
     "metadata": {},
     "output_type": "display_data"
    },
    {
     "data": {
      "image/png": "[encoded data removed]",
      "text/plain": [
       "<Figure size 1080x360 with 1 Axes>"
      ]
     },
     "metadata": {
      "needs_background": "light"
     },
     "output_type": "display_data"
    },
    {
     "data": {
      "text/plain": [
       "<Figure size 432x288 with 0 Axes>"
      ]
     },
     "metadata": {},
     "output_type": "display_data"
    },
    {
     "data": {
      "image/png": "[encoded data removed]",
      "text/plain": [
       "<Figure size 1080x360 with 1 Axes>"
      ]
     },
     "metadata": {
      "needs_background": "light"
     },
     "output_type": "display_data"
    },
    {
     "data": {
      "text/plain": [
       "<Figure size 432x288 with 0 Axes>"
      ]
     },
     "metadata": {},
     "output_type": "display_data"
    }
   ],
   "source": [
    "# distribution of categorical variables\n",
    "mask_categorical = X.dtypes == np.object\n",
    "category_cols = X.columns[mask_categorical]\n",
    "category_cols=category_cols.tolist()\n",
    "for col in category_cols:\n",
    "    fig, ax = plt.subplots(figsize = (15,5))\n",
    "    plt1 = sns.countplot(data=X, x=col, order=X[col].value_counts().index)\n",
    "    plt1.set(xlabel = col, ylabel= 'Count')\n",
    "    plt.show()\n",
    "    plt.tight_layout()"
   ]
  },
  {
   "cell_type": "markdown",
   "id": "75d7a6b1-abaf-40e4-9809-1bba01667c16",
   "metadata": {},
   "source": [
    "We can say that there is imbalance in the data. We might need to deal with it in the later stage.\n",
    "\n",
    "For now, we can drop the column 'ID'."
   ]
  },
  {
   "cell_type": "code",
   "execution_count": 23,
   "id": "9d054d27-15f0-429f-8845-9c3b20f7b54c",
   "metadata": {},
   "outputs": [],
   "source": [
    "X.drop('ID',axis=1,inplace=True)"
   ]
  },
  {
   "cell_type": "markdown",
   "id": "75246072-cc34-4e3a-adeb-ef66855015b2",
   "metadata": {},
   "source": [
    "Let's look into the distribution of the numeric variables."
   ]
  },
  {
   "cell_type": "code",
   "execution_count": 24,
   "id": "ade3901d-dcd7-4aca-8835-34ba4ce84261",
   "metadata": {},
   "outputs": [
    {
     "data": {
      "image/png": "[encoded data removed]",
      "text/plain": [
       "<Figure size 432x288 with 1 Axes>"
      ]
     },
     "metadata": {
      "needs_background": "light"
     },
     "output_type": "display_data"
    },
    {
     "data": {
      "image/png": "[encoded data removed]",
      "text/plain": [
       "<Figure size 432x288 with 1 Axes>"
      ]
     },
     "metadata": {
      "needs_background": "light"
     },
     "output_type": "display_data"
    },
    {
     "data": {
      "image/png": "[encoded data removed]",
      "text/plain": [
       "<Figure size 432x288 with 1 Axes>"
      ]
     },
     "metadata": {
      "needs_background": "light"
     },
     "output_type": "display_data"
    },
    {
     "data": {
      "image/png": "[encoded data removed]",
      "text/plain": [
       "<Figure size 432x288 with 1 Axes>"
      ]
     },
     "metadata": {
      "needs_background": "light"
     },
     "output_type": "display_data"
    },
    {
     "data": {
      "image/png": "[encoded data removed]",
      "text/plain": [
       "<Figure size 432x288 with 1 Axes>"
      ]
     },
     "metadata": {
      "needs_background": "light"
     },
     "output_type": "display_data"
    },
    {
     "data": {
      "image/png": "[encoded data removed]",
      "text/plain": [
       "<Figure size 432x288 with 1 Axes>"
      ]
     },
     "metadata": {
      "needs_background": "light"
     },
     "output_type": "display_data"
    }
   ],
   "source": [
    "mask_numeric = X.dtypes != np.object\n",
    "numeric_cols = X.columns[mask_numeric]\n",
    "numeric_cols=numeric_cols.tolist()\n",
    "for col in numeric_cols:\n",
    "    sns.distplot(X[col],color='green',hist=True)\n",
    "    plt.show()"
   ]
  },
  {
   "cell_type": "markdown",
   "id": "dd7d4f6e-557b-4c96-bc0e-b47fc44e2d71",
   "metadata": {},
   "source": [
    "For this analysis 'Price' is our dependent column. But the distribution of 'Price' is highly skewed. We need to fix this. Now, we have two options. Either we can consider the high price as outliers and can remove them or we can consider this distribution as true distribution and can transform this distribution. I will go for second option because in reality high- price car does exists but which are rare. \n",
    "\n",
    "First, let's do a normal test."
   ]
  },
  {
   "cell_type": "code",
   "execution_count": 25,
   "id": "099b6048-67c1-44b3-8593-631837a4a2ec",
   "metadata": {},
   "outputs": [
    {
     "data": {
      "text/plain": [
       "NormaltestResult(statistic=82592.96929228201, pvalue=0.0)"
      ]
     },
     "execution_count": 25,
     "metadata": {},
     "output_type": "execute_result"
    }
   ],
   "source": [
    "from scipy.stats.mstats import normaltest\n",
    "normaltest(X.Price.values)"
   ]
  },
  {
   "cell_type": "markdown",
   "id": "712c484a-a77e-4524-8644-ceedc0000edd",
   "metadata": {},
   "source": [
    "By looks of the statistics it can be  said that 'Price' variable completely failed the normaltest.\n",
    "\n",
    "We will now transform the 'Price' variable column."
   ]
  },
  {
   "cell_type": "code",
   "execution_count": 26,
   "id": "bdaef51f-cacd-4cac-94c0-3efa3d7c3ee0",
   "metadata": {},
   "outputs": [
    {
     "data": {
      "image/png": "[encoded data removed]",
      "text/plain": [
       "<Figure size 432x288 with 1 Axes>"
      ]
     },
     "metadata": {
      "needs_background": "light"
     },
     "output_type": "display_data"
    }
   ],
   "source": [
    "from sklearn.preprocessing import QuantileTransformer\n",
    "qt = QuantileTransformer(n_quantiles=500, output_distribution='normal',random_state=0)\n",
    "X['Price']=qt.fit_transform(np.array(X['Price']).reshape(-1, 1))\n",
    "sns.kdeplot(X['Price'], shade=True)\n",
    "plt.title('Price')\n",
    "plt.show() "
   ]
  },
  {
   "cell_type": "markdown",
   "id": "4b16a006-f22f-44fb-a730-2635506ade46",
   "metadata": {},
   "source": [
    "From the distribution of 'Price' variable it looks like we sucessfully able to convert previous distribution to normal distribution.\n",
    "\n",
    "Let's do normaltest."
   ]
  },
  {
   "cell_type": "code",
   "execution_count": 27,
   "id": "1c04e22e-236a-465a-bda8-7c70b31cdfd9",
   "metadata": {},
   "outputs": [
    {
     "data": {
      "text/plain": [
       "NormaltestResult(statistic=4.477666384592924, pvalue=0.10658279347890812)"
      ]
     },
     "execution_count": 27,
     "metadata": {},
     "output_type": "execute_result"
    }
   ],
   "source": [
    "normaltest(X.Price.values)"
   ]
  },
  {
   "cell_type": "markdown",
   "id": "c2a5eade-d43a-49e7-9ed6-0161a1a7b22a",
   "metadata": {},
   "source": [
    "p-value is quite high compared to previous p-value. So, our claim looks good."
   ]
  },
  {
   "cell_type": "markdown",
   "id": "d191dfb3-8fe0-467b-bd18-8f2154bd5012",
   "metadata": {},
   "source": [
    "Another column which is highly skewed is 'Mileage'. Let's do normaltest on this variable."
   ]
  },
  {
   "cell_type": "code",
   "execution_count": 28,
   "id": "0516fd6f-d34a-4fd5-bea0-905a59405d10",
   "metadata": {},
   "outputs": [
    {
     "data": {
      "text/plain": [
       "NormaltestResult(statistic=53963.28907331486, pvalue=0.0)"
      ]
     },
     "execution_count": 28,
     "metadata": {},
     "output_type": "execute_result"
    }
   ],
   "source": [
    "from scipy.stats.mstats import normaltest\n",
    "normaltest(X.Mileage.values)"
   ]
  },
  {
   "cell_type": "markdown",
   "id": "e7598283-faf4-43e5-8e6e-d861e4f41d38",
   "metadata": {},
   "source": [
    "The statistics also confirm that. But this instead of transforming the distribution we will try to remove some outliers so that this outliers don't causes diverse effect on the future ML models. The reason for this approach is also the fact that in 'Mileage' column there is lots of 0s which can problem in data transformation."
   ]
  },
  {
   "cell_type": "code",
   "execution_count": 29,
   "id": "a42eeb75-fb2f-4a55-ab93-5720ca69c18e",
   "metadata": {},
   "outputs": [],
   "source": [
    "X=X[X['Mileage'] < 0.5e6]"
   ]
  },
  {
   "cell_type": "markdown",
   "id": "327a0909-33df-414a-aa00-46bfc6744fe7",
   "metadata": {},
   "source": [
    "Let's visualize the data after outlier removal."
   ]
  },
  {
   "cell_type": "code",
   "execution_count": 30,
   "id": "805e2d57-e32a-4ff2-b8f9-51c5ded0c8d7",
   "metadata": {},
   "outputs": [
    {
     "data": {
      "image/png": "[encoded data removed]",
      "text/plain": [
       "<Figure size 432x288 with 1 Axes>"
      ]
     },
     "metadata": {
      "needs_background": "light"
     },
     "output_type": "display_data"
    }
   ],
   "source": [
    "sns.kdeplot(X['Mileage'], shade=True)\n",
    "plt.title('Mileage')\n",
    "plt.show()"
   ]
  },
  {
   "cell_type": "code",
   "execution_count": 31,
   "id": "fe0e1e4a-f863-4436-a713-a7d32017545e",
   "metadata": {},
   "outputs": [
    {
     "data": {
      "text/plain": [
       "NormaltestResult(statistic=1913.6571303208557, pvalue=0.0)"
      ]
     },
     "execution_count": 31,
     "metadata": {},
     "output_type": "execute_result"
    }
   ],
   "source": [
    "from scipy.stats.mstats import normaltest\n",
    "normaltest(X.Mileage.values)"
   ]
  },
  {
   "cell_type": "markdown",
   "id": "5f41b187-44fa-4628-abf1-101bc30d9c3d",
   "metadata": {},
   "source": [
    "Normaltest still suggests that 'Mileage' distribution is not normal but distribution is much less skewed now.\n",
    "\n",
    "Now, We we try to visualize the distribution of 'Price' for different class of categorical variables."
   ]
  },
  {
   "cell_type": "code",
   "execution_count": 32,
   "id": "7658f602-0bb0-4c39-a2f1-cdfd658d3eeb",
   "metadata": {},
   "outputs": [
    {
     "data": {
      "image/png": "[encoded data removed]",
      "text/plain": [
       "<Figure size 432x288 with 1 Axes>"
      ]
     },
     "metadata": {
      "needs_background": "light"
     },
     "output_type": "display_data"
    },
    {
     "data": {
      "image/png": "[encoded data removed]",
      "text/plain": [
       "<Figure size 432x288 with 1 Axes>"
      ]
     },
     "metadata": {
      "needs_background": "light"
     },
     "output_type": "display_data"
    },
    {
     "data": {
      "image/png": "[encoded data removed]",
      "text/plain": [
       "<Figure size 432x288 with 1 Axes>"
      ]
     },
     "metadata": {
      "needs_background": "light"
     },
     "output_type": "display_data"
    },
    {
     "data": {
      "image/png": "[encoded data removed]",
      "text/plain": [
       "<Figure size 432x288 with 1 Axes>"
      ]
     },
     "metadata": {
      "needs_background": "light"
     },
     "output_type": "display_data"
    },
    {
     "data": {
      "image/png": "[encoded data removed]",
      "text/plain": [
       "<Figure size 432x288 with 1 Axes>"
      ]
     },
     "metadata": {
      "needs_background": "light"
     },
     "output_type": "display_data"
    },
    {
     "data": {
      "image/png": "[encoded data removed]",
      "text/plain": [
       "<Figure size 432x288 with 1 Axes>"
      ]
     },
     "metadata": {
      "needs_background": "light"
     },
     "output_type": "display_data"
    },
    {
     "data": {
      "image/png": "[encoded data removed]",
      "text/plain": [
       "<Figure size 432x288 with 1 Axes>"
      ]
     },
     "metadata": {
      "needs_background": "light"
     },
     "output_type": "display_data"
    },
    {
     "data": {
      "image/png": "[encoded data removed]",
      "text/plain": [
       "<Figure size 432x288 with 1 Axes>"
      ]
     },
     "metadata": {
      "needs_background": "light"
     },
     "output_type": "display_data"
    },
    {
     "data": {
      "image/png": "[encoded data removed]",
      "text/plain": [
       "<Figure size 432x288 with 1 Axes>"
      ]
     },
     "metadata": {
      "needs_background": "light"
     },
     "output_type": "display_data"
    }
   ],
   "source": [
    "for col in X.select_dtypes(include=['object']).columns:\n",
    "    sns.boxplot(x=col, y='Price', data=X)\n",
    "    plt.title(col)\n",
    "    plt.show()"
   ]
  },
  {
   "cell_type": "markdown",
   "id": "9c1a186e-1867-49d1-b574-5a9b5a9aa3fd",
   "metadata": {},
   "source": [
    "From the above plots in looks like some categorical variable like 'Manufacturer', 'Fuel-type' can be used as predictor of 'Price'.\n",
    "\n",
    "Let's look into the co-relation between different continuous variable."
   ]
  },
  {
   "cell_type": "code",
   "execution_count": 33,
   "id": "f6128baf-776a-4ec7-8fc3-ff78dbcf7d5b",
   "metadata": {},
   "outputs": [
    {
     "data": {
      "image/png": "[encoded data removed]",
      "text/plain": [
       "<Figure size 360x360 with 2 Axes>"
      ]
     },
     "metadata": {
      "needs_background": "light"
     },
     "output_type": "display_data"
    }
   ],
   "source": [
    "plt.figure(figsize=(5,5))\n",
    "sns.heatmap(X.corr(),annot=True,cmap='RdYlGn')\n",
    "\n",
    "plt.show()"
   ]
  },
  {
   "cell_type": "markdown",
   "id": "5e6c4539-5bdc-4cde-9d4c-c3d6a42ba392",
   "metadata": {},
   "source": [
    "From the above it looks like their is co-relation between 'Prod.year' and 'Mileage' with 'Price'. So,'Prod.year' and 'Mileage' can be good predictor of 'Price'.\n",
    "\n",
    "Another thing can also be noticed that there are co-relations between features as well which can cause model some problem. So, we might need to deal with it later.\n",
    "\n",
    "Let's  visually see the relation between our dependent variable 'Price' and other continuous features."
   ]
  },
  {
   "cell_type": "code",
   "execution_count": 34,
   "id": "5241fed5-c21a-4bc0-b813-f82ac6046735",
   "metadata": {},
   "outputs": [
    {
     "data": {
      "image/png": "[encoded data removed]",
      "text/plain": [
       "<Figure size 432x288 with 1 Axes>"
      ]
     },
     "metadata": {
      "needs_background": "light"
     },
     "output_type": "display_data"
    },
    {
     "data": {
      "image/png": "[encoded data removed]",
      "text/plain": [
       "<Figure size 432x288 with 1 Axes>"
      ]
     },
     "metadata": {
      "needs_background": "light"
     },
     "output_type": "display_data"
    },
    {
     "data": {
      "image/png": "[encoded data removed]",
      "text/plain": [
       "<Figure size 432x288 with 1 Axes>"
      ]
     },
     "metadata": {
      "needs_background": "light"
     },
     "output_type": "display_data"
    },
    {
     "data": {
      "image/png": "[encoded data removed]",
      "text/plain": [
       "<Figure size 432x288 with 1 Axes>"
      ]
     },
     "metadata": {
      "needs_background": "light"
     },
     "output_type": "display_data"
    },
    {
     "data": {
      "image/png": "[encoded data removed]",
      "text/plain": [
       "<Figure size 432x288 with 1 Axes>"
      ]
     },
     "metadata": {
      "needs_background": "light"
     },
     "output_type": "display_data"
    },
    {
     "data": {
      "image/png": "[encoded data removed]",
      "text/plain": [
       "<Figure size 432x288 with 1 Axes>"
      ]
     },
     "metadata": {
      "needs_background": "light"
     },
     "output_type": "display_data"
    }
   ],
   "source": [
    "mask_numeric = X.dtypes != np.object\n",
    "numeric_cols = X.columns[mask_numeric]\n",
    "numeric_cols=numeric_cols.tolist()\n",
    "for col in numeric_cols:\n",
    "    sns.regplot( x = X[col], y = X.Price)\n",
    "    plt.show()"
   ]
  },
  {
   "cell_type": "markdown",
   "id": "67342dfe-50f4-4faf-b733-1ed11538c702",
   "metadata": {},
   "source": [
    "It's look like except 'Prod.year' no other continuous variable have strong relation with 'Price'.\n",
    "\n",
    "But for now, we will use all the features for the prediction of our dependent variable 'Price'.\n",
    "\n",
    "Before that we need to convert the categorical variable to numeric form so that we can use them in our model.Let' use one-hot encoding for this. "
   ]
  },
  {
   "cell_type": "code",
   "execution_count": 35,
   "id": "70a6b83f-1ae5-4b37-94d7-19ac6c08ea84",
   "metadata": {},
   "outputs": [],
   "source": [
    "from sklearn.preprocessing import OneHotEncoder\n",
    "from sklearn.compose import ColumnTransformer\n",
    "one_hot = ColumnTransformer(transformers=[(\"one_hot\", OneHotEncoder(), category_cols) ],remainder=\"passthrough\")\n",
    "X=one_hot.fit_transform(X)"
   ]
  },
  {
   "cell_type": "code",
   "execution_count": 36,
   "id": "ecb7dfc5-721b-4ac6-a54a-fe3aa8484c3d",
   "metadata": {},
   "outputs": [],
   "source": [
    "names=one_hot.get_feature_names_out()\n",
    "colunm_names=[name[name.find(\"_\")+1:] for name in  [name[name.find(\"__\")+2:] for name in names]]"
   ]
  },
  {
   "cell_type": "code",
   "execution_count": 37,
   "id": "5af8d0d7-4558-412d-b757-c28d28147d33",
   "metadata": {},
   "outputs": [],
   "source": [
    "X=X.toarray()"
   ]
  },
  {
   "cell_type": "markdown",
   "id": "1519bebb-864d-464e-b13f-564ac1e1d1f9",
   "metadata": {},
   "source": [
    "Let's check our new variable after one-hot encoding."
   ]
  },
  {
   "cell_type": "code",
   "execution_count": 38,
   "id": "fcd67d40-83c5-4e46-b639-d4d2707e7fab",
   "metadata": {},
   "outputs": [
    {
     "data": {
      "text/html": [
       "<div>\n",
       "<style scoped>\n",
       "    .dataframe tbody tr th:only-of-type {\n",
       "        vertical-align: middle;\n",
       "    }\n",
       "\n",
       "    .dataframe tbody tr th {\n",
       "        vertical-align: top;\n",
       "    }\n",
       "\n",
       "    .dataframe thead th {\n",
       "        text-align: right;\n",
       "    }\n",
       "</style>\n",
       "<table border=\"1\" class=\"dataframe\">\n",
       "  <thead>\n",
       "    <tr style=\"text-align: right;\">\n",
       "      <th></th>\n",
       "      <th>ACURA</th>\n",
       "      <th>ALFA ROMEO</th>\n",
       "      <th>ASTON MARTIN</th>\n",
       "      <th>AUDI</th>\n",
       "      <th>BENTLEY</th>\n",
       "      <th>BMW</th>\n",
       "      <th>BUICK</th>\n",
       "      <th>CADILLAC</th>\n",
       "      <th>CHEVROLET</th>\n",
       "      <th>CHRYSLER</th>\n",
       "      <th>...</th>\n",
       "      <th>Silver</th>\n",
       "      <th>Sky blue</th>\n",
       "      <th>White</th>\n",
       "      <th>Yellow</th>\n",
       "      <th>Price</th>\n",
       "      <th>Prod. year</th>\n",
       "      <th>Engine volume</th>\n",
       "      <th>Mileage</th>\n",
       "      <th>Cylinders</th>\n",
       "      <th>Airbags</th>\n",
       "    </tr>\n",
       "  </thead>\n",
       "  <tbody>\n",
       "    <tr>\n",
       "      <th>0</th>\n",
       "      <td>0.0</td>\n",
       "      <td>0.0</td>\n",
       "      <td>0.0</td>\n",
       "      <td>0.0</td>\n",
       "      <td>0.0</td>\n",
       "      <td>0.0</td>\n",
       "      <td>0.0</td>\n",
       "      <td>0.0</td>\n",
       "      <td>0.0</td>\n",
       "      <td>0.0</td>\n",
       "      <td>...</td>\n",
       "      <td>1.0</td>\n",
       "      <td>0.0</td>\n",
       "      <td>0.0</td>\n",
       "      <td>0.0</td>\n",
       "      <td>-0.002512</td>\n",
       "      <td>2010.0</td>\n",
       "      <td>3.5</td>\n",
       "      <td>186005.0</td>\n",
       "      <td>6.0</td>\n",
       "      <td>12.0</td>\n",
       "    </tr>\n",
       "    <tr>\n",
       "      <th>1</th>\n",
       "      <td>0.0</td>\n",
       "      <td>0.0</td>\n",
       "      <td>0.0</td>\n",
       "      <td>0.0</td>\n",
       "      <td>0.0</td>\n",
       "      <td>0.0</td>\n",
       "      <td>0.0</td>\n",
       "      <td>0.0</td>\n",
       "      <td>1.0</td>\n",
       "      <td>0.0</td>\n",
       "      <td>...</td>\n",
       "      <td>0.0</td>\n",
       "      <td>0.0</td>\n",
       "      <td>0.0</td>\n",
       "      <td>0.0</td>\n",
       "      <td>0.269461</td>\n",
       "      <td>2011.0</td>\n",
       "      <td>3.0</td>\n",
       "      <td>192000.0</td>\n",
       "      <td>6.0</td>\n",
       "      <td>8.0</td>\n",
       "    </tr>\n",
       "    <tr>\n",
       "      <th>2</th>\n",
       "      <td>0.0</td>\n",
       "      <td>0.0</td>\n",
       "      <td>0.0</td>\n",
       "      <td>0.0</td>\n",
       "      <td>0.0</td>\n",
       "      <td>0.0</td>\n",
       "      <td>0.0</td>\n",
       "      <td>0.0</td>\n",
       "      <td>0.0</td>\n",
       "      <td>0.0</td>\n",
       "      <td>...</td>\n",
       "      <td>0.0</td>\n",
       "      <td>0.0</td>\n",
       "      <td>0.0</td>\n",
       "      <td>0.0</td>\n",
       "      <td>-0.413338</td>\n",
       "      <td>2006.0</td>\n",
       "      <td>1.3</td>\n",
       "      <td>200000.0</td>\n",
       "      <td>4.0</td>\n",
       "      <td>2.0</td>\n",
       "    </tr>\n",
       "    <tr>\n",
       "      <th>3</th>\n",
       "      <td>0.0</td>\n",
       "      <td>0.0</td>\n",
       "      <td>0.0</td>\n",
       "      <td>0.0</td>\n",
       "      <td>0.0</td>\n",
       "      <td>0.0</td>\n",
       "      <td>0.0</td>\n",
       "      <td>0.0</td>\n",
       "      <td>0.0</td>\n",
       "      <td>0.0</td>\n",
       "      <td>...</td>\n",
       "      <td>0.0</td>\n",
       "      <td>0.0</td>\n",
       "      <td>1.0</td>\n",
       "      <td>0.0</td>\n",
       "      <td>-0.822449</td>\n",
       "      <td>2011.0</td>\n",
       "      <td>2.5</td>\n",
       "      <td>168966.0</td>\n",
       "      <td>4.0</td>\n",
       "      <td>0.0</td>\n",
       "    </tr>\n",
       "    <tr>\n",
       "      <th>4</th>\n",
       "      <td>0.0</td>\n",
       "      <td>0.0</td>\n",
       "      <td>0.0</td>\n",
       "      <td>0.0</td>\n",
       "      <td>0.0</td>\n",
       "      <td>0.0</td>\n",
       "      <td>0.0</td>\n",
       "      <td>0.0</td>\n",
       "      <td>0.0</td>\n",
       "      <td>0.0</td>\n",
       "      <td>...</td>\n",
       "      <td>1.0</td>\n",
       "      <td>0.0</td>\n",
       "      <td>0.0</td>\n",
       "      <td>0.0</td>\n",
       "      <td>-0.127923</td>\n",
       "      <td>2014.0</td>\n",
       "      <td>1.3</td>\n",
       "      <td>91901.0</td>\n",
       "      <td>4.0</td>\n",
       "      <td>4.0</td>\n",
       "    </tr>\n",
       "    <tr>\n",
       "      <th>...</th>\n",
       "      <td>...</td>\n",
       "      <td>...</td>\n",
       "      <td>...</td>\n",
       "      <td>...</td>\n",
       "      <td>...</td>\n",
       "      <td>...</td>\n",
       "      <td>...</td>\n",
       "      <td>...</td>\n",
       "      <td>...</td>\n",
       "      <td>...</td>\n",
       "      <td>...</td>\n",
       "      <td>...</td>\n",
       "      <td>...</td>\n",
       "      <td>...</td>\n",
       "      <td>...</td>\n",
       "      <td>...</td>\n",
       "      <td>...</td>\n",
       "      <td>...</td>\n",
       "      <td>...</td>\n",
       "      <td>...</td>\n",
       "      <td>...</td>\n",
       "    </tr>\n",
       "    <tr>\n",
       "      <th>18662</th>\n",
       "      <td>0.0</td>\n",
       "      <td>0.0</td>\n",
       "      <td>0.0</td>\n",
       "      <td>0.0</td>\n",
       "      <td>0.0</td>\n",
       "      <td>0.0</td>\n",
       "      <td>0.0</td>\n",
       "      <td>0.0</td>\n",
       "      <td>0.0</td>\n",
       "      <td>0.0</td>\n",
       "      <td>...</td>\n",
       "      <td>1.0</td>\n",
       "      <td>0.0</td>\n",
       "      <td>0.0</td>\n",
       "      <td>0.0</td>\n",
       "      <td>-0.413338</td>\n",
       "      <td>1999.0</td>\n",
       "      <td>2.0</td>\n",
       "      <td>300000.0</td>\n",
       "      <td>4.0</td>\n",
       "      <td>5.0</td>\n",
       "    </tr>\n",
       "    <tr>\n",
       "      <th>18663</th>\n",
       "      <td>0.0</td>\n",
       "      <td>0.0</td>\n",
       "      <td>0.0</td>\n",
       "      <td>0.0</td>\n",
       "      <td>0.0</td>\n",
       "      <td>0.0</td>\n",
       "      <td>0.0</td>\n",
       "      <td>0.0</td>\n",
       "      <td>0.0</td>\n",
       "      <td>0.0</td>\n",
       "      <td>...</td>\n",
       "      <td>0.0</td>\n",
       "      <td>0.0</td>\n",
       "      <td>0.0</td>\n",
       "      <td>0.0</td>\n",
       "      <td>0.192060</td>\n",
       "      <td>2011.0</td>\n",
       "      <td>2.4</td>\n",
       "      <td>161600.0</td>\n",
       "      <td>4.0</td>\n",
       "      <td>8.0</td>\n",
       "    </tr>\n",
       "    <tr>\n",
       "      <th>18664</th>\n",
       "      <td>0.0</td>\n",
       "      <td>0.0</td>\n",
       "      <td>0.0</td>\n",
       "      <td>0.0</td>\n",
       "      <td>0.0</td>\n",
       "      <td>0.0</td>\n",
       "      <td>0.0</td>\n",
       "      <td>0.0</td>\n",
       "      <td>0.0</td>\n",
       "      <td>0.0</td>\n",
       "      <td>...</td>\n",
       "      <td>0.0</td>\n",
       "      <td>0.0</td>\n",
       "      <td>0.0</td>\n",
       "      <td>0.0</td>\n",
       "      <td>0.862117</td>\n",
       "      <td>2010.0</td>\n",
       "      <td>2.0</td>\n",
       "      <td>116365.0</td>\n",
       "      <td>4.0</td>\n",
       "      <td>4.0</td>\n",
       "    </tr>\n",
       "    <tr>\n",
       "      <th>18665</th>\n",
       "      <td>0.0</td>\n",
       "      <td>0.0</td>\n",
       "      <td>0.0</td>\n",
       "      <td>0.0</td>\n",
       "      <td>0.0</td>\n",
       "      <td>0.0</td>\n",
       "      <td>0.0</td>\n",
       "      <td>0.0</td>\n",
       "      <td>1.0</td>\n",
       "      <td>0.0</td>\n",
       "      <td>...</td>\n",
       "      <td>0.0</td>\n",
       "      <td>0.0</td>\n",
       "      <td>0.0</td>\n",
       "      <td>0.0</td>\n",
       "      <td>-0.676067</td>\n",
       "      <td>2007.0</td>\n",
       "      <td>2.0</td>\n",
       "      <td>51258.0</td>\n",
       "      <td>4.0</td>\n",
       "      <td>4.0</td>\n",
       "    </tr>\n",
       "    <tr>\n",
       "      <th>18666</th>\n",
       "      <td>0.0</td>\n",
       "      <td>0.0</td>\n",
       "      <td>0.0</td>\n",
       "      <td>0.0</td>\n",
       "      <td>0.0</td>\n",
       "      <td>0.0</td>\n",
       "      <td>0.0</td>\n",
       "      <td>0.0</td>\n",
       "      <td>0.0</td>\n",
       "      <td>0.0</td>\n",
       "      <td>...</td>\n",
       "      <td>0.0</td>\n",
       "      <td>0.0</td>\n",
       "      <td>1.0</td>\n",
       "      <td>0.0</td>\n",
       "      <td>-1.403994</td>\n",
       "      <td>2012.0</td>\n",
       "      <td>2.4</td>\n",
       "      <td>186923.0</td>\n",
       "      <td>4.0</td>\n",
       "      <td>12.0</td>\n",
       "    </tr>\n",
       "  </tbody>\n",
       "</table>\n",
       "<p>18667 rows × 119 columns</p>\n",
       "</div>"
      ],
      "text/plain": [
       "       ACURA  ALFA ROMEO  ASTON MARTIN  AUDI  BENTLEY  BMW  BUICK  CADILLAC  \\\n",
       "0        0.0         0.0           0.0   0.0      0.0  0.0    0.0       0.0   \n",
       "1        0.0         0.0           0.0   0.0      0.0  0.0    0.0       0.0   \n",
       "2        0.0         0.0           0.0   0.0      0.0  0.0    0.0       0.0   \n",
       "3        0.0         0.0           0.0   0.0      0.0  0.0    0.0       0.0   \n",
       "4        0.0         0.0           0.0   0.0      0.0  0.0    0.0       0.0   \n",
       "...      ...         ...           ...   ...      ...  ...    ...       ...   \n",
       "18662    0.0         0.0           0.0   0.0      0.0  0.0    0.0       0.0   \n",
       "18663    0.0         0.0           0.0   0.0      0.0  0.0    0.0       0.0   \n",
       "18664    0.0         0.0           0.0   0.0      0.0  0.0    0.0       0.0   \n",
       "18665    0.0         0.0           0.0   0.0      0.0  0.0    0.0       0.0   \n",
       "18666    0.0         0.0           0.0   0.0      0.0  0.0    0.0       0.0   \n",
       "\n",
       "       CHEVROLET  CHRYSLER  ...  Silver  Sky blue  White  Yellow     Price  \\\n",
       "0            0.0       0.0  ...     1.0       0.0    0.0     0.0 -0.002512   \n",
       "1            1.0       0.0  ...     0.0       0.0    0.0     0.0  0.269461   \n",
       "2            0.0       0.0  ...     0.0       0.0    0.0     0.0 -0.413338   \n",
       "3            0.0       0.0  ...     0.0       0.0    1.0     0.0 -0.822449   \n",
       "4            0.0       0.0  ...     1.0       0.0    0.0     0.0 -0.127923   \n",
       "...          ...       ...  ...     ...       ...    ...     ...       ...   \n",
       "18662        0.0       0.0  ...     1.0       0.0    0.0     0.0 -0.413338   \n",
       "18663        0.0       0.0  ...     0.0       0.0    0.0     0.0  0.192060   \n",
       "18664        0.0       0.0  ...     0.0       0.0    0.0     0.0  0.862117   \n",
       "18665        1.0       0.0  ...     0.0       0.0    0.0     0.0 -0.676067   \n",
       "18666        0.0       0.0  ...     0.0       0.0    1.0     0.0 -1.403994   \n",
       "\n",
       "       Prod. year  Engine volume   Mileage  Cylinders  Airbags  \n",
       "0          2010.0            3.5  186005.0        6.0     12.0  \n",
       "1          2011.0            3.0  192000.0        6.0      8.0  \n",
       "2          2006.0            1.3  200000.0        4.0      2.0  \n",
       "3          2011.0            2.5  168966.0        4.0      0.0  \n",
       "4          2014.0            1.3   91901.0        4.0      4.0  \n",
       "...           ...            ...       ...        ...      ...  \n",
       "18662      1999.0            2.0  300000.0        4.0      5.0  \n",
       "18663      2011.0            2.4  161600.0        4.0      8.0  \n",
       "18664      2010.0            2.0  116365.0        4.0      4.0  \n",
       "18665      2007.0            2.0   51258.0        4.0      4.0  \n",
       "18666      2012.0            2.4  186923.0        4.0     12.0  \n",
       "\n",
       "[18667 rows x 119 columns]"
      ]
     },
     "execution_count": 38,
     "metadata": {},
     "output_type": "execute_result"
    }
   ],
   "source": [
    "X=pd.DataFrame(data=X,columns=colunm_names)\n",
    "X"
   ]
  },
  {
   "cell_type": "markdown",
   "id": "7dedfa0f-3b1c-4d7e-8819-edb49987076d",
   "metadata": {},
   "source": [
    "Let's split our new dataset into training set and test set."
   ]
  },
  {
   "cell_type": "code",
   "execution_count": 39,
   "id": "c765b24c-bcf9-45c6-ad9b-b362b93a348e",
   "metadata": {},
   "outputs": [],
   "source": [
    "from sklearn.model_selection import train_test_split"
   ]
  },
  {
   "cell_type": "code",
   "execution_count": 40,
   "id": "1eb8740c-47bc-4cc5-a26b-4f3ec93c8e8d",
   "metadata": {},
   "outputs": [],
   "source": [
    "y=X.pop('Price')"
   ]
  },
  {
   "cell_type": "code",
   "execution_count": 41,
   "id": "f52f19af-ffa1-4e11-afad-b087b4406e6f",
   "metadata": {},
   "outputs": [],
   "source": [
    "X_train, X_test, y_train, y_test = train_test_split( X, y, test_size=0.30, random_state=0)"
   ]
  },
  {
   "cell_type": "markdown",
   "id": "ae607062-2e04-4939-a6c7-923c139a3845",
   "metadata": {},
   "source": [
    "Let's standardized our features using Standardscaler. We don't need standardize our dependent variable 'Price' because during transformation of variable 'Price' to fix skew we actually changed the scale of the variable also close to zero."
   ]
  },
  {
   "cell_type": "code",
   "execution_count": 42,
   "id": "82caf837-2e25-49d8-933a-337b69a7ee70",
   "metadata": {},
   "outputs": [],
   "source": [
    "from sklearn.preprocessing import StandardScaler"
   ]
  },
  {
   "cell_type": "code",
   "execution_count": 43,
   "id": "931129bc-ef73-4026-8fe2-8bc23a5bd62f",
   "metadata": {},
   "outputs": [],
   "source": [
    "ss=StandardScaler()"
   ]
  },
  {
   "cell_type": "code",
   "execution_count": 44,
   "id": "2fe05b32-18bd-4e4f-9696-ca64e1185271",
   "metadata": {},
   "outputs": [],
   "source": [
    "numeric_cols.remove('Price')"
   ]
  },
  {
   "cell_type": "code",
   "execution_count": 45,
   "id": "cdd5c226-6b3d-464a-9746-98f442209943",
   "metadata": {},
   "outputs": [],
   "source": [
    "X_train[numeric_cols]=ss.fit_transform(X_train[numeric_cols])"
   ]
  },
  {
   "cell_type": "code",
   "execution_count": 46,
   "id": "08c5ca74-fc8e-4e70-8f08-41da65b98453",
   "metadata": {},
   "outputs": [],
   "source": [
    "X_test[numeric_cols]=ss.transform(X_test[numeric_cols])"
   ]
  },
  {
   "cell_type": "markdown",
   "id": "ea6c9a6b-81e0-4689-84f1-a9af51b73e4e",
   "metadata": {},
   "source": [
    "Let's visualize the training data  after the the standardscaling."
   ]
  },
  {
   "cell_type": "code",
   "execution_count": 47,
   "id": "5fbd1635-0669-40b7-8b40-072bc25e346e",
   "metadata": {},
   "outputs": [
    {
     "data": {
      "text/html": [
       "<div>\n",
       "<style scoped>\n",
       "    .dataframe tbody tr th:only-of-type {\n",
       "        vertical-align: middle;\n",
       "    }\n",
       "\n",
       "    .dataframe tbody tr th {\n",
       "        vertical-align: top;\n",
       "    }\n",
       "\n",
       "    .dataframe thead th {\n",
       "        text-align: right;\n",
       "    }\n",
       "</style>\n",
       "<table border=\"1\" class=\"dataframe\">\n",
       "  <thead>\n",
       "    <tr style=\"text-align: right;\">\n",
       "      <th></th>\n",
       "      <th>ACURA</th>\n",
       "      <th>ALFA ROMEO</th>\n",
       "      <th>ASTON MARTIN</th>\n",
       "      <th>AUDI</th>\n",
       "      <th>BENTLEY</th>\n",
       "      <th>BMW</th>\n",
       "      <th>BUICK</th>\n",
       "      <th>CADILLAC</th>\n",
       "      <th>CHEVROLET</th>\n",
       "      <th>CHRYSLER</th>\n",
       "      <th>...</th>\n",
       "      <th>Red</th>\n",
       "      <th>Silver</th>\n",
       "      <th>Sky blue</th>\n",
       "      <th>White</th>\n",
       "      <th>Yellow</th>\n",
       "      <th>Prod. year</th>\n",
       "      <th>Engine volume</th>\n",
       "      <th>Mileage</th>\n",
       "      <th>Cylinders</th>\n",
       "      <th>Airbags</th>\n",
       "    </tr>\n",
       "  </thead>\n",
       "  <tbody>\n",
       "    <tr>\n",
       "      <th>15348</th>\n",
       "      <td>0.0</td>\n",
       "      <td>0.0</td>\n",
       "      <td>0.0</td>\n",
       "      <td>0.0</td>\n",
       "      <td>0.0</td>\n",
       "      <td>0.0</td>\n",
       "      <td>0.0</td>\n",
       "      <td>0.0</td>\n",
       "      <td>0.0</td>\n",
       "      <td>0.0</td>\n",
       "      <td>...</td>\n",
       "      <td>0.0</td>\n",
       "      <td>0.0</td>\n",
       "      <td>0.0</td>\n",
       "      <td>0.0</td>\n",
       "      <td>0.0</td>\n",
       "      <td>0.722257</td>\n",
       "      <td>-0.572618</td>\n",
       "      <td>0.591144</td>\n",
       "      <td>-0.483567</td>\n",
       "      <td>1.245111</td>\n",
       "    </tr>\n",
       "    <tr>\n",
       "      <th>1256</th>\n",
       "      <td>0.0</td>\n",
       "      <td>0.0</td>\n",
       "      <td>0.0</td>\n",
       "      <td>0.0</td>\n",
       "      <td>0.0</td>\n",
       "      <td>0.0</td>\n",
       "      <td>0.0</td>\n",
       "      <td>0.0</td>\n",
       "      <td>0.0</td>\n",
       "      <td>0.0</td>\n",
       "      <td>...</td>\n",
       "      <td>0.0</td>\n",
       "      <td>0.0</td>\n",
       "      <td>0.0</td>\n",
       "      <td>0.0</td>\n",
       "      <td>0.0</td>\n",
       "      <td>1.250921</td>\n",
       "      <td>0.213253</td>\n",
       "      <td>-1.298751</td>\n",
       "      <td>1.176736</td>\n",
       "      <td>1.245111</td>\n",
       "    </tr>\n",
       "    <tr>\n",
       "      <th>1024</th>\n",
       "      <td>0.0</td>\n",
       "      <td>0.0</td>\n",
       "      <td>0.0</td>\n",
       "      <td>0.0</td>\n",
       "      <td>0.0</td>\n",
       "      <td>0.0</td>\n",
       "      <td>0.0</td>\n",
       "      <td>0.0</td>\n",
       "      <td>0.0</td>\n",
       "      <td>0.0</td>\n",
       "      <td>...</td>\n",
       "      <td>0.0</td>\n",
       "      <td>0.0</td>\n",
       "      <td>0.0</td>\n",
       "      <td>0.0</td>\n",
       "      <td>0.0</td>\n",
       "      <td>-1.392400</td>\n",
       "      <td>0.100986</td>\n",
       "      <td>0.243109</td>\n",
       "      <td>-0.483567</td>\n",
       "      <td>-0.599822</td>\n",
       "    </tr>\n",
       "    <tr>\n",
       "      <th>1567</th>\n",
       "      <td>0.0</td>\n",
       "      <td>0.0</td>\n",
       "      <td>0.0</td>\n",
       "      <td>0.0</td>\n",
       "      <td>0.0</td>\n",
       "      <td>0.0</td>\n",
       "      <td>0.0</td>\n",
       "      <td>0.0</td>\n",
       "      <td>0.0</td>\n",
       "      <td>0.0</td>\n",
       "      <td>...</td>\n",
       "      <td>0.0</td>\n",
       "      <td>1.0</td>\n",
       "      <td>0.0</td>\n",
       "      <td>0.0</td>\n",
       "      <td>0.0</td>\n",
       "      <td>0.017371</td>\n",
       "      <td>1.335926</td>\n",
       "      <td>1.375519</td>\n",
       "      <td>1.176736</td>\n",
       "      <td>1.245111</td>\n",
       "    </tr>\n",
       "    <tr>\n",
       "      <th>11696</th>\n",
       "      <td>0.0</td>\n",
       "      <td>0.0</td>\n",
       "      <td>0.0</td>\n",
       "      <td>0.0</td>\n",
       "      <td>0.0</td>\n",
       "      <td>0.0</td>\n",
       "      <td>0.0</td>\n",
       "      <td>0.0</td>\n",
       "      <td>0.0</td>\n",
       "      <td>0.0</td>\n",
       "      <td>...</td>\n",
       "      <td>0.0</td>\n",
       "      <td>0.0</td>\n",
       "      <td>0.0</td>\n",
       "      <td>0.0</td>\n",
       "      <td>0.0</td>\n",
       "      <td>0.017371</td>\n",
       "      <td>-1.133955</td>\n",
       "      <td>-0.127696</td>\n",
       "      <td>-0.483567</td>\n",
       "      <td>-0.599822</td>\n",
       "    </tr>\n",
       "    <tr>\n",
       "      <th>...</th>\n",
       "      <td>...</td>\n",
       "      <td>...</td>\n",
       "      <td>...</td>\n",
       "      <td>...</td>\n",
       "      <td>...</td>\n",
       "      <td>...</td>\n",
       "      <td>...</td>\n",
       "      <td>...</td>\n",
       "      <td>...</td>\n",
       "      <td>...</td>\n",
       "      <td>...</td>\n",
       "      <td>...</td>\n",
       "      <td>...</td>\n",
       "      <td>...</td>\n",
       "      <td>...</td>\n",
       "      <td>...</td>\n",
       "      <td>...</td>\n",
       "      <td>...</td>\n",
       "      <td>...</td>\n",
       "      <td>...</td>\n",
       "      <td>...</td>\n",
       "    </tr>\n",
       "    <tr>\n",
       "      <th>9225</th>\n",
       "      <td>0.0</td>\n",
       "      <td>0.0</td>\n",
       "      <td>0.0</td>\n",
       "      <td>0.0</td>\n",
       "      <td>0.0</td>\n",
       "      <td>0.0</td>\n",
       "      <td>0.0</td>\n",
       "      <td>0.0</td>\n",
       "      <td>0.0</td>\n",
       "      <td>0.0</td>\n",
       "      <td>...</td>\n",
       "      <td>0.0</td>\n",
       "      <td>0.0</td>\n",
       "      <td>0.0</td>\n",
       "      <td>0.0</td>\n",
       "      <td>0.0</td>\n",
       "      <td>0.369814</td>\n",
       "      <td>2.570867</td>\n",
       "      <td>0.752264</td>\n",
       "      <td>2.837038</td>\n",
       "      <td>-1.522288</td>\n",
       "    </tr>\n",
       "    <tr>\n",
       "      <th>13123</th>\n",
       "      <td>0.0</td>\n",
       "      <td>0.0</td>\n",
       "      <td>0.0</td>\n",
       "      <td>0.0</td>\n",
       "      <td>0.0</td>\n",
       "      <td>0.0</td>\n",
       "      <td>0.0</td>\n",
       "      <td>0.0</td>\n",
       "      <td>0.0</td>\n",
       "      <td>0.0</td>\n",
       "      <td>...</td>\n",
       "      <td>0.0</td>\n",
       "      <td>0.0</td>\n",
       "      <td>0.0</td>\n",
       "      <td>0.0</td>\n",
       "      <td>0.0</td>\n",
       "      <td>-0.158850</td>\n",
       "      <td>-0.797153</td>\n",
       "      <td>-0.518342</td>\n",
       "      <td>-0.483567</td>\n",
       "      <td>-0.599822</td>\n",
       "    </tr>\n",
       "    <tr>\n",
       "      <th>9845</th>\n",
       "      <td>0.0</td>\n",
       "      <td>0.0</td>\n",
       "      <td>0.0</td>\n",
       "      <td>0.0</td>\n",
       "      <td>0.0</td>\n",
       "      <td>0.0</td>\n",
       "      <td>0.0</td>\n",
       "      <td>0.0</td>\n",
       "      <td>0.0</td>\n",
       "      <td>0.0</td>\n",
       "      <td>...</td>\n",
       "      <td>0.0</td>\n",
       "      <td>0.0</td>\n",
       "      <td>0.0</td>\n",
       "      <td>0.0</td>\n",
       "      <td>0.0</td>\n",
       "      <td>-1.039957</td>\n",
       "      <td>0.100986</td>\n",
       "      <td>0.325260</td>\n",
       "      <td>-0.483567</td>\n",
       "      <td>-1.061055</td>\n",
       "    </tr>\n",
       "    <tr>\n",
       "      <th>10799</th>\n",
       "      <td>0.0</td>\n",
       "      <td>0.0</td>\n",
       "      <td>0.0</td>\n",
       "      <td>0.0</td>\n",
       "      <td>0.0</td>\n",
       "      <td>0.0</td>\n",
       "      <td>0.0</td>\n",
       "      <td>0.0</td>\n",
       "      <td>0.0</td>\n",
       "      <td>0.0</td>\n",
       "      <td>...</td>\n",
       "      <td>0.0</td>\n",
       "      <td>0.0</td>\n",
       "      <td>0.0</td>\n",
       "      <td>0.0</td>\n",
       "      <td>1.0</td>\n",
       "      <td>-0.335072</td>\n",
       "      <td>0.213253</td>\n",
       "      <td>-0.216243</td>\n",
       "      <td>-0.483567</td>\n",
       "      <td>-0.599822</td>\n",
       "    </tr>\n",
       "    <tr>\n",
       "      <th>2732</th>\n",
       "      <td>0.0</td>\n",
       "      <td>0.0</td>\n",
       "      <td>0.0</td>\n",
       "      <td>0.0</td>\n",
       "      <td>0.0</td>\n",
       "      <td>0.0</td>\n",
       "      <td>0.0</td>\n",
       "      <td>0.0</td>\n",
       "      <td>0.0</td>\n",
       "      <td>0.0</td>\n",
       "      <td>...</td>\n",
       "      <td>0.0</td>\n",
       "      <td>0.0</td>\n",
       "      <td>0.0</td>\n",
       "      <td>0.0</td>\n",
       "      <td>0.0</td>\n",
       "      <td>-0.158850</td>\n",
       "      <td>1.111391</td>\n",
       "      <td>1.831789</td>\n",
       "      <td>1.176736</td>\n",
       "      <td>1.245111</td>\n",
       "    </tr>\n",
       "  </tbody>\n",
       "</table>\n",
       "<p>13066 rows × 118 columns</p>\n",
       "</div>"
      ],
      "text/plain": [
       "       ACURA  ALFA ROMEO  ASTON MARTIN  AUDI  BENTLEY  BMW  BUICK  CADILLAC  \\\n",
       "15348    0.0         0.0           0.0   0.0      0.0  0.0    0.0       0.0   \n",
       "1256     0.0         0.0           0.0   0.0      0.0  0.0    0.0       0.0   \n",
       "1024     0.0         0.0           0.0   0.0      0.0  0.0    0.0       0.0   \n",
       "1567     0.0         0.0           0.0   0.0      0.0  0.0    0.0       0.0   \n",
       "11696    0.0         0.0           0.0   0.0      0.0  0.0    0.0       0.0   \n",
       "...      ...         ...           ...   ...      ...  ...    ...       ...   \n",
       "9225     0.0         0.0           0.0   0.0      0.0  0.0    0.0       0.0   \n",
       "13123    0.0         0.0           0.0   0.0      0.0  0.0    0.0       0.0   \n",
       "9845     0.0         0.0           0.0   0.0      0.0  0.0    0.0       0.0   \n",
       "10799    0.0         0.0           0.0   0.0      0.0  0.0    0.0       0.0   \n",
       "2732     0.0         0.0           0.0   0.0      0.0  0.0    0.0       0.0   \n",
       "\n",
       "       CHEVROLET  CHRYSLER  ...  Red  Silver  Sky blue  White  Yellow  \\\n",
       "15348        0.0       0.0  ...  0.0     0.0       0.0    0.0     0.0   \n",
       "1256         0.0       0.0  ...  0.0     0.0       0.0    0.0     0.0   \n",
       "1024         0.0       0.0  ...  0.0     0.0       0.0    0.0     0.0   \n",
       "1567         0.0       0.0  ...  0.0     1.0       0.0    0.0     0.0   \n",
       "11696        0.0       0.0  ...  0.0     0.0       0.0    0.0     0.0   \n",
       "...          ...       ...  ...  ...     ...       ...    ...     ...   \n",
       "9225         0.0       0.0  ...  0.0     0.0       0.0    0.0     0.0   \n",
       "13123        0.0       0.0  ...  0.0     0.0       0.0    0.0     0.0   \n",
       "9845         0.0       0.0  ...  0.0     0.0       0.0    0.0     0.0   \n",
       "10799        0.0       0.0  ...  0.0     0.0       0.0    0.0     1.0   \n",
       "2732         0.0       0.0  ...  0.0     0.0       0.0    0.0     0.0   \n",
       "\n",
       "       Prod. year  Engine volume   Mileage  Cylinders   Airbags  \n",
       "15348    0.722257      -0.572618  0.591144  -0.483567  1.245111  \n",
       "1256     1.250921       0.213253 -1.298751   1.176736  1.245111  \n",
       "1024    -1.392400       0.100986  0.243109  -0.483567 -0.599822  \n",
       "1567     0.017371       1.335926  1.375519   1.176736  1.245111  \n",
       "11696    0.017371      -1.133955 -0.127696  -0.483567 -0.599822  \n",
       "...           ...            ...       ...        ...       ...  \n",
       "9225     0.369814       2.570867  0.752264   2.837038 -1.522288  \n",
       "13123   -0.158850      -0.797153 -0.518342  -0.483567 -0.599822  \n",
       "9845    -1.039957       0.100986  0.325260  -0.483567 -1.061055  \n",
       "10799   -0.335072       0.213253 -0.216243  -0.483567 -0.599822  \n",
       "2732    -0.158850       1.111391  1.831789   1.176736  1.245111  \n",
       "\n",
       "[13066 rows x 118 columns]"
      ]
     },
     "execution_count": 47,
     "metadata": {},
     "output_type": "execute_result"
    }
   ],
   "source": [
    "X_train"
   ]
  },
  {
   "cell_type": "markdown",
   "id": "849bbea8-a371-479c-950a-863eea7c5f36",
   "metadata": {},
   "source": [
    "# 4. Linear Regression Models"
   ]
  },
  {
   "cell_type": "markdown",
   "id": "f4671add-cda9-4d5f-b397-692d535f14f8",
   "metadata": {},
   "source": [
    "## a. Linear Regression"
   ]
  },
  {
   "cell_type": "markdown",
   "id": "5b910e8a-32a2-474a-9567-2957b7d6518b",
   "metadata": {},
   "source": [
    "Let's build our first Linear Regression model using all the features."
   ]
  },
  {
   "cell_type": "code",
   "execution_count": 48,
   "id": "9bde33e7-754b-4a3e-8ec4-9452a63738ca",
   "metadata": {},
   "outputs": [
    {
     "data": {
      "text/html": [
       "<style>#sk-container-id-1 {color: black;background-color: white;}#sk-container-id-1 pre{padding: 0;}#sk-container-id-1 div.sk-toggleable {background-color: white;}#sk-container-id-1 label.sk-toggleable__label {cursor: pointer;display: block;width: 100%;margin-bottom: 0;padding: 0.3em;box-sizing: border-box;text-align: center;}#sk-container-id-1 label.sk-toggleable__label-arrow:before {content: \"▸\";float: left;margin-right: 0.25em;color: #696969;}#sk-container-id-1 label.sk-toggleable__label-arrow:hover:before {color: black;}#sk-container-id-1 div.sk-estimator:hover label.sk-toggleable__label-arrow:before {color: black;}#sk-container-id-1 div.sk-toggleable__content {max-height: 0;max-width: 0;overflow: hidden;text-align: left;background-color: #f0f8ff;}#sk-container-id-1 div.sk-toggleable__content pre {margin: 0.2em;color: black;border-radius: 0.25em;background-color: #f0f8ff;}#sk-container-id-1 input.sk-toggleable__control:checked~div.sk-toggleable__content {max-height: 200px;max-width: 100%;overflow: auto;}#sk-container-id-1 input.sk-toggleable__control:checked~label.sk-toggleable__label-arrow:before {content: \"▾\";}#sk-container-id-1 div.sk-estimator input.sk-toggleable__control:checked~label.sk-toggleable__label {background-color: #d4ebff;}#sk-container-id-1 div.sk-label input.sk-toggleable__control:checked~label.sk-toggleable__label {background-color: #d4ebff;}#sk-container-id-1 input.sk-hidden--visually {border: 0;clip: rect(1px 1px 1px 1px);clip: rect(1px, 1px, 1px, 1px);height: 1px;margin: -1px;overflow: hidden;padding: 0;position: absolute;width: 1px;}#sk-container-id-1 div.sk-estimator {font-family: monospace;background-color: #f0f8ff;border: 1px dotted black;border-radius: 0.25em;box-sizing: border-box;margin-bottom: 0.5em;}#sk-container-id-1 div.sk-estimator:hover {background-color: #d4ebff;}#sk-container-id-1 div.sk-parallel-item::after {content: \"\";width: 100%;border-bottom: 1px solid gray;flex-grow: 1;}#sk-container-id-1 div.sk-label:hover label.sk-toggleable__label {background-color: #d4ebff;}#sk-container-id-1 div.sk-serial::before {content: \"\";position: absolute;border-left: 1px solid gray;box-sizing: border-box;top: 0;bottom: 0;left: 50%;z-index: 0;}#sk-container-id-1 div.sk-serial {display: flex;flex-direction: column;align-items: center;background-color: white;padding-right: 0.2em;padding-left: 0.2em;position: relative;}#sk-container-id-1 div.sk-item {position: relative;z-index: 1;}#sk-container-id-1 div.sk-parallel {display: flex;align-items: stretch;justify-content: center;background-color: white;position: relative;}#sk-container-id-1 div.sk-item::before, #sk-container-id-1 div.sk-parallel-item::before {content: \"\";position: absolute;border-left: 1px solid gray;box-sizing: border-box;top: 0;bottom: 0;left: 50%;z-index: -1;}#sk-container-id-1 div.sk-parallel-item {display: flex;flex-direction: column;z-index: 1;position: relative;background-color: white;}#sk-container-id-1 div.sk-parallel-item:first-child::after {align-self: flex-end;width: 50%;}#sk-container-id-1 div.sk-parallel-item:last-child::after {align-self: flex-start;width: 50%;}#sk-container-id-1 div.sk-parallel-item:only-child::after {width: 0;}#sk-container-id-1 div.sk-dashed-wrapped {border: 1px dashed gray;margin: 0 0.4em 0.5em 0.4em;box-sizing: border-box;padding-bottom: 0.4em;background-color: white;}#sk-container-id-1 div.sk-label label {font-family: monospace;font-weight: bold;display: inline-block;line-height: 1.2em;}#sk-container-id-1 div.sk-label-container {text-align: center;}#sk-container-id-1 div.sk-container {/* jupyter's `normalize.less` sets `[hidden] { display: none; }` but bootstrap.min.css set `[hidden] { display: none !important; }` so we also need the `!important` here to be able to override the default hidden behavior on the sphinx rendered scikit-learn.org. See: https://github.com/scikit-learn/scikit-learn/issues/21755 */display: inline-block !important;position: relative;}#sk-container-id-1 div.sk-text-repr-fallback {display: none;}</style><div id=\"sk-container-id-1\" class=\"sk-top-container\"><div class=\"sk-text-repr-fallback\"><pre>LinearRegression()</pre><b>In a Jupyter environment, please rerun this cell to show the HTML representation or trust the notebook. <br />On GitHub, the HTML representation is unable to render, please try loading this page with nbviewer.org.</b></div><div class=\"sk-container\" hidden><div class=\"sk-item\"><div class=\"sk-estimator sk-toggleable\"><input class=\"sk-toggleable__control sk-hidden--visually\" id=\"sk-estimator-id-1\" type=\"checkbox\" checked><label for=\"sk-estimator-id-1\" class=\"sk-toggleable__label sk-toggleable__label-arrow\">LinearRegression</label><div class=\"sk-toggleable__content\"><pre>LinearRegression()</pre></div></div></div></div></div>"
      ],
      "text/plain": [
       "LinearRegression()"
      ]
     },
     "execution_count": 48,
     "metadata": {},
     "output_type": "execute_result"
    }
   ],
   "source": [
    "from sklearn.linear_model import LinearRegression\n",
    "from sklearn.metrics import r2_score \n",
    "from sklearn.metrics import mean_squared_error\n",
    "lm = LinearRegression()\n",
    "lm.fit(X_train,y_train)"
   ]
  },
  {
   "cell_type": "markdown",
   "id": "071b0f40-84e2-4401-a0ab-cd4990cf4457",
   "metadata": {},
   "source": [
    "Let's predict and check R^2 score on the test set and train set. "
   ]
  },
  {
   "cell_type": "code",
   "execution_count": 49,
   "id": "9a8ea462-00b7-416b-98db-6e1ec3b09627",
   "metadata": {},
   "outputs": [],
   "source": [
    "car_price_predictions_lm = lm.predict(X_test)"
   ]
  },
  {
   "cell_type": "code",
   "execution_count": 50,
   "id": "a2ccca03-7625-4679-9c36-3bc803b2a210",
   "metadata": {},
   "outputs": [
    {
     "data": {
      "text/plain": [
       "-2.906346739769424e+22"
      ]
     },
     "execution_count": 50,
     "metadata": {},
     "output_type": "execute_result"
    }
   ],
   "source": [
    "r2_score(y_test,car_price_predictions_lm)"
   ]
  },
  {
   "cell_type": "code",
   "execution_count": 51,
   "id": "c7796b35-59bb-4055-97a3-ef9b28ec949c",
   "metadata": {},
   "outputs": [
    {
     "data": {
      "text/plain": [
       "0.3394831143522353"
      ]
     },
     "execution_count": 51,
     "metadata": {},
     "output_type": "execute_result"
    }
   ],
   "source": [
    "r2_score(y_train,lm.predict(X_train))"
   ]
  },
  {
   "cell_type": "markdown",
   "id": "384d8cbc-3b60-434f-8546-bc6c2d5e397b",
   "metadata": {},
   "source": [
    "From the R^2 score of test set and train set we can conclude that current model is over fitting because test set R^2 score highly negative but train set R^2 score in positive.  "
   ]
  },
  {
   "cell_type": "markdown",
   "id": "a0b02d9d-f030-4a92-a287-26722db1dbe7",
   "metadata": {},
   "source": [
    "## b.  Linear Regression with polynominal features"
   ]
  },
  {
   "cell_type": "markdown",
   "id": "3e662913-c858-47fc-b99e-011651b10b1d",
   "metadata": {},
   "source": [
    "We will now add polynominal features to our dataset to see wheather it can give us better reults. At first we will try with polynonimal features of degree 2."
   ]
  },
  {
   "cell_type": "code",
   "execution_count": 52,
   "id": "36a80c09-880f-45db-8326-eb85cd063460",
   "metadata": {},
   "outputs": [],
   "source": [
    "from sklearn.preprocessing import PolynomialFeatures\n",
    "poly_features = PolynomialFeatures(degree=2, include_bias=False)"
   ]
  },
  {
   "cell_type": "code",
   "execution_count": 53,
   "id": "6206872e-9505-4673-998c-115de6e89ffe",
   "metadata": {},
   "outputs": [],
   "source": [
    "X_train_poly = poly_features.fit_transform(X_train)\n",
    "X_test_poly = poly_features.transform(X_test)"
   ]
  },
  {
   "cell_type": "markdown",
   "id": "e2c7b885-c0ce-4aa8-87fc-6e4ee55b2a4c",
   "metadata": {},
   "source": [
    "Let's train our model on this new dataset with polynominal features."
   ]
  },
  {
   "cell_type": "code",
   "execution_count": 54,
   "id": "645357f2-a951-443d-a677-826eebb2b159",
   "metadata": {},
   "outputs": [
    {
     "data": {
      "text/html": [
       "<style>#sk-container-id-2 {color: black;background-color: white;}#sk-container-id-2 pre{padding: 0;}#sk-container-id-2 div.sk-toggleable {background-color: white;}#sk-container-id-2 label.sk-toggleable__label {cursor: pointer;display: block;width: 100%;margin-bottom: 0;padding: 0.3em;box-sizing: border-box;text-align: center;}#sk-container-id-2 label.sk-toggleable__label-arrow:before {content: \"▸\";float: left;margin-right: 0.25em;color: #696969;}#sk-container-id-2 label.sk-toggleable__label-arrow:hover:before {color: black;}#sk-container-id-2 div.sk-estimator:hover label.sk-toggleable__label-arrow:before {color: black;}#sk-container-id-2 div.sk-toggleable__content {max-height: 0;max-width: 0;overflow: hidden;text-align: left;background-color: #f0f8ff;}#sk-container-id-2 div.sk-toggleable__content pre {margin: 0.2em;color: black;border-radius: 0.25em;background-color: #f0f8ff;}#sk-container-id-2 input.sk-toggleable__control:checked~div.sk-toggleable__content {max-height: 200px;max-width: 100%;overflow: auto;}#sk-container-id-2 input.sk-toggleable__control:checked~label.sk-toggleable__label-arrow:before {content: \"▾\";}#sk-container-id-2 div.sk-estimator input.sk-toggleable__control:checked~label.sk-toggleable__label {background-color: #d4ebff;}#sk-container-id-2 div.sk-label input.sk-toggleable__control:checked~label.sk-toggleable__label {background-color: #d4ebff;}#sk-container-id-2 input.sk-hidden--visually {border: 0;clip: rect(1px 1px 1px 1px);clip: rect(1px, 1px, 1px, 1px);height: 1px;margin: -1px;overflow: hidden;padding: 0;position: absolute;width: 1px;}#sk-container-id-2 div.sk-estimator {font-family: monospace;background-color: #f0f8ff;border: 1px dotted black;border-radius: 0.25em;box-sizing: border-box;margin-bottom: 0.5em;}#sk-container-id-2 div.sk-estimator:hover {background-color: #d4ebff;}#sk-container-id-2 div.sk-parallel-item::after {content: \"\";width: 100%;border-bottom: 1px solid gray;flex-grow: 1;}#sk-container-id-2 div.sk-label:hover label.sk-toggleable__label {background-color: #d4ebff;}#sk-container-id-2 div.sk-serial::before {content: \"\";position: absolute;border-left: 1px solid gray;box-sizing: border-box;top: 0;bottom: 0;left: 50%;z-index: 0;}#sk-container-id-2 div.sk-serial {display: flex;flex-direction: column;align-items: center;background-color: white;padding-right: 0.2em;padding-left: 0.2em;position: relative;}#sk-container-id-2 div.sk-item {position: relative;z-index: 1;}#sk-container-id-2 div.sk-parallel {display: flex;align-items: stretch;justify-content: center;background-color: white;position: relative;}#sk-container-id-2 div.sk-item::before, #sk-container-id-2 div.sk-parallel-item::before {content: \"\";position: absolute;border-left: 1px solid gray;box-sizing: border-box;top: 0;bottom: 0;left: 50%;z-index: -1;}#sk-container-id-2 div.sk-parallel-item {display: flex;flex-direction: column;z-index: 1;position: relative;background-color: white;}#sk-container-id-2 div.sk-parallel-item:first-child::after {align-self: flex-end;width: 50%;}#sk-container-id-2 div.sk-parallel-item:last-child::after {align-self: flex-start;width: 50%;}#sk-container-id-2 div.sk-parallel-item:only-child::after {width: 0;}#sk-container-id-2 div.sk-dashed-wrapped {border: 1px dashed gray;margin: 0 0.4em 0.5em 0.4em;box-sizing: border-box;padding-bottom: 0.4em;background-color: white;}#sk-container-id-2 div.sk-label label {font-family: monospace;font-weight: bold;display: inline-block;line-height: 1.2em;}#sk-container-id-2 div.sk-label-container {text-align: center;}#sk-container-id-2 div.sk-container {/* jupyter's `normalize.less` sets `[hidden] { display: none; }` but bootstrap.min.css set `[hidden] { display: none !important; }` so we also need the `!important` here to be able to override the default hidden behavior on the sphinx rendered scikit-learn.org. See: https://github.com/scikit-learn/scikit-learn/issues/21755 */display: inline-block !important;position: relative;}#sk-container-id-2 div.sk-text-repr-fallback {display: none;}</style><div id=\"sk-container-id-2\" class=\"sk-top-container\"><div class=\"sk-text-repr-fallback\"><pre>LinearRegression()</pre><b>In a Jupyter environment, please rerun this cell to show the HTML representation or trust the notebook. <br />On GitHub, the HTML representation is unable to render, please try loading this page with nbviewer.org.</b></div><div class=\"sk-container\" hidden><div class=\"sk-item\"><div class=\"sk-estimator sk-toggleable\"><input class=\"sk-toggleable__control sk-hidden--visually\" id=\"sk-estimator-id-2\" type=\"checkbox\" checked><label for=\"sk-estimator-id-2\" class=\"sk-toggleable__label sk-toggleable__label-arrow\">LinearRegression</label><div class=\"sk-toggleable__content\"><pre>LinearRegression()</pre></div></div></div></div></div>"
      ],
      "text/plain": [
       "LinearRegression()"
      ]
     },
     "execution_count": 54,
     "metadata": {},
     "output_type": "execute_result"
    }
   ],
   "source": [
    "lm_poly = LinearRegression()\n",
    "lm_poly.fit(X_train_poly, y_train)"
   ]
  },
  {
   "cell_type": "markdown",
   "id": "b715a432-c7d9-4c39-b67f-53b7bc42e10a",
   "metadata": {},
   "source": [
    "Let's check R^2 score on test set and train set."
   ]
  },
  {
   "cell_type": "code",
   "execution_count": 55,
   "id": "44da5340-cfe2-431c-a4b3-04ff95de574e",
   "metadata": {},
   "outputs": [
    {
     "data": {
      "text/plain": [
       "-4.6262657109329655e+20"
      ]
     },
     "execution_count": 55,
     "metadata": {},
     "output_type": "execute_result"
    }
   ],
   "source": [
    "r2_score(y_test,lm_poly.predict(X_test_poly))"
   ]
  },
  {
   "cell_type": "code",
   "execution_count": 56,
   "id": "f3742c57-3c88-493c-819f-3da04bdc1a3a",
   "metadata": {},
   "outputs": [
    {
     "data": {
      "text/plain": [
       "0.6046039294302823"
      ]
     },
     "execution_count": 56,
     "metadata": {},
     "output_type": "execute_result"
    }
   ],
   "source": [
    "r2_score(y_train,lm_poly.predict(X_train_poly))"
   ]
  },
  {
   "cell_type": "markdown",
   "id": "98d8c749-59ad-4092-ad2c-c7dcbc1ac8d6",
   "metadata": {},
   "source": [
    "From the R^2 score of test set and train set we can see that situation didn't improve as model is still over fitting on the train set as R^2 score is small on train set and highly negative on test set.\n",
    "\n",
    "Let's try with different degrees(1,2,3,4) of polynominal features to see whether situation can improve. For that we will use GridSearchCV to find a optimal polynominal degree."
   ]
  },
  {
   "cell_type": "code",
   "execution_count": 57,
   "id": "4afc8bda-4682-4700-9c7b-35ac61b9cf9f",
   "metadata": {},
   "outputs": [],
   "source": [
    "from sklearn.pipeline import Pipeline\n",
    "Input_lm_poly=[ ('polynomial', PolynomialFeatures(include_bias=False)), ('model',LinearRegression())]\n",
    "pipe_lm_poly=Pipeline(Input_lm_poly)"
   ]
  },
  {
   "cell_type": "code",
   "execution_count": 58,
   "id": "3f1034f1-3dc4-40fe-9d7d-2312651c7744",
   "metadata": {},
   "outputs": [],
   "source": [
    "param_grid_lm_poly = {\"polynomial__degree\": [1, 2, 3, 4]}"
   ]
  },
  {
   "cell_type": "code",
   "execution_count": 59,
   "id": "de8c8d54-1976-4612-93da-49f14f8a045e",
   "metadata": {},
   "outputs": [],
   "source": [
    "from sklearn.model_selection import GridSearchCV\n",
    "lm_poly_search = GridSearchCV(pipe_lm_poly, param_grid_lm_poly, n_jobs=8,cv=4)"
   ]
  },
  {
   "cell_type": "code",
   "execution_count": 60,
   "id": "76e389d2-216d-4055-8cf7-9dce74125f2a",
   "metadata": {},
   "outputs": [
    {
     "data": {
      "text/html": [
       "<style>#sk-container-id-3 {color: black;background-color: white;}#sk-container-id-3 pre{padding: 0;}#sk-container-id-3 div.sk-toggleable {background-color: white;}#sk-container-id-3 label.sk-toggleable__label {cursor: pointer;display: block;width: 100%;margin-bottom: 0;padding: 0.3em;box-sizing: border-box;text-align: center;}#sk-container-id-3 label.sk-toggleable__label-arrow:before {content: \"▸\";float: left;margin-right: 0.25em;color: #696969;}#sk-container-id-3 label.sk-toggleable__label-arrow:hover:before {color: black;}#sk-container-id-3 div.sk-estimator:hover label.sk-toggleable__label-arrow:before {color: black;}#sk-container-id-3 div.sk-toggleable__content {max-height: 0;max-width: 0;overflow: hidden;text-align: left;background-color: #f0f8ff;}#sk-container-id-3 div.sk-toggleable__content pre {margin: 0.2em;color: black;border-radius: 0.25em;background-color: #f0f8ff;}#sk-container-id-3 input.sk-toggleable__control:checked~div.sk-toggleable__content {max-height: 200px;max-width: 100%;overflow: auto;}#sk-container-id-3 input.sk-toggleable__control:checked~label.sk-toggleable__label-arrow:before {content: \"▾\";}#sk-container-id-3 div.sk-estimator input.sk-toggleable__control:checked~label.sk-toggleable__label {background-color: #d4ebff;}#sk-container-id-3 div.sk-label input.sk-toggleable__control:checked~label.sk-toggleable__label {background-color: #d4ebff;}#sk-container-id-3 input.sk-hidden--visually {border: 0;clip: rect(1px 1px 1px 1px);clip: rect(1px, 1px, 1px, 1px);height: 1px;margin: -1px;overflow: hidden;padding: 0;position: absolute;width: 1px;}#sk-container-id-3 div.sk-estimator {font-family: monospace;background-color: #f0f8ff;border: 1px dotted black;border-radius: 0.25em;box-sizing: border-box;margin-bottom: 0.5em;}#sk-container-id-3 div.sk-estimator:hover {background-color: #d4ebff;}#sk-container-id-3 div.sk-parallel-item::after {content: \"\";width: 100%;border-bottom: 1px solid gray;flex-grow: 1;}#sk-container-id-3 div.sk-label:hover label.sk-toggleable__label {background-color: #d4ebff;}#sk-container-id-3 div.sk-serial::before {content: \"\";position: absolute;border-left: 1px solid gray;box-sizing: border-box;top: 0;bottom: 0;left: 50%;z-index: 0;}#sk-container-id-3 div.sk-serial {display: flex;flex-direction: column;align-items: center;background-color: white;padding-right: 0.2em;padding-left: 0.2em;position: relative;}#sk-container-id-3 div.sk-item {position: relative;z-index: 1;}#sk-container-id-3 div.sk-parallel {display: flex;align-items: stretch;justify-content: center;background-color: white;position: relative;}#sk-container-id-3 div.sk-item::before, #sk-container-id-3 div.sk-parallel-item::before {content: \"\";position: absolute;border-left: 1px solid gray;box-sizing: border-box;top: 0;bottom: 0;left: 50%;z-index: -1;}#sk-container-id-3 div.sk-parallel-item {display: flex;flex-direction: column;z-index: 1;position: relative;background-color: white;}#sk-container-id-3 div.sk-parallel-item:first-child::after {align-self: flex-end;width: 50%;}#sk-container-id-3 div.sk-parallel-item:last-child::after {align-self: flex-start;width: 50%;}#sk-container-id-3 div.sk-parallel-item:only-child::after {width: 0;}#sk-container-id-3 div.sk-dashed-wrapped {border: 1px dashed gray;margin: 0 0.4em 0.5em 0.4em;box-sizing: border-box;padding-bottom: 0.4em;background-color: white;}#sk-container-id-3 div.sk-label label {font-family: monospace;font-weight: bold;display: inline-block;line-height: 1.2em;}#sk-container-id-3 div.sk-label-container {text-align: center;}#sk-container-id-3 div.sk-container {/* jupyter's `normalize.less` sets `[hidden] { display: none; }` but bootstrap.min.css set `[hidden] { display: none !important; }` so we also need the `!important` here to be able to override the default hidden behavior on the sphinx rendered scikit-learn.org. See: https://github.com/scikit-learn/scikit-learn/issues/21755 */display: inline-block !important;position: relative;}#sk-container-id-3 div.sk-text-repr-fallback {display: none;}</style><div id=\"sk-container-id-3\" class=\"sk-top-container\"><div class=\"sk-text-repr-fallback\"><pre>GridSearchCV(cv=4,\n",
       "             estimator=Pipeline(steps=[(&#x27;polynomial&#x27;,\n",
       "                                        PolynomialFeatures(include_bias=False)),\n",
       "                                       (&#x27;model&#x27;, LinearRegression())]),\n",
       "             n_jobs=8, param_grid={&#x27;polynomial__degree&#x27;: [1, 2, 3, 4]})</pre><b>In a Jupyter environment, please rerun this cell to show the HTML representation or trust the notebook. <br />On GitHub, the HTML representation is unable to render, please try loading this page with nbviewer.org.</b></div><div class=\"sk-container\" hidden><div class=\"sk-item sk-dashed-wrapped\"><div class=\"sk-label-container\"><div class=\"sk-label sk-toggleable\"><input class=\"sk-toggleable__control sk-hidden--visually\" id=\"sk-estimator-id-3\" type=\"checkbox\" ><label for=\"sk-estimator-id-3\" class=\"sk-toggleable__label sk-toggleable__label-arrow\">GridSearchCV</label><div class=\"sk-toggleable__content\"><pre>GridSearchCV(cv=4,\n",
       "             estimator=Pipeline(steps=[(&#x27;polynomial&#x27;,\n",
       "                                        PolynomialFeatures(include_bias=False)),\n",
       "                                       (&#x27;model&#x27;, LinearRegression())]),\n",
       "             n_jobs=8, param_grid={&#x27;polynomial__degree&#x27;: [1, 2, 3, 4]})</pre></div></div></div><div class=\"sk-parallel\"><div class=\"sk-parallel-item\"><div class=\"sk-item\"><div class=\"sk-label-container\"><div class=\"sk-label sk-toggleable\"><input class=\"sk-toggleable__control sk-hidden--visually\" id=\"sk-estimator-id-4\" type=\"checkbox\" ><label for=\"sk-estimator-id-4\" class=\"sk-toggleable__label sk-toggleable__label-arrow\">estimator: Pipeline</label><div class=\"sk-toggleable__content\"><pre>Pipeline(steps=[(&#x27;polynomial&#x27;, PolynomialFeatures(include_bias=False)),\n",
       "                (&#x27;model&#x27;, LinearRegression())])</pre></div></div></div><div class=\"sk-serial\"><div class=\"sk-item\"><div class=\"sk-serial\"><div class=\"sk-item\"><div class=\"sk-estimator sk-toggleable\"><input class=\"sk-toggleable__control sk-hidden--visually\" id=\"sk-estimator-id-5\" type=\"checkbox\" ><label for=\"sk-estimator-id-5\" class=\"sk-toggleable__label sk-toggleable__label-arrow\">PolynomialFeatures</label><div class=\"sk-toggleable__content\"><pre>PolynomialFeatures(include_bias=False)</pre></div></div></div><div class=\"sk-item\"><div class=\"sk-estimator sk-toggleable\"><input class=\"sk-toggleable__control sk-hidden--visually\" id=\"sk-estimator-id-6\" type=\"checkbox\" ><label for=\"sk-estimator-id-6\" class=\"sk-toggleable__label sk-toggleable__label-arrow\">LinearRegression</label><div class=\"sk-toggleable__content\"><pre>LinearRegression()</pre></div></div></div></div></div></div></div></div></div></div></div></div>"
      ],
      "text/plain": [
       "GridSearchCV(cv=4,\n",
       "             estimator=Pipeline(steps=[('polynomial',\n",
       "                                        PolynomialFeatures(include_bias=False)),\n",
       "                                       ('model', LinearRegression())]),\n",
       "             n_jobs=8, param_grid={'polynomial__degree': [1, 2, 3, 4]})"
      ]
     },
     "execution_count": 60,
     "metadata": {},
     "output_type": "execute_result"
    }
   ],
   "source": [
    "lm_poly_search.fit(X_train, y_train)"
   ]
  },
  {
   "cell_type": "code",
   "execution_count": 61,
   "id": "052e01fc-a916-49dc-9af1-e65a8f0da52c",
   "metadata": {},
   "outputs": [
    {
     "name": "stdout",
     "output_type": "stream",
     "text": [
      "{'memory': None, 'steps': [('polynomial', PolynomialFeatures(degree=1, include_bias=False)), ('model', LinearRegression())], 'verbose': False, 'polynomial': PolynomialFeatures(degree=1, include_bias=False), 'model': LinearRegression(), 'polynomial__degree': 1, 'polynomial__include_bias': False, 'polynomial__interaction_only': False, 'polynomial__order': 'C', 'model__copy_X': True, 'model__fit_intercept': True, 'model__n_jobs': None, 'model__positive': False}\n"
     ]
    }
   ],
   "source": [
    "lm_poly_best=lm_poly_search.best_estimator_\n",
    "print(lm_poly_best.get_params())"
   ]
  },
  {
   "cell_type": "markdown",
   "id": "c8c9b9f6-ca6b-4539-a314-1acb8151294c",
   "metadata": {},
   "source": [
    "After doing gridsearch we can see that Polynominal Features of degree 1 gives us the best fit. Let's checjk R^2 score on the test set based on the best fit. (As polynominal feature parameter for best model iss 1 so is just like linear regression with no polynominal features. So, It will still overfit we can say for sure from our early experience. But we will still check for shake of completeness.)"
   ]
  },
  {
   "cell_type": "code",
   "execution_count": 62,
   "id": "39b96d33-2b70-495e-8ef8-deed4f141043",
   "metadata": {},
   "outputs": [
    {
     "data": {
      "text/plain": [
       "-6.489359908922609e+21"
      ]
     },
     "execution_count": 62,
     "metadata": {},
     "output_type": "execute_result"
    }
   ],
   "source": [
    "r2_score(y_test,lm_poly_best.predict(X_test))"
   ]
  },
  {
   "cell_type": "markdown",
   "id": "90b35006-5ba0-4365-9558-e8cb4d87841a",
   "metadata": {},
   "source": [
    "The best model is also overiftting.\n",
    "\n",
    "So,we need to take different approach."
   ]
  },
  {
   "cell_type": "markdown",
   "id": "d1948e94-806c-4eae-8674-94b2d8a3ee5b",
   "metadata": {},
   "source": [
    "## c. Regularization Regression"
   ]
  },
  {
   "cell_type": "markdown",
   "id": "e1dde342-ddaa-4510-928e-38aed838560a",
   "metadata": {},
   "source": [
    "### i). Lasso"
   ]
  },
  {
   "cell_type": "markdown",
   "id": "ca15feda-aa4f-4b95-99e6-624a91a8a65e",
   "metadata": {},
   "source": [
    "We will first fit a Lasso with alpha value 0.001 along with polynominal features of degree 2."
   ]
  },
  {
   "cell_type": "code",
   "execution_count": 63,
   "id": "4686f431-bc0c-43f0-a41d-1de229c8b570",
   "metadata": {},
   "outputs": [],
   "source": [
    "from sklearn.linear_model import Lasso\n",
    "Input_lm_poly_lasso=[ ('polynomial', PolynomialFeatures(include_bias=False,degree=2)), ('model',Lasso(alpha=0.001, tol = 0.2,max_iter=10000))]\n",
    "pipe_lm_poly_lasso = Pipeline(Input_lm_poly_lasso)"
   ]
  },
  {
   "cell_type": "code",
   "execution_count": 64,
   "id": "31243709-7579-47d8-ab41-32015fdd7c28",
   "metadata": {},
   "outputs": [
    {
     "data": {
      "text/html": [
       "<style>#sk-container-id-4 {color: black;background-color: white;}#sk-container-id-4 pre{padding: 0;}#sk-container-id-4 div.sk-toggleable {background-color: white;}#sk-container-id-4 label.sk-toggleable__label {cursor: pointer;display: block;width: 100%;margin-bottom: 0;padding: 0.3em;box-sizing: border-box;text-align: center;}#sk-container-id-4 label.sk-toggleable__label-arrow:before {content: \"▸\";float: left;margin-right: 0.25em;color: #696969;}#sk-container-id-4 label.sk-toggleable__label-arrow:hover:before {color: black;}#sk-container-id-4 div.sk-estimator:hover label.sk-toggleable__label-arrow:before {color: black;}#sk-container-id-4 div.sk-toggleable__content {max-height: 0;max-width: 0;overflow: hidden;text-align: left;background-color: #f0f8ff;}#sk-container-id-4 div.sk-toggleable__content pre {margin: 0.2em;color: black;border-radius: 0.25em;background-color: #f0f8ff;}#sk-container-id-4 input.sk-toggleable__control:checked~div.sk-toggleable__content {max-height: 200px;max-width: 100%;overflow: auto;}#sk-container-id-4 input.sk-toggleable__control:checked~label.sk-toggleable__label-arrow:before {content: \"▾\";}#sk-container-id-4 div.sk-estimator input.sk-toggleable__control:checked~label.sk-toggleable__label {background-color: #d4ebff;}#sk-container-id-4 div.sk-label input.sk-toggleable__control:checked~label.sk-toggleable__label {background-color: #d4ebff;}#sk-container-id-4 input.sk-hidden--visually {border: 0;clip: rect(1px 1px 1px 1px);clip: rect(1px, 1px, 1px, 1px);height: 1px;margin: -1px;overflow: hidden;padding: 0;position: absolute;width: 1px;}#sk-container-id-4 div.sk-estimator {font-family: monospace;background-color: #f0f8ff;border: 1px dotted black;border-radius: 0.25em;box-sizing: border-box;margin-bottom: 0.5em;}#sk-container-id-4 div.sk-estimator:hover {background-color: #d4ebff;}#sk-container-id-4 div.sk-parallel-item::after {content: \"\";width: 100%;border-bottom: 1px solid gray;flex-grow: 1;}#sk-container-id-4 div.sk-label:hover label.sk-toggleable__label {background-color: #d4ebff;}#sk-container-id-4 div.sk-serial::before {content: \"\";position: absolute;border-left: 1px solid gray;box-sizing: border-box;top: 0;bottom: 0;left: 50%;z-index: 0;}#sk-container-id-4 div.sk-serial {display: flex;flex-direction: column;align-items: center;background-color: white;padding-right: 0.2em;padding-left: 0.2em;position: relative;}#sk-container-id-4 div.sk-item {position: relative;z-index: 1;}#sk-container-id-4 div.sk-parallel {display: flex;align-items: stretch;justify-content: center;background-color: white;position: relative;}#sk-container-id-4 div.sk-item::before, #sk-container-id-4 div.sk-parallel-item::before {content: \"\";position: absolute;border-left: 1px solid gray;box-sizing: border-box;top: 0;bottom: 0;left: 50%;z-index: -1;}#sk-container-id-4 div.sk-parallel-item {display: flex;flex-direction: column;z-index: 1;position: relative;background-color: white;}#sk-container-id-4 div.sk-parallel-item:first-child::after {align-self: flex-end;width: 50%;}#sk-container-id-4 div.sk-parallel-item:last-child::after {align-self: flex-start;width: 50%;}#sk-container-id-4 div.sk-parallel-item:only-child::after {width: 0;}#sk-container-id-4 div.sk-dashed-wrapped {border: 1px dashed gray;margin: 0 0.4em 0.5em 0.4em;box-sizing: border-box;padding-bottom: 0.4em;background-color: white;}#sk-container-id-4 div.sk-label label {font-family: monospace;font-weight: bold;display: inline-block;line-height: 1.2em;}#sk-container-id-4 div.sk-label-container {text-align: center;}#sk-container-id-4 div.sk-container {/* jupyter's `normalize.less` sets `[hidden] { display: none; }` but bootstrap.min.css set `[hidden] { display: none !important; }` so we also need the `!important` here to be able to override the default hidden behavior on the sphinx rendered scikit-learn.org. See: https://github.com/scikit-learn/scikit-learn/issues/21755 */display: inline-block !important;position: relative;}#sk-container-id-4 div.sk-text-repr-fallback {display: none;}</style><div id=\"sk-container-id-4\" class=\"sk-top-container\"><div class=\"sk-text-repr-fallback\"><pre>Pipeline(steps=[(&#x27;polynomial&#x27;, PolynomialFeatures(include_bias=False)),\n",
       "                (&#x27;model&#x27;, Lasso(alpha=0.001, max_iter=10000, tol=0.2))])</pre><b>In a Jupyter environment, please rerun this cell to show the HTML representation or trust the notebook. <br />On GitHub, the HTML representation is unable to render, please try loading this page with nbviewer.org.</b></div><div class=\"sk-container\" hidden><div class=\"sk-item sk-dashed-wrapped\"><div class=\"sk-label-container\"><div class=\"sk-label sk-toggleable\"><input class=\"sk-toggleable__control sk-hidden--visually\" id=\"sk-estimator-id-7\" type=\"checkbox\" ><label for=\"sk-estimator-id-7\" class=\"sk-toggleable__label sk-toggleable__label-arrow\">Pipeline</label><div class=\"sk-toggleable__content\"><pre>Pipeline(steps=[(&#x27;polynomial&#x27;, PolynomialFeatures(include_bias=False)),\n",
       "                (&#x27;model&#x27;, Lasso(alpha=0.001, max_iter=10000, tol=0.2))])</pre></div></div></div><div class=\"sk-serial\"><div class=\"sk-item\"><div class=\"sk-estimator sk-toggleable\"><input class=\"sk-toggleable__control sk-hidden--visually\" id=\"sk-estimator-id-8\" type=\"checkbox\" ><label for=\"sk-estimator-id-8\" class=\"sk-toggleable__label sk-toggleable__label-arrow\">PolynomialFeatures</label><div class=\"sk-toggleable__content\"><pre>PolynomialFeatures(include_bias=False)</pre></div></div></div><div class=\"sk-item\"><div class=\"sk-estimator sk-toggleable\"><input class=\"sk-toggleable__control sk-hidden--visually\" id=\"sk-estimator-id-9\" type=\"checkbox\" ><label for=\"sk-estimator-id-9\" class=\"sk-toggleable__label sk-toggleable__label-arrow\">Lasso</label><div class=\"sk-toggleable__content\"><pre>Lasso(alpha=0.001, max_iter=10000, tol=0.2)</pre></div></div></div></div></div></div></div>"
      ],
      "text/plain": [
       "Pipeline(steps=[('polynomial', PolynomialFeatures(include_bias=False)),\n",
       "                ('model', Lasso(alpha=0.001, max_iter=10000, tol=0.2))])"
      ]
     },
     "execution_count": 64,
     "metadata": {},
     "output_type": "execute_result"
    }
   ],
   "source": [
    "pipe_lm_poly_lasso.fit(X_train, y_train)"
   ]
  },
  {
   "cell_type": "markdown",
   "id": "d28632bc-99df-4b0c-9d9e-198a295851fb",
   "metadata": {},
   "source": [
    "Let's check score on test set and train set."
   ]
  },
  {
   "cell_type": "code",
   "execution_count": 65,
   "id": "4a26f495-caea-478c-90cd-3d6b7cf7db71",
   "metadata": {},
   "outputs": [
    {
     "data": {
      "text/plain": [
       "0.49160566464196376"
      ]
     },
     "execution_count": 65,
     "metadata": {},
     "output_type": "execute_result"
    }
   ],
   "source": [
    "r2_score(y_test,pipe_lm_poly_lasso.predict(X_test))"
   ]
  },
  {
   "cell_type": "code",
   "execution_count": 66,
   "id": "e05bac7f-2aac-4e1e-8bbd-445aa24046a4",
   "metadata": {},
   "outputs": [
    {
     "data": {
      "text/plain": [
       "0.5339352247399016"
      ]
     },
     "execution_count": 66,
     "metadata": {},
     "output_type": "execute_result"
    }
   ],
   "source": [
    "r2_score(y_train,pipe_lm_poly_lasso.predict(X_train))"
   ]
  },
  {
   "cell_type": "markdown",
   "id": "ae9e543a-0a52-411b-a545-ab249448334f",
   "metadata": {},
   "source": [
    "From the R^2 score on test set and train set we can see that model isn't overfitting anymore.\n",
    "\n",
    "Let's try the current model 'pipe_lm_poly_lasso' with different value of alpha and different degree of polynominal features. So, We will perform hyperparameter tuning."
   ]
  },
  {
   "cell_type": "code",
   "execution_count": 67,
   "id": "0c20d2aa-3e70-4d39-9f03-9974becaa218",
   "metadata": {},
   "outputs": [],
   "source": [
    "param_grid_lm_poly_lasso = {\n",
    "    \"polynomial__degree\": [ 1, 2,3,4,5],\n",
    "    \"model__alpha\":[0.00001,0.0001,0.001,0.01,0.1,1,10]\n",
    "}"
   ]
  },
  {
   "cell_type": "code",
   "execution_count": 68,
   "id": "f7868238-9c10-45c0-b185-97314d713643",
   "metadata": {},
   "outputs": [
    {
     "data": {
      "text/html": [
       "<style>#sk-container-id-5 {color: black;background-color: white;}#sk-container-id-5 pre{padding: 0;}#sk-container-id-5 div.sk-toggleable {background-color: white;}#sk-container-id-5 label.sk-toggleable__label {cursor: pointer;display: block;width: 100%;margin-bottom: 0;padding: 0.3em;box-sizing: border-box;text-align: center;}#sk-container-id-5 label.sk-toggleable__label-arrow:before {content: \"▸\";float: left;margin-right: 0.25em;color: #696969;}#sk-container-id-5 label.sk-toggleable__label-arrow:hover:before {color: black;}#sk-container-id-5 div.sk-estimator:hover label.sk-toggleable__label-arrow:before {color: black;}#sk-container-id-5 div.sk-toggleable__content {max-height: 0;max-width: 0;overflow: hidden;text-align: left;background-color: #f0f8ff;}#sk-container-id-5 div.sk-toggleable__content pre {margin: 0.2em;color: black;border-radius: 0.25em;background-color: #f0f8ff;}#sk-container-id-5 input.sk-toggleable__control:checked~div.sk-toggleable__content {max-height: 200px;max-width: 100%;overflow: auto;}#sk-container-id-5 input.sk-toggleable__control:checked~label.sk-toggleable__label-arrow:before {content: \"▾\";}#sk-container-id-5 div.sk-estimator input.sk-toggleable__control:checked~label.sk-toggleable__label {background-color: #d4ebff;}#sk-container-id-5 div.sk-label input.sk-toggleable__control:checked~label.sk-toggleable__label {background-color: #d4ebff;}#sk-container-id-5 input.sk-hidden--visually {border: 0;clip: rect(1px 1px 1px 1px);clip: rect(1px, 1px, 1px, 1px);height: 1px;margin: -1px;overflow: hidden;padding: 0;position: absolute;width: 1px;}#sk-container-id-5 div.sk-estimator {font-family: monospace;background-color: #f0f8ff;border: 1px dotted black;border-radius: 0.25em;box-sizing: border-box;margin-bottom: 0.5em;}#sk-container-id-5 div.sk-estimator:hover {background-color: #d4ebff;}#sk-container-id-5 div.sk-parallel-item::after {content: \"\";width: 100%;border-bottom: 1px solid gray;flex-grow: 1;}#sk-container-id-5 div.sk-label:hover label.sk-toggleable__label {background-color: #d4ebff;}#sk-container-id-5 div.sk-serial::before {content: \"\";position: absolute;border-left: 1px solid gray;box-sizing: border-box;top: 0;bottom: 0;left: 50%;z-index: 0;}#sk-container-id-5 div.sk-serial {display: flex;flex-direction: column;align-items: center;background-color: white;padding-right: 0.2em;padding-left: 0.2em;position: relative;}#sk-container-id-5 div.sk-item {position: relative;z-index: 1;}#sk-container-id-5 div.sk-parallel {display: flex;align-items: stretch;justify-content: center;background-color: white;position: relative;}#sk-container-id-5 div.sk-item::before, #sk-container-id-5 div.sk-parallel-item::before {content: \"\";position: absolute;border-left: 1px solid gray;box-sizing: border-box;top: 0;bottom: 0;left: 50%;z-index: -1;}#sk-container-id-5 div.sk-parallel-item {display: flex;flex-direction: column;z-index: 1;position: relative;background-color: white;}#sk-container-id-5 div.sk-parallel-item:first-child::after {align-self: flex-end;width: 50%;}#sk-container-id-5 div.sk-parallel-item:last-child::after {align-self: flex-start;width: 50%;}#sk-container-id-5 div.sk-parallel-item:only-child::after {width: 0;}#sk-container-id-5 div.sk-dashed-wrapped {border: 1px dashed gray;margin: 0 0.4em 0.5em 0.4em;box-sizing: border-box;padding-bottom: 0.4em;background-color: white;}#sk-container-id-5 div.sk-label label {font-family: monospace;font-weight: bold;display: inline-block;line-height: 1.2em;}#sk-container-id-5 div.sk-label-container {text-align: center;}#sk-container-id-5 div.sk-container {/* jupyter's `normalize.less` sets `[hidden] { display: none; }` but bootstrap.min.css set `[hidden] { display: none !important; }` so we also need the `!important` here to be able to override the default hidden behavior on the sphinx rendered scikit-learn.org. See: https://github.com/scikit-learn/scikit-learn/issues/21755 */display: inline-block !important;position: relative;}#sk-container-id-5 div.sk-text-repr-fallback {display: none;}</style><div id=\"sk-container-id-5\" class=\"sk-top-container\"><div class=\"sk-text-repr-fallback\"><pre>GridSearchCV(cv=4,\n",
       "             estimator=Pipeline(steps=[(&#x27;polynomial&#x27;,\n",
       "                                        PolynomialFeatures(include_bias=False)),\n",
       "                                       (&#x27;model&#x27;,\n",
       "                                        Lasso(alpha=0.001, max_iter=10000,\n",
       "                                              tol=0.2))]),\n",
       "             n_jobs=8,\n",
       "             param_grid={&#x27;model__alpha&#x27;: [1e-05, 0.0001, 0.001, 0.01, 0.1, 1,\n",
       "                                          10],\n",
       "                         &#x27;polynomial__degree&#x27;: [1, 2, 3, 4, 5]})</pre><b>In a Jupyter environment, please rerun this cell to show the HTML representation or trust the notebook. <br />On GitHub, the HTML representation is unable to render, please try loading this page with nbviewer.org.</b></div><div class=\"sk-container\" hidden><div class=\"sk-item sk-dashed-wrapped\"><div class=\"sk-label-container\"><div class=\"sk-label sk-toggleable\"><input class=\"sk-toggleable__control sk-hidden--visually\" id=\"sk-estimator-id-10\" type=\"checkbox\" ><label for=\"sk-estimator-id-10\" class=\"sk-toggleable__label sk-toggleable__label-arrow\">GridSearchCV</label><div class=\"sk-toggleable__content\"><pre>GridSearchCV(cv=4,\n",
       "             estimator=Pipeline(steps=[(&#x27;polynomial&#x27;,\n",
       "                                        PolynomialFeatures(include_bias=False)),\n",
       "                                       (&#x27;model&#x27;,\n",
       "                                        Lasso(alpha=0.001, max_iter=10000,\n",
       "                                              tol=0.2))]),\n",
       "             n_jobs=8,\n",
       "             param_grid={&#x27;model__alpha&#x27;: [1e-05, 0.0001, 0.001, 0.01, 0.1, 1,\n",
       "                                          10],\n",
       "                         &#x27;polynomial__degree&#x27;: [1, 2, 3, 4, 5]})</pre></div></div></div><div class=\"sk-parallel\"><div class=\"sk-parallel-item\"><div class=\"sk-item\"><div class=\"sk-label-container\"><div class=\"sk-label sk-toggleable\"><input class=\"sk-toggleable__control sk-hidden--visually\" id=\"sk-estimator-id-11\" type=\"checkbox\" ><label for=\"sk-estimator-id-11\" class=\"sk-toggleable__label sk-toggleable__label-arrow\">estimator: Pipeline</label><div class=\"sk-toggleable__content\"><pre>Pipeline(steps=[(&#x27;polynomial&#x27;, PolynomialFeatures(include_bias=False)),\n",
       "                (&#x27;model&#x27;, Lasso(alpha=0.001, max_iter=10000, tol=0.2))])</pre></div></div></div><div class=\"sk-serial\"><div class=\"sk-item\"><div class=\"sk-serial\"><div class=\"sk-item\"><div class=\"sk-estimator sk-toggleable\"><input class=\"sk-toggleable__control sk-hidden--visually\" id=\"sk-estimator-id-12\" type=\"checkbox\" ><label for=\"sk-estimator-id-12\" class=\"sk-toggleable__label sk-toggleable__label-arrow\">PolynomialFeatures</label><div class=\"sk-toggleable__content\"><pre>PolynomialFeatures(include_bias=False)</pre></div></div></div><div class=\"sk-item\"><div class=\"sk-estimator sk-toggleable\"><input class=\"sk-toggleable__control sk-hidden--visually\" id=\"sk-estimator-id-13\" type=\"checkbox\" ><label for=\"sk-estimator-id-13\" class=\"sk-toggleable__label sk-toggleable__label-arrow\">Lasso</label><div class=\"sk-toggleable__content\"><pre>Lasso(alpha=0.001, max_iter=10000, tol=0.2)</pre></div></div></div></div></div></div></div></div></div></div></div></div>"
      ],
      "text/plain": [
       "GridSearchCV(cv=4,\n",
       "             estimator=Pipeline(steps=[('polynomial',\n",
       "                                        PolynomialFeatures(include_bias=False)),\n",
       "                                       ('model',\n",
       "                                        Lasso(alpha=0.001, max_iter=10000,\n",
       "                                              tol=0.2))]),\n",
       "             n_jobs=8,\n",
       "             param_grid={'model__alpha': [1e-05, 0.0001, 0.001, 0.01, 0.1, 1,\n",
       "                                          10],\n",
       "                         'polynomial__degree': [1, 2, 3, 4, 5]})"
      ]
     },
     "execution_count": 68,
     "metadata": {},
     "output_type": "execute_result"
    }
   ],
   "source": [
    "lm_poly_lasso_search = GridSearchCV(pipe_lm_poly_lasso, param_grid_lm_poly_lasso, n_jobs=8,cv=4)\n",
    "lm_poly_lasso_search.fit(X_train, y_train)"
   ]
  },
  {
   "cell_type": "code",
   "execution_count": 69,
   "id": "02f64bf2-579c-48f3-996e-16d139a0d8fc",
   "metadata": {},
   "outputs": [
    {
     "name": "stdout",
     "output_type": "stream",
     "text": [
      "{'memory': None, 'steps': [('polynomial', PolynomialFeatures(include_bias=False)), ('model', Lasso(alpha=0.001, max_iter=10000, tol=0.2))], 'verbose': False, 'polynomial': PolynomialFeatures(include_bias=False), 'model': Lasso(alpha=0.001, max_iter=10000, tol=0.2), 'polynomial__degree': 2, 'polynomial__include_bias': False, 'polynomial__interaction_only': False, 'polynomial__order': 'C', 'model__alpha': 0.001, 'model__copy_X': True, 'model__fit_intercept': True, 'model__max_iter': 10000, 'model__positive': False, 'model__precompute': False, 'model__random_state': None, 'model__selection': 'cyclic', 'model__tol': 0.2, 'model__warm_start': False}\n"
     ]
    }
   ],
   "source": [
    "lm_poly_lasso_best=lm_poly_lasso_search.best_estimator_\n",
    "print(lm_poly_lasso_best.get_params())"
   ]
  },
  {
   "cell_type": "markdown",
   "id": "0de9222d-8134-4f9f-9788-71606fd295db",
   "metadata": {},
   "source": [
    "We can see that the best value of parameter alpha is 0.001 and best degree for polynominal feature is 2.\n",
    "\n",
    "Let's check what is the R^2 score on test set."
   ]
  },
  {
   "cell_type": "code",
   "execution_count": 70,
   "id": "46d04292-9d0f-4a64-8dc1-b49600912f8d",
   "metadata": {},
   "outputs": [
    {
     "data": {
      "text/plain": [
       "0.49160566464196376"
      ]
     },
     "execution_count": 70,
     "metadata": {},
     "output_type": "execute_result"
    }
   ],
   "source": [
    "r2_score(y_test,lm_poly_lasso_best.predict(X_test))"
   ]
  },
  {
   "cell_type": "markdown",
   "id": "19c52c69-f920-4ede-85e1-a469fd91c06a",
   "metadata": {},
   "source": [
    "From the score we can say that the best model explain 49.16% of variance in data."
   ]
  },
  {
   "cell_type": "markdown",
   "id": "e6dc906c-6f16-45b2-8fac-0300f0877d13",
   "metadata": {},
   "source": [
    "### ii). Ridge Regression"
   ]
  },
  {
   "cell_type": "markdown",
   "id": "63827cca-28a6-447d-b9b7-7ea8a1c11423",
   "metadata": {},
   "source": [
    "Let's try another Regularization model 'Ridge Regression'  in the hope of getting better prediction. We will do hyperparameter tuning directly this time with several value for  alpha along with different degree of polynominal features."
   ]
  },
  {
   "cell_type": "code",
   "execution_count": 71,
   "id": "80873cc6-43a4-460e-ba20-b2f35113aff7",
   "metadata": {},
   "outputs": [],
   "source": [
    "from sklearn.linear_model import Ridge\n",
    "Input_lm_poly_ridge=[ ('polynomial', PolynomialFeatures(include_bias=False,degree=2)), ('model',Ridge(alpha=1))]\n",
    "pipe_lm_poly_ridge = Pipeline(Input_lm_poly_ridge)"
   ]
  },
  {
   "cell_type": "code",
   "execution_count": 72,
   "id": "8dd07244-20ca-434d-ad96-15648a8a1417",
   "metadata": {},
   "outputs": [],
   "source": [
    "param_grid_lm_poly_ridge = {\n",
    "    \"polynomial__degree\": [1,2,3,4,5],\n",
    "    \"model__alpha\":[0.001,0.01,0.1,1,10,50,100]\n",
    "}"
   ]
  },
  {
   "cell_type": "code",
   "execution_count": 73,
   "id": "e9c4291f-a376-42f0-97c2-c7415145224b",
   "metadata": {},
   "outputs": [
    {
     "data": {
      "text/html": [
       "<style>#sk-container-id-6 {color: black;background-color: white;}#sk-container-id-6 pre{padding: 0;}#sk-container-id-6 div.sk-toggleable {background-color: white;}#sk-container-id-6 label.sk-toggleable__label {cursor: pointer;display: block;width: 100%;margin-bottom: 0;padding: 0.3em;box-sizing: border-box;text-align: center;}#sk-container-id-6 label.sk-toggleable__label-arrow:before {content: \"▸\";float: left;margin-right: 0.25em;color: #696969;}#sk-container-id-6 label.sk-toggleable__label-arrow:hover:before {color: black;}#sk-container-id-6 div.sk-estimator:hover label.sk-toggleable__label-arrow:before {color: black;}#sk-container-id-6 div.sk-toggleable__content {max-height: 0;max-width: 0;overflow: hidden;text-align: left;background-color: #f0f8ff;}#sk-container-id-6 div.sk-toggleable__content pre {margin: 0.2em;color: black;border-radius: 0.25em;background-color: #f0f8ff;}#sk-container-id-6 input.sk-toggleable__control:checked~div.sk-toggleable__content {max-height: 200px;max-width: 100%;overflow: auto;}#sk-container-id-6 input.sk-toggleable__control:checked~label.sk-toggleable__label-arrow:before {content: \"▾\";}#sk-container-id-6 div.sk-estimator input.sk-toggleable__control:checked~label.sk-toggleable__label {background-color: #d4ebff;}#sk-container-id-6 div.sk-label input.sk-toggleable__control:checked~label.sk-toggleable__label {background-color: #d4ebff;}#sk-container-id-6 input.sk-hidden--visually {border: 0;clip: rect(1px 1px 1px 1px);clip: rect(1px, 1px, 1px, 1px);height: 1px;margin: -1px;overflow: hidden;padding: 0;position: absolute;width: 1px;}#sk-container-id-6 div.sk-estimator {font-family: monospace;background-color: #f0f8ff;border: 1px dotted black;border-radius: 0.25em;box-sizing: border-box;margin-bottom: 0.5em;}#sk-container-id-6 div.sk-estimator:hover {background-color: #d4ebff;}#sk-container-id-6 div.sk-parallel-item::after {content: \"\";width: 100%;border-bottom: 1px solid gray;flex-grow: 1;}#sk-container-id-6 div.sk-label:hover label.sk-toggleable__label {background-color: #d4ebff;}#sk-container-id-6 div.sk-serial::before {content: \"\";position: absolute;border-left: 1px solid gray;box-sizing: border-box;top: 0;bottom: 0;left: 50%;z-index: 0;}#sk-container-id-6 div.sk-serial {display: flex;flex-direction: column;align-items: center;background-color: white;padding-right: 0.2em;padding-left: 0.2em;position: relative;}#sk-container-id-6 div.sk-item {position: relative;z-index: 1;}#sk-container-id-6 div.sk-parallel {display: flex;align-items: stretch;justify-content: center;background-color: white;position: relative;}#sk-container-id-6 div.sk-item::before, #sk-container-id-6 div.sk-parallel-item::before {content: \"\";position: absolute;border-left: 1px solid gray;box-sizing: border-box;top: 0;bottom: 0;left: 50%;z-index: -1;}#sk-container-id-6 div.sk-parallel-item {display: flex;flex-direction: column;z-index: 1;position: relative;background-color: white;}#sk-container-id-6 div.sk-parallel-item:first-child::after {align-self: flex-end;width: 50%;}#sk-container-id-6 div.sk-parallel-item:last-child::after {align-self: flex-start;width: 50%;}#sk-container-id-6 div.sk-parallel-item:only-child::after {width: 0;}#sk-container-id-6 div.sk-dashed-wrapped {border: 1px dashed gray;margin: 0 0.4em 0.5em 0.4em;box-sizing: border-box;padding-bottom: 0.4em;background-color: white;}#sk-container-id-6 div.sk-label label {font-family: monospace;font-weight: bold;display: inline-block;line-height: 1.2em;}#sk-container-id-6 div.sk-label-container {text-align: center;}#sk-container-id-6 div.sk-container {/* jupyter's `normalize.less` sets `[hidden] { display: none; }` but bootstrap.min.css set `[hidden] { display: none !important; }` so we also need the `!important` here to be able to override the default hidden behavior on the sphinx rendered scikit-learn.org. See: https://github.com/scikit-learn/scikit-learn/issues/21755 */display: inline-block !important;position: relative;}#sk-container-id-6 div.sk-text-repr-fallback {display: none;}</style><div id=\"sk-container-id-6\" class=\"sk-top-container\"><div class=\"sk-text-repr-fallback\"><pre>GridSearchCV(cv=4,\n",
       "             estimator=Pipeline(steps=[(&#x27;polynomial&#x27;,\n",
       "                                        PolynomialFeatures(include_bias=False)),\n",
       "                                       (&#x27;model&#x27;, Ridge(alpha=1))]),\n",
       "             n_jobs=8,\n",
       "             param_grid={&#x27;model__alpha&#x27;: [0.001, 0.01, 0.1, 1, 10, 50, 100],\n",
       "                         &#x27;polynomial__degree&#x27;: [1, 2, 3, 4, 5]})</pre><b>In a Jupyter environment, please rerun this cell to show the HTML representation or trust the notebook. <br />On GitHub, the HTML representation is unable to render, please try loading this page with nbviewer.org.</b></div><div class=\"sk-container\" hidden><div class=\"sk-item sk-dashed-wrapped\"><div class=\"sk-label-container\"><div class=\"sk-label sk-toggleable\"><input class=\"sk-toggleable__control sk-hidden--visually\" id=\"sk-estimator-id-14\" type=\"checkbox\" ><label for=\"sk-estimator-id-14\" class=\"sk-toggleable__label sk-toggleable__label-arrow\">GridSearchCV</label><div class=\"sk-toggleable__content\"><pre>GridSearchCV(cv=4,\n",
       "             estimator=Pipeline(steps=[(&#x27;polynomial&#x27;,\n",
       "                                        PolynomialFeatures(include_bias=False)),\n",
       "                                       (&#x27;model&#x27;, Ridge(alpha=1))]),\n",
       "             n_jobs=8,\n",
       "             param_grid={&#x27;model__alpha&#x27;: [0.001, 0.01, 0.1, 1, 10, 50, 100],\n",
       "                         &#x27;polynomial__degree&#x27;: [1, 2, 3, 4, 5]})</pre></div></div></div><div class=\"sk-parallel\"><div class=\"sk-parallel-item\"><div class=\"sk-item\"><div class=\"sk-label-container\"><div class=\"sk-label sk-toggleable\"><input class=\"sk-toggleable__control sk-hidden--visually\" id=\"sk-estimator-id-15\" type=\"checkbox\" ><label for=\"sk-estimator-id-15\" class=\"sk-toggleable__label sk-toggleable__label-arrow\">estimator: Pipeline</label><div class=\"sk-toggleable__content\"><pre>Pipeline(steps=[(&#x27;polynomial&#x27;, PolynomialFeatures(include_bias=False)),\n",
       "                (&#x27;model&#x27;, Ridge(alpha=1))])</pre></div></div></div><div class=\"sk-serial\"><div class=\"sk-item\"><div class=\"sk-serial\"><div class=\"sk-item\"><div class=\"sk-estimator sk-toggleable\"><input class=\"sk-toggleable__control sk-hidden--visually\" id=\"sk-estimator-id-16\" type=\"checkbox\" ><label for=\"sk-estimator-id-16\" class=\"sk-toggleable__label sk-toggleable__label-arrow\">PolynomialFeatures</label><div class=\"sk-toggleable__content\"><pre>PolynomialFeatures(include_bias=False)</pre></div></div></div><div class=\"sk-item\"><div class=\"sk-estimator sk-toggleable\"><input class=\"sk-toggleable__control sk-hidden--visually\" id=\"sk-estimator-id-17\" type=\"checkbox\" ><label for=\"sk-estimator-id-17\" class=\"sk-toggleable__label sk-toggleable__label-arrow\">Ridge</label><div class=\"sk-toggleable__content\"><pre>Ridge(alpha=1)</pre></div></div></div></div></div></div></div></div></div></div></div></div>"
      ],
      "text/plain": [
       "GridSearchCV(cv=4,\n",
       "             estimator=Pipeline(steps=[('polynomial',\n",
       "                                        PolynomialFeatures(include_bias=False)),\n",
       "                                       ('model', Ridge(alpha=1))]),\n",
       "             n_jobs=8,\n",
       "             param_grid={'model__alpha': [0.001, 0.01, 0.1, 1, 10, 50, 100],\n",
       "                         'polynomial__degree': [1, 2, 3, 4, 5]})"
      ]
     },
     "execution_count": 73,
     "metadata": {},
     "output_type": "execute_result"
    }
   ],
   "source": [
    "lm_poly_ridge_search = GridSearchCV(pipe_lm_poly_ridge, param_grid_lm_poly_ridge, n_jobs=8,cv=4)\n",
    "lm_poly_ridge_search.fit(X_train, y_train)"
   ]
  },
  {
   "cell_type": "code",
   "execution_count": 74,
   "id": "3e5b6d59-3874-43e1-beb6-067994b01942",
   "metadata": {},
   "outputs": [
    {
     "data": {
      "text/plain": [
       "{'memory': None,\n",
       " 'steps': [('polynomial', PolynomialFeatures(include_bias=False)),\n",
       "  ('model', Ridge(alpha=50))],\n",
       " 'verbose': False,\n",
       " 'polynomial': PolynomialFeatures(include_bias=False),\n",
       " 'model': Ridge(alpha=50),\n",
       " 'polynomial__degree': 2,\n",
       " 'polynomial__include_bias': False,\n",
       " 'polynomial__interaction_only': False,\n",
       " 'polynomial__order': 'C',\n",
       " 'model__alpha': 50,\n",
       " 'model__copy_X': True,\n",
       " 'model__fit_intercept': True,\n",
       " 'model__max_iter': None,\n",
       " 'model__positive': False,\n",
       " 'model__random_state': None,\n",
       " 'model__solver': 'auto',\n",
       " 'model__tol': 0.0001}"
      ]
     },
     "execution_count": 74,
     "metadata": {},
     "output_type": "execute_result"
    }
   ],
   "source": [
    "lm_poly_ridge_best=lm_poly_ridge_search.best_estimator_\n",
    "lm_poly_ridge_best.get_params()"
   ]
  },
  {
   "cell_type": "markdown",
   "id": "d5eed9d9-094a-4aa2-bc8e-1473c09f1a59",
   "metadata": {},
   "source": [
    "We can see that value of alpha is 50 and degree of polynominal feature is 2 for best fit.\n",
    "\n",
    "Let's check R^2 score on test set."
   ]
  },
  {
   "cell_type": "code",
   "execution_count": 75,
   "id": "38de831c-456d-4db2-b5fe-d6de4ab2f379",
   "metadata": {},
   "outputs": [
    {
     "data": {
      "text/plain": [
       "0.5037012679456034"
      ]
     },
     "execution_count": 75,
     "metadata": {},
     "output_type": "execute_result"
    }
   ],
   "source": [
    "r2_score(y_test,lm_poly_ridge_best.predict(X_test))"
   ]
  },
  {
   "cell_type": "markdown",
   "id": "2aa14ef3-4e9a-4eb5-b232-665abc3d1da3",
   "metadata": {},
   "source": [
    "R^2 score on test set using Ridge Regression is comparatively better compared to Lasso."
   ]
  },
  {
   "cell_type": "code",
   "execution_count": 76,
   "id": "4cb9bd04-dccd-46ff-b529-b4dc34456b7c",
   "metadata": {},
   "outputs": [],
   "source": [
    "def  plot_dis(y,yhat):\n",
    "    \n",
    "    plt.figure()\n",
    "    ax1 = sns.distplot(y, hist=False, color=\"r\", label=\"Actual Value\")\n",
    "    sns.distplot(yhat, hist=False, color=\"b\", label=\"Fitted Values\" , ax=ax1)\n",
    "    plt.legend()\n",
    "\n",
    "    plt.title('Actual vs Fitted Values')\n",
    "    plt.xlabel('Price')\n",
    "    plt.ylabel('Proportion of Cars')\n",
    "\n",
    "    plt.show()\n",
    "    plt.close()"
   ]
  },
  {
   "cell_type": "code",
   "execution_count": 77,
   "id": "8d209bea-0409-49c8-a4d1-eecb0772e97b",
   "metadata": {},
   "outputs": [
    {
     "data": {
      "image/png": "[encoded data removed]",
      "text/plain": [
       "<Figure size 432x288 with 1 Axes>"
      ]
     },
     "metadata": {
      "needs_background": "light"
     },
     "output_type": "display_data"
    }
   ],
   "source": [
    "predicted_train=lm_poly_ridge_best.predict(X_train)\n",
    "plot_dis(y_train,predicted_train)"
   ]
  },
  {
   "cell_type": "code",
   "execution_count": 78,
   "id": "9961d24d-ac93-45ba-aab7-881f68077ac7",
   "metadata": {},
   "outputs": [
    {
     "data": {
      "image/png": "[encoded data removed]",
      "text/plain": [
       "<Figure size 432x288 with 1 Axes>"
      ]
     },
     "metadata": {
      "needs_background": "light"
     },
     "output_type": "display_data"
    }
   ],
   "source": [
    "predicted_test=lm_poly_ridge_best.predict(X_test)\n",
    "plot_dis(y_test,predicted_test)"
   ]
  },
  {
   "cell_type": "markdown",
   "id": "da530fa5-5e32-4216-9d7a-824359322478",
   "metadata": {},
   "source": [
    "A visual representation is shown that how 'lm_poly_ridge_best' model perform in predicting the dependent variable. "
   ]
  },
  {
   "cell_type": "markdown",
   "id": "a1de453d-e75e-4630-9726-c9d05a855e4e",
   "metadata": {},
   "source": [
    "# 5. Insights and key findings"
   ]
  },
  {
   "cell_type": "markdown",
   "id": "06e0fccc-adfb-4df7-a873-0aebcd3eba61",
   "metadata": {},
   "source": [
    "i) The first thing we noticed was that our target variable 'Price' distribution was severly skewed which could have create problem for our model to properly fitting the data. So, we transform the 'Price' variable to reduced the skewness and make it more normal.\n",
    "\n",
    "ii) The 'mileage' variables distribution was also severely skewed. But this time isntead of transformation we remove ouliers to make the distribution more normal. We didn't go for transformation this time becaause of  presence of 0 in the data.\n",
    "\n",
    "iii) We look into the distribution of 'Price' for different class of categorical variable and find out some variable like 'Manufacturer' category can be an useful predictor.\n",
    "\n",
    "iv) We look into the co-relation between different categorical variable and find out that 'Mileage' and 'Prod.year' have good co-relation with 'Price'.So,This variable can be used as predictor. But there is co-relations among the features itself which can be a problem so we might need to deal with it someway.\n",
    "\n",
    "v) Then we converted the categorical variable to numeric variable using one hot encoding. This can a very big of a datset.\n",
    "\n",
    "vi) We first fit a Linear Regression model using all the variable and found out that the model is overfitting. That is happening maybe because of lots of highly co-related variable in dataset due to one hot encoding.\n",
    "\n",
    "vii) We tried to fit polynominal features of different degree to get better result but failed to reduce overfitting.\n",
    "\n",
    "viii) We then applied regularization techniques like Lasso and Ridge Regression to reduce overfitting and it indeed gives us a better results with good prediction."
   ]
  },
  {
   "cell_type": "markdown",
   "id": "5450a588-adb3-4819-a88e-de2baf6fbea5",
   "metadata": {},
   "source": [
    "# 6. Next Steps"
   ]
  },
  {
   "cell_type": "markdown",
   "id": "d78a349f-3314-4107-9c74-ca97d92e3ca0",
   "metadata": {},
   "source": [
    "As our main focus is to get good predictions so we can try to use more advanced non-linear models like Random forest shown below."
   ]
  },
  {
   "cell_type": "code",
   "execution_count": 79,
   "id": "89c25af3-fe2f-4b96-8671-5363ae0d2993",
   "metadata": {},
   "outputs": [],
   "source": [
    "from sklearn.ensemble import RandomForestRegressor\n",
    "rf = RandomForestRegressor(n_estimators=100, max_features= 'sqrt',random_state=42)"
   ]
  },
  {
   "cell_type": "code",
   "execution_count": 80,
   "id": "b274337a-1642-4894-8d9b-86784d839cac",
   "metadata": {},
   "outputs": [
    {
     "data": {
      "text/html": [
       "<style>#sk-container-id-7 {color: black;background-color: white;}#sk-container-id-7 pre{padding: 0;}#sk-container-id-7 div.sk-toggleable {background-color: white;}#sk-container-id-7 label.sk-toggleable__label {cursor: pointer;display: block;width: 100%;margin-bottom: 0;padding: 0.3em;box-sizing: border-box;text-align: center;}#sk-container-id-7 label.sk-toggleable__label-arrow:before {content: \"▸\";float: left;margin-right: 0.25em;color: #696969;}#sk-container-id-7 label.sk-toggleable__label-arrow:hover:before {color: black;}#sk-container-id-7 div.sk-estimator:hover label.sk-toggleable__label-arrow:before {color: black;}#sk-container-id-7 div.sk-toggleable__content {max-height: 0;max-width: 0;overflow: hidden;text-align: left;background-color: #f0f8ff;}#sk-container-id-7 div.sk-toggleable__content pre {margin: 0.2em;color: black;border-radius: 0.25em;background-color: #f0f8ff;}#sk-container-id-7 input.sk-toggleable__control:checked~div.sk-toggleable__content {max-height: 200px;max-width: 100%;overflow: auto;}#sk-container-id-7 input.sk-toggleable__control:checked~label.sk-toggleable__label-arrow:before {content: \"▾\";}#sk-container-id-7 div.sk-estimator input.sk-toggleable__control:checked~label.sk-toggleable__label {background-color: #d4ebff;}#sk-container-id-7 div.sk-label input.sk-toggleable__control:checked~label.sk-toggleable__label {background-color: #d4ebff;}#sk-container-id-7 input.sk-hidden--visually {border: 0;clip: rect(1px 1px 1px 1px);clip: rect(1px, 1px, 1px, 1px);height: 1px;margin: -1px;overflow: hidden;padding: 0;position: absolute;width: 1px;}#sk-container-id-7 div.sk-estimator {font-family: monospace;background-color: #f0f8ff;border: 1px dotted black;border-radius: 0.25em;box-sizing: border-box;margin-bottom: 0.5em;}#sk-container-id-7 div.sk-estimator:hover {background-color: #d4ebff;}#sk-container-id-7 div.sk-parallel-item::after {content: \"\";width: 100%;border-bottom: 1px solid gray;flex-grow: 1;}#sk-container-id-7 div.sk-label:hover label.sk-toggleable__label {background-color: #d4ebff;}#sk-container-id-7 div.sk-serial::before {content: \"\";position: absolute;border-left: 1px solid gray;box-sizing: border-box;top: 0;bottom: 0;left: 50%;z-index: 0;}#sk-container-id-7 div.sk-serial {display: flex;flex-direction: column;align-items: center;background-color: white;padding-right: 0.2em;padding-left: 0.2em;position: relative;}#sk-container-id-7 div.sk-item {position: relative;z-index: 1;}#sk-container-id-7 div.sk-parallel {display: flex;align-items: stretch;justify-content: center;background-color: white;position: relative;}#sk-container-id-7 div.sk-item::before, #sk-container-id-7 div.sk-parallel-item::before {content: \"\";position: absolute;border-left: 1px solid gray;box-sizing: border-box;top: 0;bottom: 0;left: 50%;z-index: -1;}#sk-container-id-7 div.sk-parallel-item {display: flex;flex-direction: column;z-index: 1;position: relative;background-color: white;}#sk-container-id-7 div.sk-parallel-item:first-child::after {align-self: flex-end;width: 50%;}#sk-container-id-7 div.sk-parallel-item:last-child::after {align-self: flex-start;width: 50%;}#sk-container-id-7 div.sk-parallel-item:only-child::after {width: 0;}#sk-container-id-7 div.sk-dashed-wrapped {border: 1px dashed gray;margin: 0 0.4em 0.5em 0.4em;box-sizing: border-box;padding-bottom: 0.4em;background-color: white;}#sk-container-id-7 div.sk-label label {font-family: monospace;font-weight: bold;display: inline-block;line-height: 1.2em;}#sk-container-id-7 div.sk-label-container {text-align: center;}#sk-container-id-7 div.sk-container {/* jupyter's `normalize.less` sets `[hidden] { display: none; }` but bootstrap.min.css set `[hidden] { display: none !important; }` so we also need the `!important` here to be able to override the default hidden behavior on the sphinx rendered scikit-learn.org. See: https://github.com/scikit-learn/scikit-learn/issues/21755 */display: inline-block !important;position: relative;}#sk-container-id-7 div.sk-text-repr-fallback {display: none;}</style><div id=\"sk-container-id-7\" class=\"sk-top-container\"><div class=\"sk-text-repr-fallback\"><pre>RandomForestRegressor(max_features=&#x27;sqrt&#x27;, random_state=42)</pre><b>In a Jupyter environment, please rerun this cell to show the HTML representation or trust the notebook. <br />On GitHub, the HTML representation is unable to render, please try loading this page with nbviewer.org.</b></div><div class=\"sk-container\" hidden><div class=\"sk-item\"><div class=\"sk-estimator sk-toggleable\"><input class=\"sk-toggleable__control sk-hidden--visually\" id=\"sk-estimator-id-18\" type=\"checkbox\" checked><label for=\"sk-estimator-id-18\" class=\"sk-toggleable__label sk-toggleable__label-arrow\">RandomForestRegressor</label><div class=\"sk-toggleable__content\"><pre>RandomForestRegressor(max_features=&#x27;sqrt&#x27;, random_state=42)</pre></div></div></div></div></div>"
      ],
      "text/plain": [
       "RandomForestRegressor(max_features='sqrt', random_state=42)"
      ]
     },
     "execution_count": 80,
     "metadata": {},
     "output_type": "execute_result"
    }
   ],
   "source": [
    "rf.fit(X_train,y_train)"
   ]
  },
  {
   "cell_type": "code",
   "execution_count": 81,
   "id": "93977ebc-8eaa-48d8-af90-0a2e79fd3dc9",
   "metadata": {},
   "outputs": [
    {
     "data": {
      "text/plain": [
       "0.6944617531267814"
      ]
     },
     "execution_count": 81,
     "metadata": {},
     "output_type": "execute_result"
    }
   ],
   "source": [
    "r2_score(y_test,rf.predict(X_test))"
   ]
  },
  {
   "cell_type": "markdown",
   "id": "b88d11b1-4be9-4b9a-b3c7-a602221c4534",
   "metadata": {},
   "source": [
    "We get a R^2 score of 69.56% on test set which is significantly better than all the previous models.\n",
    "\n",
    "We can now try to do hyperparameter tuning to get better prediction which in turn will give us better R^2 score."
   ]
  },
  {
   "cell_type": "code",
   "execution_count": 82,
   "id": "24f2aba3-2682-4368-a32b-11b9673c68fd",
   "metadata": {},
   "outputs": [
    {
     "name": "stdout",
     "output_type": "stream",
     "text": [
      "Fitting 4 folds for each of 162 candidates, totalling 648 fits\n",
      "Best parameters:  {'bootstrap': False, 'max_features': 'sqrt', 'min_samples_leaf': 1, 'min_samples_split': 5, 'n_estimators': 300}\n"
     ]
    }
   ],
   "source": [
    "param_grid_rf = {'n_estimators': [200, 300,400],\n",
    "    'max_features': ['auto', 'sqrt', 'log2'],\n",
    "    'min_samples_split': [2, 5, 10],\n",
    "    'min_samples_leaf': [1, 2, 4],\n",
    "    'bootstrap': [True, False]}\n",
    "rf = RandomForestRegressor(random_state=42)\n",
    "\n",
    "rf_search = GridSearchCV(estimator=rf, param_grid=param_grid_rf,cv=4, n_jobs=8, verbose=1)\n",
    "\n",
    "rf_search.fit(X_train,y_train)\n",
    "print(\"Best parameters: \", rf_search.best_params_)"
   ]
  },
  {
   "cell_type": "code",
   "execution_count": 83,
   "id": "e1df6729-6595-491b-b5e2-134c269cc147",
   "metadata": {},
   "outputs": [],
   "source": [
    "best_rf=rf_search.best_estimator_"
   ]
  },
  {
   "cell_type": "code",
   "execution_count": 84,
   "id": "d7ed1da8-d4e4-486b-9468-29b7e8a8e6eb",
   "metadata": {},
   "outputs": [
    {
     "data": {
      "text/plain": [
       "0.700182575939156"
      ]
     },
     "execution_count": 84,
     "metadata": {},
     "output_type": "execute_result"
    }
   ],
   "source": [
    "best_rf.score(X_test,y_test)"
   ]
  },
  {
   "cell_type": "markdown",
   "id": "7297dfba-3225-4f80-ba75-2f541388a70b",
   "metadata": {},
   "source": [
    "With best parameter we can see that our R^2 improved.\n",
    "\n",
    "Now we might be able to improve this result using PCA. This can deal with the problem of presence of higly co-related variables in the dataset as well as the problem of having this big of a dataset.\n",
    "\n",
    "Let's create principal components."
   ]
  },
  {
   "cell_type": "code",
   "execution_count": 85,
   "id": "593b8a68-77c2-400b-9f10-5c4488d1fac4",
   "metadata": {},
   "outputs": [
    {
     "data": {
      "text/html": [
       "<style>#sk-container-id-8 {color: black;background-color: white;}#sk-container-id-8 pre{padding: 0;}#sk-container-id-8 div.sk-toggleable {background-color: white;}#sk-container-id-8 label.sk-toggleable__label {cursor: pointer;display: block;width: 100%;margin-bottom: 0;padding: 0.3em;box-sizing: border-box;text-align: center;}#sk-container-id-8 label.sk-toggleable__label-arrow:before {content: \"▸\";float: left;margin-right: 0.25em;color: #696969;}#sk-container-id-8 label.sk-toggleable__label-arrow:hover:before {color: black;}#sk-container-id-8 div.sk-estimator:hover label.sk-toggleable__label-arrow:before {color: black;}#sk-container-id-8 div.sk-toggleable__content {max-height: 0;max-width: 0;overflow: hidden;text-align: left;background-color: #f0f8ff;}#sk-container-id-8 div.sk-toggleable__content pre {margin: 0.2em;color: black;border-radius: 0.25em;background-color: #f0f8ff;}#sk-container-id-8 input.sk-toggleable__control:checked~div.sk-toggleable__content {max-height: 200px;max-width: 100%;overflow: auto;}#sk-container-id-8 input.sk-toggleable__control:checked~label.sk-toggleable__label-arrow:before {content: \"▾\";}#sk-container-id-8 div.sk-estimator input.sk-toggleable__control:checked~label.sk-toggleable__label {background-color: #d4ebff;}#sk-container-id-8 div.sk-label input.sk-toggleable__control:checked~label.sk-toggleable__label {background-color: #d4ebff;}#sk-container-id-8 input.sk-hidden--visually {border: 0;clip: rect(1px 1px 1px 1px);clip: rect(1px, 1px, 1px, 1px);height: 1px;margin: -1px;overflow: hidden;padding: 0;position: absolute;width: 1px;}#sk-container-id-8 div.sk-estimator {font-family: monospace;background-color: #f0f8ff;border: 1px dotted black;border-radius: 0.25em;box-sizing: border-box;margin-bottom: 0.5em;}#sk-container-id-8 div.sk-estimator:hover {background-color: #d4ebff;}#sk-container-id-8 div.sk-parallel-item::after {content: \"\";width: 100%;border-bottom: 1px solid gray;flex-grow: 1;}#sk-container-id-8 div.sk-label:hover label.sk-toggleable__label {background-color: #d4ebff;}#sk-container-id-8 div.sk-serial::before {content: \"\";position: absolute;border-left: 1px solid gray;box-sizing: border-box;top: 0;bottom: 0;left: 50%;z-index: 0;}#sk-container-id-8 div.sk-serial {display: flex;flex-direction: column;align-items: center;background-color: white;padding-right: 0.2em;padding-left: 0.2em;position: relative;}#sk-container-id-8 div.sk-item {position: relative;z-index: 1;}#sk-container-id-8 div.sk-parallel {display: flex;align-items: stretch;justify-content: center;background-color: white;position: relative;}#sk-container-id-8 div.sk-item::before, #sk-container-id-8 div.sk-parallel-item::before {content: \"\";position: absolute;border-left: 1px solid gray;box-sizing: border-box;top: 0;bottom: 0;left: 50%;z-index: -1;}#sk-container-id-8 div.sk-parallel-item {display: flex;flex-direction: column;z-index: 1;position: relative;background-color: white;}#sk-container-id-8 div.sk-parallel-item:first-child::after {align-self: flex-end;width: 50%;}#sk-container-id-8 div.sk-parallel-item:last-child::after {align-self: flex-start;width: 50%;}#sk-container-id-8 div.sk-parallel-item:only-child::after {width: 0;}#sk-container-id-8 div.sk-dashed-wrapped {border: 1px dashed gray;margin: 0 0.4em 0.5em 0.4em;box-sizing: border-box;padding-bottom: 0.4em;background-color: white;}#sk-container-id-8 div.sk-label label {font-family: monospace;font-weight: bold;display: inline-block;line-height: 1.2em;}#sk-container-id-8 div.sk-label-container {text-align: center;}#sk-container-id-8 div.sk-container {/* jupyter's `normalize.less` sets `[hidden] { display: none; }` but bootstrap.min.css set `[hidden] { display: none !important; }` so we also need the `!important` here to be able to override the default hidden behavior on the sphinx rendered scikit-learn.org. See: https://github.com/scikit-learn/scikit-learn/issues/21755 */display: inline-block !important;position: relative;}#sk-container-id-8 div.sk-text-repr-fallback {display: none;}</style><div id=\"sk-container-id-8\" class=\"sk-top-container\"><div class=\"sk-text-repr-fallback\"><pre>PCA()</pre><b>In a Jupyter environment, please rerun this cell to show the HTML representation or trust the notebook. <br />On GitHub, the HTML representation is unable to render, please try loading this page with nbviewer.org.</b></div><div class=\"sk-container\" hidden><div class=\"sk-item\"><div class=\"sk-estimator sk-toggleable\"><input class=\"sk-toggleable__control sk-hidden--visually\" id=\"sk-estimator-id-19\" type=\"checkbox\" checked><label for=\"sk-estimator-id-19\" class=\"sk-toggleable__label sk-toggleable__label-arrow\">PCA</label><div class=\"sk-toggleable__content\"><pre>PCA()</pre></div></div></div></div></div>"
      ],
      "text/plain": [
       "PCA()"
      ]
     },
     "execution_count": 85,
     "metadata": {},
     "output_type": "execute_result"
    }
   ],
   "source": [
    "from sklearn.decomposition import PCA\n",
    "pca = PCA()\n",
    "pca.fit(X_train)"
   ]
  },
  {
   "cell_type": "code",
   "execution_count": 86,
   "id": "6726859b-55a8-4f4b-918f-c8ade9bff8c7",
   "metadata": {},
   "outputs": [
    {
     "name": "stdout",
     "output_type": "stream",
     "text": [
      "(13066, 118)\n"
     ]
    }
   ],
   "source": [
    "X_train_hat = pca.transform(X_train)\n",
    "print(X_train_hat.shape)"
   ]
  },
  {
   "cell_type": "code",
   "execution_count": 87,
   "id": "878bf294-93a5-45d0-b446-0cd83b720387",
   "metadata": {},
   "outputs": [
    {
     "data": {
      "text/plain": [
       "Text(0.5, 1.0, 'Component-wise variance and cumulative explained variance')"
      ]
     },
     "execution_count": 87,
     "metadata": {},
     "output_type": "execute_result"
    },
    {
     "data": {
      "image/png": "[encoded data removed]",
      "text/plain": [
       "<Figure size 432x288 with 1 Axes>"
      ]
     },
     "metadata": {
      "needs_background": "light"
     },
     "output_type": "display_data"
    }
   ],
   "source": [
    "plt.plot(pca.explained_variance_ratio_)\n",
    "plt.plot(np.cumsum(pca.explained_variance_ratio_))\n",
    "plt.title(\"Component-wise variance and cumulative explained variance\")"
   ]
  },
  {
   "cell_type": "markdown",
   "id": "16961b80-5279-4c72-b99b-b99d87596090",
   "metadata": {},
   "source": [
    "From the above plot,We can see that close to sixty variable can explain almost 100% of the variance in the dataset."
   ]
  },
  {
   "cell_type": "code",
   "execution_count": 88,
   "id": "f44a5e83-b4d5-4cd4-8468-427b7524f1b7",
   "metadata": {},
   "outputs": [
    {
     "data": {
      "text/html": [
       "<div>\n",
       "<style scoped>\n",
       "    .dataframe tbody tr th:only-of-type {\n",
       "        vertical-align: middle;\n",
       "    }\n",
       "\n",
       "    .dataframe tbody tr th {\n",
       "        vertical-align: top;\n",
       "    }\n",
       "\n",
       "    .dataframe thead th {\n",
       "        text-align: right;\n",
       "    }\n",
       "</style>\n",
       "<table border=\"1\" class=\"dataframe\">\n",
       "  <thead>\n",
       "    <tr style=\"text-align: right;\">\n",
       "      <th></th>\n",
       "      <th>Projection  on Component 1</th>\n",
       "      <th>Projection  on Component 2</th>\n",
       "      <th>Projection  on Component 3</th>\n",
       "      <th>Projection  on Component 4</th>\n",
       "      <th>Projection  on Component 5</th>\n",
       "      <th>Projection  on Component 6</th>\n",
       "      <th>Projection  on Component 7</th>\n",
       "      <th>Projection  on Component 8</th>\n",
       "      <th>Projection  on Component 9</th>\n",
       "      <th>Projection  on Component 10</th>\n",
       "      <th>...</th>\n",
       "      <th>Projection  on Component 109</th>\n",
       "      <th>Projection  on Component 110</th>\n",
       "      <th>Projection  on Component 111</th>\n",
       "      <th>Projection  on Component 112</th>\n",
       "      <th>Projection  on Component 113</th>\n",
       "      <th>Projection  on Component 114</th>\n",
       "      <th>Projection  on Component 115</th>\n",
       "      <th>Projection  on Component 116</th>\n",
       "      <th>Projection  on Component 117</th>\n",
       "      <th>Projection  on Component 118</th>\n",
       "    </tr>\n",
       "  </thead>\n",
       "  <tbody>\n",
       "    <tr>\n",
       "      <th>0</th>\n",
       "      <td>-0.456203</td>\n",
       "      <td>-1.129399</td>\n",
       "      <td>1.542559</td>\n",
       "      <td>0.417102</td>\n",
       "      <td>0.798811</td>\n",
       "      <td>-0.220258</td>\n",
       "      <td>0.407268</td>\n",
       "      <td>0.557820</td>\n",
       "      <td>-1.000149</td>\n",
       "      <td>-0.215901</td>\n",
       "      <td>...</td>\n",
       "      <td>-2.990244e-17</td>\n",
       "      <td>-8.436549e-17</td>\n",
       "      <td>-9.182308e-17</td>\n",
       "      <td>-8.346959e-17</td>\n",
       "      <td>-5.895051e-17</td>\n",
       "      <td>-3.199060e-17</td>\n",
       "      <td>2.036487e-17</td>\n",
       "      <td>-4.265391e-17</td>\n",
       "      <td>3.894601e-17</td>\n",
       "      <td>1.663984e-16</td>\n",
       "    </tr>\n",
       "    <tr>\n",
       "      <th>1</th>\n",
       "      <td>0.794137</td>\n",
       "      <td>-2.217397</td>\n",
       "      <td>-0.673886</td>\n",
       "      <td>0.624524</td>\n",
       "      <td>-0.435046</td>\n",
       "      <td>-0.529292</td>\n",
       "      <td>0.511589</td>\n",
       "      <td>0.404980</td>\n",
       "      <td>-0.544971</td>\n",
       "      <td>-0.276297</td>\n",
       "      <td>...</td>\n",
       "      <td>-1.516412e-16</td>\n",
       "      <td>-3.937730e-17</td>\n",
       "      <td>-2.400354e-17</td>\n",
       "      <td>-1.632161e-16</td>\n",
       "      <td>-4.843534e-17</td>\n",
       "      <td>3.632901e-18</td>\n",
       "      <td>2.137049e-17</td>\n",
       "      <td>-3.046415e-17</td>\n",
       "      <td>-1.961757e-17</td>\n",
       "      <td>-1.013420e-16</td>\n",
       "    </tr>\n",
       "    <tr>\n",
       "      <th>2</th>\n",
       "      <td>-0.042077</td>\n",
       "      <td>1.720231</td>\n",
       "      <td>-0.248403</td>\n",
       "      <td>0.092927</td>\n",
       "      <td>0.996774</td>\n",
       "      <td>0.251704</td>\n",
       "      <td>-0.455862</td>\n",
       "      <td>0.307835</td>\n",
       "      <td>0.103626</td>\n",
       "      <td>0.839809</td>\n",
       "      <td>...</td>\n",
       "      <td>-1.866813e-16</td>\n",
       "      <td>1.925133e-16</td>\n",
       "      <td>3.889525e-18</td>\n",
       "      <td>3.858167e-16</td>\n",
       "      <td>-2.694943e-16</td>\n",
       "      <td>3.556051e-17</td>\n",
       "      <td>-1.433305e-16</td>\n",
       "      <td>-1.129712e-16</td>\n",
       "      <td>-2.813146e-16</td>\n",
       "      <td>2.407616e-16</td>\n",
       "    </tr>\n",
       "    <tr>\n",
       "      <th>3</th>\n",
       "      <td>2.445325</td>\n",
       "      <td>-0.205910</td>\n",
       "      <td>1.137702</td>\n",
       "      <td>0.220597</td>\n",
       "      <td>-0.542845</td>\n",
       "      <td>-0.288516</td>\n",
       "      <td>-0.193327</td>\n",
       "      <td>0.512208</td>\n",
       "      <td>0.653375</td>\n",
       "      <td>0.164610</td>\n",
       "      <td>...</td>\n",
       "      <td>4.133478e-17</td>\n",
       "      <td>-7.171860e-17</td>\n",
       "      <td>2.008995e-17</td>\n",
       "      <td>-8.015508e-17</td>\n",
       "      <td>-2.701083e-17</td>\n",
       "      <td>1.617770e-17</td>\n",
       "      <td>1.624730e-17</td>\n",
       "      <td>-3.996633e-17</td>\n",
       "      <td>-2.363033e-17</td>\n",
       "      <td>1.680233e-16</td>\n",
       "    </tr>\n",
       "    <tr>\n",
       "      <th>4</th>\n",
       "      <td>-1.647855</td>\n",
       "      <td>0.604614</td>\n",
       "      <td>0.035089</td>\n",
       "      <td>0.082695</td>\n",
       "      <td>0.961841</td>\n",
       "      <td>-1.063316</td>\n",
       "      <td>0.647976</td>\n",
       "      <td>0.167889</td>\n",
       "      <td>-0.300991</td>\n",
       "      <td>-0.368682</td>\n",
       "      <td>...</td>\n",
       "      <td>-3.350575e-16</td>\n",
       "      <td>4.427674e-17</td>\n",
       "      <td>6.580767e-17</td>\n",
       "      <td>5.182127e-17</td>\n",
       "      <td>-1.545869e-16</td>\n",
       "      <td>-1.097955e-16</td>\n",
       "      <td>-8.898742e-17</td>\n",
       "      <td>7.653417e-17</td>\n",
       "      <td>-6.703178e-17</td>\n",
       "      <td>-5.570338e-16</td>\n",
       "    </tr>\n",
       "  </tbody>\n",
       "</table>\n",
       "<p>5 rows × 118 columns</p>\n",
       "</div>"
      ],
      "text/plain": [
       "   Projection  on Component 1  Projection  on Component 2  \\\n",
       "0                   -0.456203                   -1.129399   \n",
       "1                    0.794137                   -2.217397   \n",
       "2                   -0.042077                    1.720231   \n",
       "3                    2.445325                   -0.205910   \n",
       "4                   -1.647855                    0.604614   \n",
       "\n",
       "   Projection  on Component 3  Projection  on Component 4  \\\n",
       "0                    1.542559                    0.417102   \n",
       "1                   -0.673886                    0.624524   \n",
       "2                   -0.248403                    0.092927   \n",
       "3                    1.137702                    0.220597   \n",
       "4                    0.035089                    0.082695   \n",
       "\n",
       "   Projection  on Component 5  Projection  on Component 6  \\\n",
       "0                    0.798811                   -0.220258   \n",
       "1                   -0.435046                   -0.529292   \n",
       "2                    0.996774                    0.251704   \n",
       "3                   -0.542845                   -0.288516   \n",
       "4                    0.961841                   -1.063316   \n",
       "\n",
       "   Projection  on Component 7  Projection  on Component 8  \\\n",
       "0                    0.407268                    0.557820   \n",
       "1                    0.511589                    0.404980   \n",
       "2                   -0.455862                    0.307835   \n",
       "3                   -0.193327                    0.512208   \n",
       "4                    0.647976                    0.167889   \n",
       "\n",
       "   Projection  on Component 9  Projection  on Component 10  ...  \\\n",
       "0                   -1.000149                    -0.215901  ...   \n",
       "1                   -0.544971                    -0.276297  ...   \n",
       "2                    0.103626                     0.839809  ...   \n",
       "3                    0.653375                     0.164610  ...   \n",
       "4                   -0.300991                    -0.368682  ...   \n",
       "\n",
       "   Projection  on Component 109  Projection  on Component 110  \\\n",
       "0                 -2.990244e-17                 -8.436549e-17   \n",
       "1                 -1.516412e-16                 -3.937730e-17   \n",
       "2                 -1.866813e-16                  1.925133e-16   \n",
       "3                  4.133478e-17                 -7.171860e-17   \n",
       "4                 -3.350575e-16                  4.427674e-17   \n",
       "\n",
       "   Projection  on Component 111  Projection  on Component 112  \\\n",
       "0                 -9.182308e-17                 -8.346959e-17   \n",
       "1                 -2.400354e-17                 -1.632161e-16   \n",
       "2                  3.889525e-18                  3.858167e-16   \n",
       "3                  2.008995e-17                 -8.015508e-17   \n",
       "4                  6.580767e-17                  5.182127e-17   \n",
       "\n",
       "   Projection  on Component 113  Projection  on Component 114  \\\n",
       "0                 -5.895051e-17                 -3.199060e-17   \n",
       "1                 -4.843534e-17                  3.632901e-18   \n",
       "2                 -2.694943e-16                  3.556051e-17   \n",
       "3                 -2.701083e-17                  1.617770e-17   \n",
       "4                 -1.545869e-16                 -1.097955e-16   \n",
       "\n",
       "   Projection  on Component 115  Projection  on Component 116  \\\n",
       "0                  2.036487e-17                 -4.265391e-17   \n",
       "1                  2.137049e-17                 -3.046415e-17   \n",
       "2                 -1.433305e-16                 -1.129712e-16   \n",
       "3                  1.624730e-17                 -3.996633e-17   \n",
       "4                 -8.898742e-17                  7.653417e-17   \n",
       "\n",
       "   Projection  on Component 117  Projection  on Component 118  \n",
       "0                  3.894601e-17                  1.663984e-16  \n",
       "1                 -1.961757e-17                 -1.013420e-16  \n",
       "2                 -2.813146e-16                  2.407616e-16  \n",
       "3                 -2.363033e-17                  1.680233e-16  \n",
       "4                 -6.703178e-17                 -5.570338e-16  \n",
       "\n",
       "[5 rows x 118 columns]"
      ]
     },
     "execution_count": 88,
     "metadata": {},
     "output_type": "execute_result"
    }
   ],
   "source": [
    "X_train_hat_PCA = pd.DataFrame(columns=[f'Projection  on Component {i+1}' for i in range(len(X_train.columns))], data=X_train_hat)\n",
    "X_train_hat_PCA.head()"
   ]
  },
  {
   "cell_type": "markdown",
   "id": "aaa860c4-eb51-4c95-ae16-87f52c8ed6c2",
   "metadata": {},
   "source": [
    "Let's create our training dataset."
   ]
  },
  {
   "cell_type": "code",
   "execution_count": 89,
   "id": "ea539369-cbf4-46c5-8162-8ac22b0fbc56",
   "metadata": {},
   "outputs": [],
   "source": [
    "N = 60\n",
    "X_train_hat_PCA = X_train_hat_PCA.iloc[:, :N]"
   ]
  },
  {
   "cell_type": "markdown",
   "id": "a0923463-8b82-4e01-9e4a-d9f9728f8895",
   "metadata": {},
   "source": [
    "Let's use a Random forest Regressor to fit this data."
   ]
  },
  {
   "cell_type": "code",
   "execution_count": 90,
   "id": "f3080263-24ff-41f9-88a2-e7a78cf107df",
   "metadata": {},
   "outputs": [],
   "source": [
    "rf_pca = RandomForestRegressor(n_estimators=100, max_features= 'sqrt')"
   ]
  },
  {
   "cell_type": "code",
   "execution_count": 91,
   "id": "b7760c8b-e8cf-42d7-9f3c-18216c929ff4",
   "metadata": {},
   "outputs": [
    {
     "data": {
      "text/html": [
       "<style>#sk-container-id-9 {color: black;background-color: white;}#sk-container-id-9 pre{padding: 0;}#sk-container-id-9 div.sk-toggleable {background-color: white;}#sk-container-id-9 label.sk-toggleable__label {cursor: pointer;display: block;width: 100%;margin-bottom: 0;padding: 0.3em;box-sizing: border-box;text-align: center;}#sk-container-id-9 label.sk-toggleable__label-arrow:before {content: \"▸\";float: left;margin-right: 0.25em;color: #696969;}#sk-container-id-9 label.sk-toggleable__label-arrow:hover:before {color: black;}#sk-container-id-9 div.sk-estimator:hover label.sk-toggleable__label-arrow:before {color: black;}#sk-container-id-9 div.sk-toggleable__content {max-height: 0;max-width: 0;overflow: hidden;text-align: left;background-color: #f0f8ff;}#sk-container-id-9 div.sk-toggleable__content pre {margin: 0.2em;color: black;border-radius: 0.25em;background-color: #f0f8ff;}#sk-container-id-9 input.sk-toggleable__control:checked~div.sk-toggleable__content {max-height: 200px;max-width: 100%;overflow: auto;}#sk-container-id-9 input.sk-toggleable__control:checked~label.sk-toggleable__label-arrow:before {content: \"▾\";}#sk-container-id-9 div.sk-estimator input.sk-toggleable__control:checked~label.sk-toggleable__label {background-color: #d4ebff;}#sk-container-id-9 div.sk-label input.sk-toggleable__control:checked~label.sk-toggleable__label {background-color: #d4ebff;}#sk-container-id-9 input.sk-hidden--visually {border: 0;clip: rect(1px 1px 1px 1px);clip: rect(1px, 1px, 1px, 1px);height: 1px;margin: -1px;overflow: hidden;padding: 0;position: absolute;width: 1px;}#sk-container-id-9 div.sk-estimator {font-family: monospace;background-color: #f0f8ff;border: 1px dotted black;border-radius: 0.25em;box-sizing: border-box;margin-bottom: 0.5em;}#sk-container-id-9 div.sk-estimator:hover {background-color: #d4ebff;}#sk-container-id-9 div.sk-parallel-item::after {content: \"\";width: 100%;border-bottom: 1px solid gray;flex-grow: 1;}#sk-container-id-9 div.sk-label:hover label.sk-toggleable__label {background-color: #d4ebff;}#sk-container-id-9 div.sk-serial::before {content: \"\";position: absolute;border-left: 1px solid gray;box-sizing: border-box;top: 0;bottom: 0;left: 50%;z-index: 0;}#sk-container-id-9 div.sk-serial {display: flex;flex-direction: column;align-items: center;background-color: white;padding-right: 0.2em;padding-left: 0.2em;position: relative;}#sk-container-id-9 div.sk-item {position: relative;z-index: 1;}#sk-container-id-9 div.sk-parallel {display: flex;align-items: stretch;justify-content: center;background-color: white;position: relative;}#sk-container-id-9 div.sk-item::before, #sk-container-id-9 div.sk-parallel-item::before {content: \"\";position: absolute;border-left: 1px solid gray;box-sizing: border-box;top: 0;bottom: 0;left: 50%;z-index: -1;}#sk-container-id-9 div.sk-parallel-item {display: flex;flex-direction: column;z-index: 1;position: relative;background-color: white;}#sk-container-id-9 div.sk-parallel-item:first-child::after {align-self: flex-end;width: 50%;}#sk-container-id-9 div.sk-parallel-item:last-child::after {align-self: flex-start;width: 50%;}#sk-container-id-9 div.sk-parallel-item:only-child::after {width: 0;}#sk-container-id-9 div.sk-dashed-wrapped {border: 1px dashed gray;margin: 0 0.4em 0.5em 0.4em;box-sizing: border-box;padding-bottom: 0.4em;background-color: white;}#sk-container-id-9 div.sk-label label {font-family: monospace;font-weight: bold;display: inline-block;line-height: 1.2em;}#sk-container-id-9 div.sk-label-container {text-align: center;}#sk-container-id-9 div.sk-container {/* jupyter's `normalize.less` sets `[hidden] { display: none; }` but bootstrap.min.css set `[hidden] { display: none !important; }` so we also need the `!important` here to be able to override the default hidden behavior on the sphinx rendered scikit-learn.org. See: https://github.com/scikit-learn/scikit-learn/issues/21755 */display: inline-block !important;position: relative;}#sk-container-id-9 div.sk-text-repr-fallback {display: none;}</style><div id=\"sk-container-id-9\" class=\"sk-top-container\"><div class=\"sk-text-repr-fallback\"><pre>RandomForestRegressor(max_features=&#x27;sqrt&#x27;)</pre><b>In a Jupyter environment, please rerun this cell to show the HTML representation or trust the notebook. <br />On GitHub, the HTML representation is unable to render, please try loading this page with nbviewer.org.</b></div><div class=\"sk-container\" hidden><div class=\"sk-item\"><div class=\"sk-estimator sk-toggleable\"><input class=\"sk-toggleable__control sk-hidden--visually\" id=\"sk-estimator-id-20\" type=\"checkbox\" checked><label for=\"sk-estimator-id-20\" class=\"sk-toggleable__label sk-toggleable__label-arrow\">RandomForestRegressor</label><div class=\"sk-toggleable__content\"><pre>RandomForestRegressor(max_features=&#x27;sqrt&#x27;)</pre></div></div></div></div></div>"
      ],
      "text/plain": [
       "RandomForestRegressor(max_features='sqrt')"
      ]
     },
     "execution_count": 91,
     "metadata": {},
     "output_type": "execute_result"
    }
   ],
   "source": [
    "rf_pca.fit(X_train_hat_PCA,y_train)"
   ]
  },
  {
   "cell_type": "markdown",
   "id": "717aaefd-3923-44d0-ae93-e6955acac339",
   "metadata": {},
   "source": [
    "We need to convert the test se as well."
   ]
  },
  {
   "cell_type": "code",
   "execution_count": 92,
   "id": "edb157c5-dab5-49dc-9e18-a6eaa1cee0c3",
   "metadata": {},
   "outputs": [],
   "source": [
    "X_test_hat = pca.transform(X_test)"
   ]
  },
  {
   "cell_type": "code",
   "execution_count": 93,
   "id": "61f7778d-6a06-4b73-8b77-c049d800b0b1",
   "metadata": {},
   "outputs": [
    {
     "data": {
      "text/html": [
       "<div>\n",
       "<style scoped>\n",
       "    .dataframe tbody tr th:only-of-type {\n",
       "        vertical-align: middle;\n",
       "    }\n",
       "\n",
       "    .dataframe tbody tr th {\n",
       "        vertical-align: top;\n",
       "    }\n",
       "\n",
       "    .dataframe thead th {\n",
       "        text-align: right;\n",
       "    }\n",
       "</style>\n",
       "<table border=\"1\" class=\"dataframe\">\n",
       "  <thead>\n",
       "    <tr style=\"text-align: right;\">\n",
       "      <th></th>\n",
       "      <th>Projection  on Component 1</th>\n",
       "      <th>Projection  on Component 2</th>\n",
       "      <th>Projection  on Component 3</th>\n",
       "      <th>Projection  on Component 4</th>\n",
       "      <th>Projection  on Component 5</th>\n",
       "      <th>Projection  on Component 6</th>\n",
       "      <th>Projection  on Component 7</th>\n",
       "      <th>Projection  on Component 8</th>\n",
       "      <th>Projection  on Component 9</th>\n",
       "      <th>Projection  on Component 10</th>\n",
       "      <th>...</th>\n",
       "      <th>Projection  on Component 109</th>\n",
       "      <th>Projection  on Component 110</th>\n",
       "      <th>Projection  on Component 111</th>\n",
       "      <th>Projection  on Component 112</th>\n",
       "      <th>Projection  on Component 113</th>\n",
       "      <th>Projection  on Component 114</th>\n",
       "      <th>Projection  on Component 115</th>\n",
       "      <th>Projection  on Component 116</th>\n",
       "      <th>Projection  on Component 117</th>\n",
       "      <th>Projection  on Component 118</th>\n",
       "    </tr>\n",
       "  </thead>\n",
       "  <tbody>\n",
       "    <tr>\n",
       "      <th>0</th>\n",
       "      <td>-0.939864</td>\n",
       "      <td>0.472273</td>\n",
       "      <td>-0.048738</td>\n",
       "      <td>-0.984473</td>\n",
       "      <td>0.079838</td>\n",
       "      <td>-0.484163</td>\n",
       "      <td>0.253603</td>\n",
       "      <td>-0.515581</td>\n",
       "      <td>-1.302907</td>\n",
       "      <td>-0.283778</td>\n",
       "      <td>...</td>\n",
       "      <td>3.679175e-17</td>\n",
       "      <td>-6.119839e-17</td>\n",
       "      <td>2.263452e-18</td>\n",
       "      <td>2.902123e-17</td>\n",
       "      <td>6.660710e-17</td>\n",
       "      <td>-4.022814e-18</td>\n",
       "      <td>1.330125e-16</td>\n",
       "      <td>-8.112182e-17</td>\n",
       "      <td>3.458077e-18</td>\n",
       "      <td>2.628114e-16</td>\n",
       "    </tr>\n",
       "    <tr>\n",
       "      <th>1</th>\n",
       "      <td>3.464294</td>\n",
       "      <td>0.251371</td>\n",
       "      <td>-2.139278</td>\n",
       "      <td>-1.556077</td>\n",
       "      <td>0.035251</td>\n",
       "      <td>-0.943718</td>\n",
       "      <td>0.082607</td>\n",
       "      <td>-0.988531</td>\n",
       "      <td>0.446659</td>\n",
       "      <td>-0.204918</td>\n",
       "      <td>...</td>\n",
       "      <td>-3.576265e-16</td>\n",
       "      <td>2.368723e-17</td>\n",
       "      <td>8.777589e-17</td>\n",
       "      <td>-1.730374e-16</td>\n",
       "      <td>-1.635469e-16</td>\n",
       "      <td>-1.025841e-16</td>\n",
       "      <td>7.814516e-19</td>\n",
       "      <td>1.282882e-16</td>\n",
       "      <td>-1.179921e-17</td>\n",
       "      <td>-4.363636e-17</td>\n",
       "    </tr>\n",
       "    <tr>\n",
       "      <th>2</th>\n",
       "      <td>-0.770655</td>\n",
       "      <td>0.213936</td>\n",
       "      <td>1.386916</td>\n",
       "      <td>0.389264</td>\n",
       "      <td>-0.070470</td>\n",
       "      <td>0.231768</td>\n",
       "      <td>0.780798</td>\n",
       "      <td>0.634872</td>\n",
       "      <td>-0.237527</td>\n",
       "      <td>-0.244714</td>\n",
       "      <td>...</td>\n",
       "      <td>1.145449e-16</td>\n",
       "      <td>8.953448e-17</td>\n",
       "      <td>-7.682546e-17</td>\n",
       "      <td>1.495706e-16</td>\n",
       "      <td>5.164316e-17</td>\n",
       "      <td>1.551749e-16</td>\n",
       "      <td>3.449345e-18</td>\n",
       "      <td>-8.441086e-17</td>\n",
       "      <td>4.189957e-17</td>\n",
       "      <td>3.597609e-17</td>\n",
       "    </tr>\n",
       "    <tr>\n",
       "      <th>3</th>\n",
       "      <td>-1.000692</td>\n",
       "      <td>-0.537308</td>\n",
       "      <td>-0.683932</td>\n",
       "      <td>-0.599521</td>\n",
       "      <td>-0.201263</td>\n",
       "      <td>0.759499</td>\n",
       "      <td>0.643522</td>\n",
       "      <td>-0.328630</td>\n",
       "      <td>0.145179</td>\n",
       "      <td>-0.184335</td>\n",
       "      <td>...</td>\n",
       "      <td>1.188990e-16</td>\n",
       "      <td>1.844638e-16</td>\n",
       "      <td>-4.418974e-17</td>\n",
       "      <td>2.046731e-16</td>\n",
       "      <td>1.648474e-16</td>\n",
       "      <td>9.930790e-17</td>\n",
       "      <td>-4.816548e-17</td>\n",
       "      <td>-4.367644e-17</td>\n",
       "      <td>3.571981e-17</td>\n",
       "      <td>-1.964034e-16</td>\n",
       "    </tr>\n",
       "    <tr>\n",
       "      <th>4</th>\n",
       "      <td>2.207946</td>\n",
       "      <td>-0.105253</td>\n",
       "      <td>0.051848</td>\n",
       "      <td>0.568759</td>\n",
       "      <td>0.880202</td>\n",
       "      <td>0.920216</td>\n",
       "      <td>-0.610843</td>\n",
       "      <td>-0.583551</td>\n",
       "      <td>0.223979</td>\n",
       "      <td>-0.555873</td>\n",
       "      <td>...</td>\n",
       "      <td>-8.943698e-19</td>\n",
       "      <td>1.460627e-17</td>\n",
       "      <td>-6.570577e-17</td>\n",
       "      <td>-1.328710e-17</td>\n",
       "      <td>-1.080508e-16</td>\n",
       "      <td>1.279156e-17</td>\n",
       "      <td>-4.595799e-17</td>\n",
       "      <td>-8.902145e-17</td>\n",
       "      <td>4.573074e-17</td>\n",
       "      <td>1.325107e-16</td>\n",
       "    </tr>\n",
       "  </tbody>\n",
       "</table>\n",
       "<p>5 rows × 118 columns</p>\n",
       "</div>"
      ],
      "text/plain": [
       "   Projection  on Component 1  Projection  on Component 2  \\\n",
       "0                   -0.939864                    0.472273   \n",
       "1                    3.464294                    0.251371   \n",
       "2                   -0.770655                    0.213936   \n",
       "3                   -1.000692                   -0.537308   \n",
       "4                    2.207946                   -0.105253   \n",
       "\n",
       "   Projection  on Component 3  Projection  on Component 4  \\\n",
       "0                   -0.048738                   -0.984473   \n",
       "1                   -2.139278                   -1.556077   \n",
       "2                    1.386916                    0.389264   \n",
       "3                   -0.683932                   -0.599521   \n",
       "4                    0.051848                    0.568759   \n",
       "\n",
       "   Projection  on Component 5  Projection  on Component 6  \\\n",
       "0                    0.079838                   -0.484163   \n",
       "1                    0.035251                   -0.943718   \n",
       "2                   -0.070470                    0.231768   \n",
       "3                   -0.201263                    0.759499   \n",
       "4                    0.880202                    0.920216   \n",
       "\n",
       "   Projection  on Component 7  Projection  on Component 8  \\\n",
       "0                    0.253603                   -0.515581   \n",
       "1                    0.082607                   -0.988531   \n",
       "2                    0.780798                    0.634872   \n",
       "3                    0.643522                   -0.328630   \n",
       "4                   -0.610843                   -0.583551   \n",
       "\n",
       "   Projection  on Component 9  Projection  on Component 10  ...  \\\n",
       "0                   -1.302907                    -0.283778  ...   \n",
       "1                    0.446659                    -0.204918  ...   \n",
       "2                   -0.237527                    -0.244714  ...   \n",
       "3                    0.145179                    -0.184335  ...   \n",
       "4                    0.223979                    -0.555873  ...   \n",
       "\n",
       "   Projection  on Component 109  Projection  on Component 110  \\\n",
       "0                  3.679175e-17                 -6.119839e-17   \n",
       "1                 -3.576265e-16                  2.368723e-17   \n",
       "2                  1.145449e-16                  8.953448e-17   \n",
       "3                  1.188990e-16                  1.844638e-16   \n",
       "4                 -8.943698e-19                  1.460627e-17   \n",
       "\n",
       "   Projection  on Component 111  Projection  on Component 112  \\\n",
       "0                  2.263452e-18                  2.902123e-17   \n",
       "1                  8.777589e-17                 -1.730374e-16   \n",
       "2                 -7.682546e-17                  1.495706e-16   \n",
       "3                 -4.418974e-17                  2.046731e-16   \n",
       "4                 -6.570577e-17                 -1.328710e-17   \n",
       "\n",
       "   Projection  on Component 113  Projection  on Component 114  \\\n",
       "0                  6.660710e-17                 -4.022814e-18   \n",
       "1                 -1.635469e-16                 -1.025841e-16   \n",
       "2                  5.164316e-17                  1.551749e-16   \n",
       "3                  1.648474e-16                  9.930790e-17   \n",
       "4                 -1.080508e-16                  1.279156e-17   \n",
       "\n",
       "   Projection  on Component 115  Projection  on Component 116  \\\n",
       "0                  1.330125e-16                 -8.112182e-17   \n",
       "1                  7.814516e-19                  1.282882e-16   \n",
       "2                  3.449345e-18                 -8.441086e-17   \n",
       "3                 -4.816548e-17                 -4.367644e-17   \n",
       "4                 -4.595799e-17                 -8.902145e-17   \n",
       "\n",
       "   Projection  on Component 117  Projection  on Component 118  \n",
       "0                  3.458077e-18                  2.628114e-16  \n",
       "1                 -1.179921e-17                 -4.363636e-17  \n",
       "2                  4.189957e-17                  3.597609e-17  \n",
       "3                  3.571981e-17                 -1.964034e-16  \n",
       "4                  4.573074e-17                  1.325107e-16  \n",
       "\n",
       "[5 rows x 118 columns]"
      ]
     },
     "execution_count": 93,
     "metadata": {},
     "output_type": "execute_result"
    }
   ],
   "source": [
    "X_test_hat_PCA = pd.DataFrame(columns=[f'Projection  on Component {i+1}' for i in range(len(X_train.columns))], data=X_test_hat)\n",
    "X_test_hat_PCA.head()"
   ]
  },
  {
   "cell_type": "markdown",
   "id": "5ec92a21-ea73-4428-9872-9665e60590c6",
   "metadata": {},
   "source": [
    "Let's create test dataset."
   ]
  },
  {
   "cell_type": "code",
   "execution_count": 94,
   "id": "81c91235-cdf7-4471-a687-accb7db84da5",
   "metadata": {},
   "outputs": [],
   "source": [
    "X_test_hat_PCA = X_test_hat_PCA.iloc[:, :N]"
   ]
  },
  {
   "cell_type": "code",
   "execution_count": 95,
   "id": "cebf2ad1-af0b-4a1e-95b2-3b6163038ff7",
   "metadata": {},
   "outputs": [
    {
     "data": {
      "text/plain": [
       "0.6577151299039611"
      ]
     },
     "execution_count": 95,
     "metadata": {},
     "output_type": "execute_result"
    }
   ],
   "source": [
    "r2_score(y_test,rf_pca.predict(X_test_hat_PCA))"
   ]
  },
  {
   "cell_type": "markdown",
   "id": "b2cb1213-8e8f-494c-8479-91c7ae26a1c9",
   "metadata": {},
   "source": [
    "The R^2 score is found to be 65.81% which is not an improvement but hypeparameter tuning might give us a better result."
   ]
  },
  {
   "cell_type": "code",
   "execution_count": 96,
   "id": "708f847f-3518-4de3-9481-42a099f31bb1",
   "metadata": {},
   "outputs": [
    {
     "name": "stdout",
     "output_type": "stream",
     "text": [
      "Fitting 4 folds for each of 162 candidates, totalling 648 fits\n",
      "Best parameters:  {'bootstrap': True, 'max_features': 'auto', 'min_samples_leaf': 1, 'min_samples_split': 2, 'n_estimators': 400}\n"
     ]
    }
   ],
   "source": [
    "param_grid_rf_pca= {'n_estimators': [200, 300,400],\n",
    "    'max_features': ['auto', 'sqrt', 'log2'],\n",
    "    'min_samples_split': [2, 5, 10],\n",
    "    'min_samples_leaf': [1, 2, 4],\n",
    "    'bootstrap': [True, False]}\n",
    "rf_pca= RandomForestRegressor(random_state=42)\n",
    "\n",
    "rf_search_pca = GridSearchCV(estimator=rf_pca, param_grid=param_grid_rf_pca,cv=4, n_jobs=8, verbose=1)\n",
    "\n",
    "rf_search_pca.fit(X_train_hat_PCA,y_train)\n",
    "print(\"Best parameters: \", rf_search_pca.best_params_)"
   ]
  },
  {
   "cell_type": "code",
   "execution_count": 97,
   "id": "b72c73f9-7ce7-4afe-adc2-3928721bd6a4",
   "metadata": {},
   "outputs": [],
   "source": [
    "best_rf_pca=rf_search_pca.best_estimator_"
   ]
  },
  {
   "cell_type": "code",
   "execution_count": 98,
   "id": "2ee77490-4fce-42be-a4d1-ff3e60d97c3f",
   "metadata": {},
   "outputs": [
    {
     "data": {
      "text/plain": [
       "0.6653690634227016"
      ]
     },
     "execution_count": 98,
     "metadata": {},
     "output_type": "execute_result"
    }
   ],
   "source": [
    "best_rf_pca.score(X_test_hat_PCA,y_test)"
   ]
  },
  {
   "cell_type": "markdown",
   "id": "30524a1a-8c25-438e-a57c-e5a460974591",
   "metadata": {},
   "source": [
    "By hyperparameter tuning we get a result of 66.54% for R^2 which is improvement over previous PCA data fitted model but still under performing compared to  Random Forest Regressor with actual data. Maybe more exhaustive GridSearch can give us a better result."
   ]
  },
  {
   "cell_type": "code",
   "execution_count": null,
   "id": "a94543cc-c63a-4ca0-8c10-bf470c8bcd5d",
   "metadata": {},
   "outputs": [],
   "source": []
  }
 ],
 "metadata": {
  "kernelspec": {
   "display_name": "Python 3 (ipykernel)",
   "language": "python",
   "name": "python3"
  },
  "language_info": {
   "codemirror_mode": {
    "name": "ipython",
    "version": 3
   },
   "file_extension": ".py",
   "mimetype": "text/x-python",
   "name": "python",
   "nbconvert_exporter": "python",
   "pygments_lexer": "ipython3",
   "version": "3.9.12"
  }
 },
 "nbformat": 4,
 "nbformat_minor": 5
}
